{
  "nbformat": 4,
  "nbformat_minor": 0,
  "metadata": {
    "colab": {
      "provenance": []
    },
    "kernelspec": {
      "name": "python3",
      "display_name": "Python 3"
    },
    "language_info": {
      "name": "python"
    }
  },
  "cells": [
    {
      "cell_type": "code",
      "source": [],
      "metadata": {
        "id": "7SbiFMm1ZZyA"
      },
      "execution_count": null,
      "outputs": []
    },
    {
      "cell_type": "code",
      "source": [
        "# ============================================================================\n",
        "# CELL 1: Setup and Mount Drive\n",
        "# ============================================================================\n",
        "from google.colab import drive\n",
        "drive.mount('/content/drive')\n",
        "\n",
        "print(\"✓ Google Drive mounted successfully\")\n"
      ],
      "metadata": {
        "colab": {
          "base_uri": "https://localhost:8080/"
        },
        "id": "0iS2msy9pp8m",
        "outputId": "86e09ab0-82a4-4e7a-dd4a-229a68455764"
      },
      "execution_count": null,
      "outputs": [
        {
          "output_type": "stream",
          "name": "stdout",
          "text": [
            "Mounted at /content/drive\n",
            "✓ Google Drive mounted successfully\n"
          ]
        }
      ]
    },
    {
      "cell_type": "code",
      "execution_count": null,
      "metadata": {
        "colab": {
          "base_uri": "https://localhost:8080/"
        },
        "id": "7eGmdAWz5iFo",
        "outputId": "9ef6c39b-ca8b-4ca9-fa59-c0acc2c73540"
      },
      "outputs": [
        {
          "output_type": "stream",
          "name": "stdout",
          "text": [
            "Cloning into 'WLASL'...\n",
            "remote: Enumerating objects: 237, done.\u001b[K\n",
            "remote: Counting objects: 100% (90/90), done.\u001b[K\n",
            "remote: Compressing objects: 100% (41/41), done.\u001b[K\n",
            "remote: Total 237 (delta 60), reused 49 (delta 49), pack-reused 147 (from 4)\u001b[K\n",
            "Receiving objects: 100% (237/237), 3.74 MiB | 19.05 MiB/s, done.\n",
            "Resolving deltas: 100% (93/93), done.\n"
          ]
        }
      ],
      "source": [
        "!git clone https://github.com/dxli94/WLASL.git"
      ]
    },
    {
      "cell_type": "code",
      "source": [
        "!pip -q install yt-dlp tqdm"
      ],
      "metadata": {
        "colab": {
          "base_uri": "https://localhost:8080/"
        },
        "id": "al2i3yC5Y-D8",
        "outputId": "730852d0-d01e-4f52-bdf7-bdf2ad314cb6"
      },
      "execution_count": null,
      "outputs": [
        {
          "output_type": "stream",
          "name": "stdout",
          "text": [
            "\u001b[2K     \u001b[90m━━━━━━━━━━━━━━━━━━━━━━━━━━━━━━━━━━━━━━━\u001b[0m \u001b[32m175.9/175.9 kB\u001b[0m \u001b[31m4.6 MB/s\u001b[0m eta \u001b[36m0:00:00\u001b[0m\n",
            "\u001b[2K   \u001b[90m━━━━━━━━━━━━━━━━━━━━━━━━━━━━━━━━━━━━━━━━\u001b[0m \u001b[32m3.2/3.2 MB\u001b[0m \u001b[31m13.0 MB/s\u001b[0m eta \u001b[36m0:00:00\u001b[0m\n",
            "\u001b[?25h"
          ]
        }
      ]
    },
    {
      "cell_type": "code",
      "source": [
        "import json, re, itertools\n",
        "from pathlib import Path\n",
        "\n",
        "ann_path = Path(\"WLASL\") / \"start_kit\" / \"WLASL_v0.3.json\"  # try v1.1 (common); if missing, check repo for latest\n",
        "with open(ann_path, \"r\") as f:\n",
        "    WLASL = json.load(f)\n",
        "\n",
        "want = [\"HELLO\",\"THANK YOU\",\"PLEASE\",\"YES\",\"NO\",\"HELP\",\"STOP\",\"SORRY\",\"GOOD\",\"BAD\"]\n",
        "norm = lambda s: re.sub(r\"[^A-Z0-9]\", \"\", s.upper())\n",
        "\n",
        "# find candidate glosses for each target\n",
        "candidates = {}\n",
        "all_glosses = sorted({e[\"gloss\"] for e in WLASL})\n",
        "for w in want:\n",
        "    wnorm = norm(w)\n",
        "    hits = [g for g in all_glosses if norm(g)==wnorm or w in g or w.replace(\" \",\"_\") in g or w.replace(\" \",\"-\") in g]\n",
        "    if not hits:\n",
        "        # fallback: fuzzy contains ignoring - and _\n",
        "        hits = [g for g in all_glosses if norm(g)==wnorm or norm(w) in norm(g)]\n",
        "    candidates[w] = hits[:10]\n",
        "\n",
        "candidates  # review this dict and pick one gloss per word"
      ],
      "metadata": {
        "colab": {
          "base_uri": "https://localhost:8080/"
        },
        "id": "zop2NO5TZMpZ",
        "outputId": "6b42903d-4914-4a17-97c3-a3ac92e5ce02"
      },
      "execution_count": null,
      "outputs": [
        {
          "output_type": "execute_result",
          "data": {
            "text/plain": [
              "{'HELLO': ['hello'],\n",
              " 'THANK YOU': ['thank you'],\n",
              " 'PLEASE': ['please'],\n",
              " 'YES': ['yes'],\n",
              " 'NO': ['no'],\n",
              " 'HELP': ['help'],\n",
              " 'STOP': ['stop'],\n",
              " 'SORRY': ['sorry'],\n",
              " 'GOOD': ['good'],\n",
              " 'BAD': ['bad']}"
            ]
          },
          "metadata": {},
          "execution_count": 4
        }
      ]
    },
    {
      "cell_type": "markdown",
      "source": [
        "Cell 1 - Discover classes & counts (from your downloaded clips)"
      ],
      "metadata": {
        "id": "8g7NA_UQgGVD"
      }
    },
    {
      "cell_type": "code",
      "source": [
        "import os, math, subprocess, shlex, random\n",
        "from pathlib import Path\n",
        "from tqdm import tqdm\n",
        "\n",
        "DATA_ROOT = Path(\"/content/data/word_videos\")\n",
        "TMP = Path(\"/content/tmp_wlasl_raw\")\n",
        "for p in [DATA_ROOT, TMP]:\n",
        "    p.mkdir(parents=True, exist_ok=True)\n",
        "\n",
        "N_PER_CLASS = 40    # adjust as needed\n",
        "random.seed(1234)\n",
        "\n",
        "def pick_samples_for_gloss(gloss, n):\n",
        "    pool = [s for s in samples if s[\"gloss\"] == gloss]\n",
        "    random.shuffle(pool)\n",
        "    return pool[:n]\n",
        "\n",
        "def get_url(s):\n",
        "    # Prefer explicit URL; else fall back to YouTube ID if present\n",
        "    if \"url\" in s and s[\"url\"]:\n",
        "        return s[\"url\"]\n",
        "    vid = s.get(\"video_id\") or s.get(\"video\")\n",
        "    return f\"https://www.youtube.com/watch?v={vid}\" if vid else None\n",
        "\n",
        "def to_seconds(frame_idx, fps):\n",
        "    return max(0.0, (frame_idx - 1) / (fps or 25))\n",
        "\n",
        "def run(cmd_list):\n",
        "    # Set text=False to prevent decoding errors\n",
        "    return subprocess.run(cmd_list, stdout=subprocess.PIPE, stderr=subprocess.STDOUT, text=False)\n",
        "\n",
        "for g in CLASS_LIST:\n",
        "    items = pick_samples_for_gloss(g, N_PER_CLASS)\n",
        "    outdir = DATA_ROOT / g\n",
        "    outdir.mkdir(parents=True, exist_ok=True)\n",
        "    for s in tqdm(items, desc=f\"Downloading {g}\"):\n",
        "        url = get_url(s)\n",
        "        if not url:\n",
        "            continue\n",
        "        fps = s.get(\"fps\", 25)\n",
        "        fs, fe = int(s.get(\"frame_start\", 1)), int(s.get(\"frame_end\", -1))\n",
        "        if fe == -1: fe = fs + 75  # ~3s fallback\n",
        "        ss, ee = to_seconds(fs, fps), to_seconds(fe, fps)\n",
        "        dur = max(0.2, ee - ss)\n",
        "        vid = s.get(\"video_id\") or s.get(\"id\") or f\"seg_{fs}_{fe}\"\n",
        "        raw = TMP / f\"{vid}.mp4\"\n",
        "        if not raw.exists():\n",
        "            # Use list for yt-dlp command\n",
        "            yt_dlp_cmd = ['yt-dlp', '-f', 'mp4', '-o', str(raw), url]\n",
        "            _ = run(yt_dlp_cmd)\n",
        "        if not raw.exists():\n",
        "            # link might be dead; skip\n",
        "            continue\n",
        "        out = outdir / f\"{g}_{vid}_{fs}_{fe}.mp4\"\n",
        "        # Use list for ffmpeg command\n",
        "        ffmpeg_cmd = [\n",
        "            'ffmpeg', '-y', '-ss', f'{ss:.3f}', '-i', str(raw), '-t', f'{dur:.3f}',\n",
        "            '-an', '-c:v', 'libx264', '-preset', 'veryfast', '-crf', '23', str(out)\n",
        "        ]\n",
        "        _ = run(ffmpeg_cmd)"
      ],
      "metadata": {
        "colab": {
          "base_uri": "https://localhost:8080/"
        },
        "id": "znfwdJATbMgM",
        "outputId": "9df5e1ed-9ec0-4d1a-d141-b33bea49d9bb"
      },
      "execution_count": null,
      "outputs": [
        {
          "output_type": "stream",
          "name": "stderr",
          "text": [
            "Downloading hello: 100%|██████████| 13/13 [01:03<00:00,  4.91s/it]\n",
            "Downloading thank you: 100%|██████████| 14/14 [00:53<00:00,  3.83s/it]\n",
            "Downloading please: 100%|██████████| 15/15 [01:06<00:00,  4.41s/it]\n",
            "Downloading yes: 100%|██████████| 22/22 [01:53<00:00,  5.14s/it]\n",
            "Downloading no: 100%|██████████| 22/22 [01:51<00:00,  5.06s/it]\n",
            "Downloading help: 100%|██████████| 22/22 [01:05<00:00,  2.96s/it]\n",
            "Downloading stop: 100%|██████████| 11/11 [00:43<00:00,  3.95s/it]\n",
            "Downloading sorry: 100%|██████████| 14/14 [01:01<00:00,  4.40s/it]\n",
            "Downloading good: 100%|██████████| 16/16 [01:04<00:00,  4.05s/it]\n",
            "Downloading bad: 100%|██████████| 16/16 [01:06<00:00,  4.14s/it]\n"
          ]
        }
      ]
    },
    {
      "cell_type": "code",
      "source": [
        "import os, json, math, subprocess, shlex, random\n",
        "from pathlib import Path\n",
        "from tqdm import tqdm\n",
        "\n",
        "DATA_ROOT = Path(\"/content/data/word_videos\")\n",
        "DATA_ROOT.mkdir(parents=True, exist_ok=True)\n",
        "N_PER_CLASS = 40            # try 20–40 per word to start\n",
        "RANDOM_SEED = 1234\n",
        "random.seed(RANDOM_SEED)\n",
        "\n",
        "# >>> Replace with the exact glosses you chose from the candidates above <<<\n",
        "CLASS_LIST = [\"HELLO\",\"THANK-YOU\",\"PLEASE\",\"YES\",\"NO\",\"HELP\",\"STOP\",\"SORRY\",\"GOOD\",\"BAD\"]\n",
        "\n",
        "with open(ann_path, \"r\") as f:\n",
        "    WLASL = json.load(f)\n",
        "\n",
        "# group instances by gloss\n",
        "by_gloss = {g: [] for g in CLASS_LIST}\n",
        "for entry in WLASL:\n",
        "    g = entry[\"gloss\"]\n",
        "    if g in by_gloss:\n",
        "        for inst in entry[\"instances\"]:\n",
        "            # Some JSON versions use \"video_id\" (YouTube ID); build URL\n",
        "            vid = inst.get(\"video_id\") or inst.get(\"video\", \"\")\n",
        "            if not vid:\n",
        "                continue\n",
        "            url = f\"https://www.youtube.com/watch?v={vid}\"\n",
        "            fps = entry.get(\"fps\", 25)  # WLASL states decoding at 25 fps\n",
        "            fs, fe = inst[\"frame_start\"], inst[\"frame_end\"]\n",
        "            if fe == -1:\n",
        "                fe = fs + 75  # fallback: ~3s segment if end is -1\n",
        "            start_s, end_s = (fs-1)/fps, (fe-1)/fps\n",
        "            by_gloss[g].append({\n",
        "                \"url\": url, \"start\": start_s, \"end\": end_s, \"signer\": inst.get(\"signer_id\", -1),\n",
        "                \"id\": f'{vid}_{fs}_{fe}'\n",
        "            })\n",
        "\n",
        "# shuffle and cut down to N_PER_CLASS each\n",
        "for g in CLASS_LIST:\n",
        "    random.shuffle(by_gloss[g])\n",
        "    by_gloss[g] = by_gloss[g][:N_PER_CLASS]\n",
        "\n",
        "# download + trim\n",
        "def run(cmd):\n",
        "    return subprocess.run(shlex.split(cmd), stdout=subprocess.PIPE, stderr=subprocess.STDOUT, text=True)\n",
        "\n",
        "TMP = Path(\"/content/tmp_wlasl_raw\"); TMP.mkdir(exist_ok=True, parents=True)\n",
        "\n",
        "for g in CLASS_LIST:\n",
        "    outdir = DATA_ROOT / g\n",
        "    outdir.mkdir(parents=True, exist_ok=True)\n",
        "    for item in tqdm(by_gloss[g], desc=f\"Downloading {g}\"):\n",
        "        url, start, end, vid = item[\"url\"], item[\"start\"], item[\"end\"], item[\"id\"]\n",
        "        raw = TMP / f\"{vid}.mp4\"\n",
        "        if not raw.exists():\n",
        "            r = run(f'yt-dlp -f mp4 -o \"{raw}\" {url}')\n",
        "        if not raw.exists():\n",
        "            # skip if YouTube unavailable\n",
        "            continue\n",
        "        # trim (re-encode for reliable cuts)\n",
        "        out = outdir / f\"{g}_{vid}.mp4\"\n",
        "        dur = max(0.2, end - start)\n",
        "        cmd = f'ffmpeg -y -ss {start:.3f} -i \"{raw}\" -t {dur:.3f} -an -c:v libx264 -preset veryfast -crf 23 \"{out}\"'\n",
        "        run(cmd)\n"
      ],
      "metadata": {
        "colab": {
          "base_uri": "https://localhost:8080/"
        },
        "id": "QfqgObcwaBe5",
        "outputId": "d02c96a1-e6a4-432e-cec0-d7eb8ec0b55b"
      },
      "execution_count": null,
      "outputs": [
        {
          "output_type": "stream",
          "name": "stderr",
          "text": [
            "Downloading HELLO: 0it [00:00, ?it/s]\n",
            "Downloading THANK-YOU: 0it [00:00, ?it/s]\n",
            "Downloading PLEASE: 0it [00:00, ?it/s]\n",
            "Downloading YES: 0it [00:00, ?it/s]\n",
            "Downloading NO: 0it [00:00, ?it/s]\n",
            "Downloading HELP: 0it [00:00, ?it/s]\n",
            "Downloading STOP: 0it [00:00, ?it/s]\n",
            "Downloading SORRY: 0it [00:00, ?it/s]\n",
            "Downloading GOOD: 0it [00:00, ?it/s]\n",
            "Downloading BAD: 0it [00:00, ?it/s]\n"
          ]
        }
      ]
    },
    {
      "cell_type": "markdown",
      "source": [
        "Cell 2 — Build stratified splits (train/val/test) and preprocess to NPY"
      ],
      "metadata": {
        "id": "7j-plYRbgTIa"
      }
    },
    {
      "cell_type": "code",
      "source": [
        "from pathlib import Path\n",
        "import json, glob, itertools\n",
        "\n",
        "# 1) Auto-pick the WLASL annotation JSON\n",
        "# candidates = sorted(glob.glob(\"WLASL/WLASL_v*.json\"))\n",
        "# assert candidates, \"No WLASL_v*.json found in ./WLASL — did you clone the repo?\"\n",
        "ann_path = Path(\"WLASL\") / \"start_kit\" / \"WLASL_v0.3.json\"  # Use the known correct path\n",
        "# ann_path = candidates[-1]  # pick the newest version\n",
        "print(\"Using annotation file:\", ann_path)\n",
        "\n",
        "# 2) Load + normalize to a uniform \"samples list\"\n",
        "raw = json.load(open(ann_path, \"r\"))\n",
        "\n",
        "# Support both possible formats:\n",
        "# A) [{\"gloss\": \"HELLO\", \"instances\":[{...}, ...]}, ...]\n",
        "# B) [{\"gloss\": \"HELLO\", \"url\": \"...\", \"frame_start\": ..., ...}, ...]\n",
        "samples = []\n",
        "if raw and isinstance(raw[0], dict) and \"instances\" in raw[0]:\n",
        "    for entry in raw:\n",
        "        g = entry[\"gloss\"]\n",
        "        for inst in entry[\"instances\"]:\n",
        "            s = {\"gloss\": g}\n",
        "            s.update(inst)\n",
        "            samples.append(s)\n",
        "else:\n",
        "    samples = raw\n",
        "\n",
        "print(f\"Total samples parsed: {len(samples)}\")\n",
        "print(\"Example keys of one sample:\", sorted(samples[0].keys()))\n",
        "# Summarize how many samples per gloss (top 20)\n",
        "from collections import Counter\n",
        "cnt = Counter([s[\"gloss\"] for s in samples])\n",
        "print(\"Top glosses by count:\", cnt.most_common(20)[:10])"
      ],
      "metadata": {
        "colab": {
          "base_uri": "https://localhost:8080/"
        },
        "id": "KsjWz1dbarjt",
        "outputId": "156bbb87-bc2f-4b01-f284-5725a46d9979"
      },
      "execution_count": null,
      "outputs": [
        {
          "output_type": "stream",
          "name": "stdout",
          "text": [
            "Using annotation file: WLASL/start_kit/WLASL_v0.3.json\n",
            "Total samples parsed: 21083\n",
            "Example keys of one sample: ['bbox', 'fps', 'frame_end', 'frame_start', 'gloss', 'instance_id', 'signer_id', 'source', 'split', 'url', 'variation_id', 'video_id']\n",
            "Top glosses by count: [('book', 40), ('drink', 35), ('computer', 30), ('before', 26), ('chair', 26), ('go', 26), ('clothes', 25), ('who', 25), ('candy', 24), ('cousin', 23)]\n"
          ]
        }
      ]
    },
    {
      "cell_type": "code",
      "source": [
        "from pathlib import Path\n",
        "import glob, os\n",
        "from collections import Counter\n",
        "\n",
        "DATA_ROOT = Path(\"/content/data/word_videos\")  # ← adjust if different\n",
        "assert DATA_ROOT.exists(), f\"Folder not found: {DATA_ROOT}\"\n",
        "\n",
        "# Auto-discover class names from subfolders, excluding hidden directories\n",
        "WORDS = sorted([p.name for p in DATA_ROOT.iterdir() if p.is_dir() and not p.name.startswith('.')])\n",
        "print(\"Discovered classes:\", WORDS)\n",
        "\n",
        "# Count videos per class\n",
        "counts = {w: len(glob.glob(str(DATA_ROOT / w / \"*.*\"))) for w in WORDS}\n",
        "print(\"Per-class counts:\", counts)\n",
        "\n",
        "\n",
        "import numpy as np, json\n",
        "from collections import Counter\n",
        "\n",
        "NPY_OUT = \"/content/data/word_splits\"\n",
        "X_train = np.load(f\"{NPY_OUT}/X_train.npy\", mmap_mode='r')\n",
        "y_train = np.load(f\"{NPY_OUT}/y_train.npy\", mmap_mode='r')\n",
        "X_val   = np.load(f\"{NPY_OUT}/X_val.npy\",   mmap_mode='r')\n",
        "y_val   = np.load(f\"{NPY_OUT}/y_val.npy\",   mmap_mode='r')\n",
        "X_test  = np.load(f\"{NPY_OUT}/X_test.npy\",  mmap_mode='r')\n",
        "y_test  = np.load(f\"{NPY_OUT}/y_test.npy\",  mmap_mode='r')\n",
        "WORDS = json.load(open(f\"{NPY_OUT}/labels.json\"))\n",
        "\n",
        "def pretty_counts(name, y):\n",
        "    c = Counter(y.tolist())\n",
        "    print(name, {WORDS[k]: c[k] for k in sorted(c)})\n",
        "\n",
        "pretty_counts(\"train\", y_train)\n",
        "pretty_counts(\"val\",   y_val)\n",
        "pretty_counts(\"test\",  y_test)\n",
        "print(\"sizes:\", len(y_train), len(y_val), len(y_test))\n"
      ],
      "metadata": {
        "colab": {
          "base_uri": "https://localhost:8080/"
        },
        "id": "a3WX2sIHgDjB",
        "outputId": "f093f508-8ee5-46e2-ec18-bc47591bb2ca"
      },
      "execution_count": null,
      "outputs": [
        {
          "output_type": "stream",
          "name": "stdout",
          "text": [
            "Discovered classes: ['bad', 'good', 'hello', 'help', 'no', 'please', 'sorry', 'stop', 'thank you', 'yes']\n",
            "Per-class counts: {'bad': 11, 'good': 11, 'hello': 7, 'help': 11, 'no': 15, 'please': 9, 'sorry': 9, 'stop': 6, 'thank you': 7, 'yes': 16}\n",
            "train {'bad': 7, 'good': 7, 'hello': 5, 'help': 7, 'no': 11, 'please': 7, 'sorry': 7, 'stop': 4, 'thank you': 5, 'yes': 12}\n",
            "val {'bad': 2, 'good': 2, 'hello': 1, 'help': 2, 'no': 2, 'please': 1, 'sorry': 1, 'stop': 1, 'thank you': 1, 'yes': 2}\n",
            "test {'bad': 2, 'good': 2, 'hello': 1, 'help': 2, 'no': 2, 'please': 1, 'sorry': 1, 'stop': 1, 'thank you': 1, 'yes': 2}\n",
            "sizes: 72 15 15\n"
          ]
        }
      ]
    },
    {
      "cell_type": "code",
      "source": [
        "import re\n",
        "from collections import defaultdict, Counter\n",
        "\n",
        "want = [\"HELLO\",\"THANK YOU\",\"PLEASE\",\"YES\",\"NO\",\"HELP\",\"STOP\",\"SORRY\",\"GOOD\",\"BAD\"]\n",
        "def norm(s): return re.sub(r\"[^A-Z0-9]\", \"\", s.upper())\n",
        "\n",
        "all_glosses = sorted(set(s[\"gloss\"] for s in samples))\n",
        "by_gloss = defaultdict(list)\n",
        "for s in samples:\n",
        "    by_gloss[s[\"gloss\"]].append(s)\n",
        "\n",
        "mapping = {}\n",
        "for w in want:\n",
        "    wn = norm(w)\n",
        "    # exact normalized, then fuzzy contains\n",
        "    cands = [g for g in all_glosses if norm(g) == wn] or \\\n",
        "            [g for g in all_glosses if wn in norm(g)]\n",
        "    # rank by number of instances\n",
        "    cands = sorted(cands, key=lambda g: len(by_gloss[g]), reverse=True)\n",
        "    mapping[w] = cands[:5]\n",
        "\n",
        "print(\"Candidates per target (top 5 by count):\")\n",
        "for w, c in mapping.items():\n",
        "    print(f\"{w:>10} -> {c[:5]} (counts: {[len(by_gloss[g]) for g in c[:5]]})\")\n",
        "\n",
        "# >>> PICK the first option for each word unless you have a better choice\n",
        "CLASS_LIST = []\n",
        "for w in want:\n",
        "    chosen = mapping[w][0] if mapping[w] else None\n",
        "    if not chosen:\n",
        "        print(\"No gloss candidates for:\", w)\n",
        "    else:\n",
        "        CLASS_LIST.append(chosen)\n",
        "\n",
        "print(\"\\nChosen CLASS_LIST =\", CLASS_LIST)\n",
        "print({g: len(by_gloss[g]) for g in CLASS_LIST})\n"
      ],
      "metadata": {
        "colab": {
          "base_uri": "https://localhost:8080/"
        },
        "id": "nEctP_9rbHYE",
        "outputId": "719699ff-7606-48b4-ab37-c146346da05c"
      },
      "execution_count": null,
      "outputs": [
        {
          "output_type": "stream",
          "name": "stdout",
          "text": [
            "Candidates per target (top 5 by count):\n",
            "     HELLO -> ['hello'] (counts: [13])\n",
            " THANK YOU -> ['thank you'] (counts: [14])\n",
            "    PLEASE -> ['please'] (counts: [15])\n",
            "       YES -> ['yes'] (counts: [22])\n",
            "        NO -> ['no'] (counts: [22])\n",
            "      HELP -> ['help'] (counts: [22])\n",
            "      STOP -> ['stop'] (counts: [11])\n",
            "     SORRY -> ['sorry'] (counts: [14])\n",
            "      GOOD -> ['good'] (counts: [16])\n",
            "       BAD -> ['bad'] (counts: [16])\n",
            "\n",
            "Chosen CLASS_LIST = ['hello', 'thank you', 'please', 'yes', 'no', 'help', 'stop', 'sorry', 'good', 'bad']\n",
            "{'hello': 13, 'thank you': 14, 'please': 15, 'yes': 22, 'no': 22, 'help': 22, 'stop': 11, 'sorry': 14, 'good': 16, 'bad': 16}\n"
          ]
        }
      ]
    },
    {
      "cell_type": "code",
      "source": [
        "import numpy as np, cv2, json, math, random, glob, os\n",
        "from pathlib import Path\n",
        "from collections import defaultdict\n",
        "\n",
        "random.seed(1234)\n",
        "np.random.seed(1234)\n",
        "\n",
        "NPY_OUT = Path(\"/content/data/word_splits\")\n",
        "NPY_OUT.mkdir(parents=True, exist_ok=True)\n",
        "\n",
        "IMAGE_SIZE = (128,128)   # training resolution\n",
        "T = 24                   # frames per clip (uniform sampling)\n",
        "VAL_SPLIT = 0.15\n",
        "TEST_SPLIT = 0.15\n",
        "\n",
        "def list_videos_folder(root, words):\n",
        "    items = []\n",
        "    for w in words:\n",
        "        for p in glob.glob(str(Path(root)/w/\"*.*\")):\n",
        "            if p.lower().endswith((\".mp4\",\".mov\",\".avi\",\".mkv\",\".webm\")):\n",
        "                items.append((p, w))\n",
        "    return items\n",
        "\n",
        "def split_items(items, val_ratio=0.15, test_ratio=0.15, seed=1234):\n",
        "    by_label = defaultdict(list)\n",
        "    for p, w in items:\n",
        "        by_label[w].append(p)\n",
        "    rng = np.random.default_rng(seed)\n",
        "    train, val, test = [], [], []\n",
        "    for w, paths in by_label.items():\n",
        "        rng.shuffle(paths)\n",
        "        n = len(paths)\n",
        "        nv = max(1, int(round(n*val_ratio))) if n>=6 else max(1, int(n*0.2))\n",
        "        nt = max(1, int(round(n*test_ratio))) if n>=6 else max(1, int(n*0.2))\n",
        "        # Cap so we don't exceed n\n",
        "        nv = min(nv, max(1, n//4))\n",
        "        nt = min(nt, max(1, (n-nv)//4)) if n-nv>=2 else 1\n",
        "        val.extend([(p,w) for p in paths[:nv]])\n",
        "        test.extend([(p,w) for p in paths[nv:nv+nt]])\n",
        "        train.extend([(p,w) for p in paths[nv+nt:]])\n",
        "    return train, val, test\n",
        "\n",
        "def read_video_uniform(path, T=24, target_hw=(128,128)):\n",
        "    cap = cv2.VideoCapture(path)\n",
        "    if not cap.isOpened():\n",
        "        raise IOError(f\"Cannot open video: {path}\")\n",
        "    frames = int(cap.get(cv2.CAP_PROP_FRAME_COUNT))\n",
        "    idxs = np.linspace(0, max(frames-1,0), T).astype(int) if frames>0 else np.zeros(T, dtype=int)\n",
        "\n",
        "    imgs = np.empty((T, target_hw[0], target_hw[1], 3), dtype=np.float32)\n",
        "    filled = np.zeros((T,), dtype=bool)\n",
        "    f_idx = 0\n",
        "    ok, frame = cap.read()\n",
        "    while ok:\n",
        "        if f_idx in idxs:\n",
        "            h,w = frame.shape[:2]\n",
        "            m = min(h,w); y0=(h-m)//2; x0=(w-m)//2\n",
        "            crop = frame[y0:y0+m, x0:x0+m]\n",
        "            crop = cv2.resize(crop, target_hw, interpolation=cv2.INTER_AREA)\n",
        "            rgb = cv2.cvtColor(crop, cv2.COLOR_BGR2RGB)\n",
        "            pos = np.where(idxs==f_idx)[0][0]\n",
        "            imgs[pos] = rgb.astype(np.float32)/255.0\n",
        "            filled[pos] = True\n",
        "        ok, frame = cap.read(); f_idx += 1\n",
        "    cap.release()\n",
        "    # Fill any gaps by nearest filled frame\n",
        "    for i in range(T):\n",
        "        if not filled[i]:\n",
        "            left = max([j for j in range(i,-1,-1) if filled[j]], default=None)\n",
        "            right = min([j for j in range(i,T) if filled[j]], default=None)\n",
        "            pick = left if right is None else (right if left is None else (left if (i-left) <= (right-i) else right))\n",
        "            imgs[i] = imgs[pick] if pick is not None else np.zeros_like(imgs[i])\n",
        "    return imgs\n",
        "\n",
        "def preprocess_save(items, split_name, words, out_dir=NPY_OUT, T=24, image_size=(128,128)):\n",
        "    lbl2id = {w:i for i,w in enumerate(words)}\n",
        "    X_list, y_list = [], []\n",
        "    for p, w in items:\n",
        "        try:\n",
        "            arr = read_video_uniform(p, T=T, target_hw=image_size)\n",
        "            X_list.append(arr); y_list.append(lbl2id[w])\n",
        "        except Exception as e:\n",
        "            print(\"ERROR reading\", p, \":\", e)\n",
        "    X = np.stack(X_list).astype(np.float32) if X_list else np.zeros((0,T,image_size[0],image_size[1],3), np.float32)\n",
        "    y = np.array(y_list, dtype=np.int32)\n",
        "    np.save(out_dir / f\"X_{split_name}.npy\", X)\n",
        "    np.save(out_dir / f\"y_{split_name}.npy\", y)\n",
        "    print(split_name, \"→\", X.shape, y.shape)\n",
        "\n",
        "items = list_videos_folder(DATA_ROOT, WORDS)\n",
        "train_items, val_items, test_items = split_items(items, VAL_SPLIT, TEST_SPLIT, seed=1234)\n",
        "print(f\"split sizes: train={len(train_items)}, val={len(val_items)}, test={len(test_items)}\")\n",
        "\n",
        "preprocess_save(train_items, \"train\", WORDS, T=T, image_size=IMAGE_SIZE)\n",
        "preprocess_save(val_items,   \"val\",   WORDS, T=T, image_size=IMAGE_SIZE)\n",
        "preprocess_save(test_items,  \"test\",  WORDS, T=T, image_size=IMAGE_SIZE)\n",
        "\n",
        "# Save labels for later integration\n",
        "with open(NPY_OUT / \"labels.json\", \"w\") as f:\n",
        "    json.dump(WORDS, f, indent=2)\n",
        "print(\"Saved labels.json:\", WORDS)\n"
      ],
      "metadata": {
        "colab": {
          "base_uri": "https://localhost:8080/"
        },
        "id": "qfx4MWvPgTvG",
        "outputId": "7d2a20d4-a22a-4c7b-ac72-6a5f8bf20dfd"
      },
      "execution_count": null,
      "outputs": [
        {
          "output_type": "stream",
          "name": "stdout",
          "text": [
            "split sizes: train=72, val=15, test=15\n",
            "train → (72, 24, 128, 128, 3) (72,)\n",
            "val → (15, 24, 128, 128, 3) (15,)\n",
            "test → (15, 24, 128, 128, 3) (15,)\n",
            "Saved labels.json: ['bad', 'good', 'hello', 'help', 'no', 'please', 'sorry', 'stop', 'thank you', 'yes']\n"
          ]
        }
      ]
    },
    {
      "cell_type": "markdown",
      "source": [
        "Cell 3 — Load NPY (memmap) and build tf.data"
      ],
      "metadata": {
        "id": "fxDWwNsWg2_V"
      }
    },
    {
      "cell_type": "code",
      "source": [
        "import numpy as np, tensorflow as tf, os\n",
        "from pathlib import Path\n",
        "\n",
        "AUTOTUNE = tf.data.AUTOTUNE\n",
        "NPY_OUT = Path(\"/content/data/word_splits\")\n",
        "\n",
        "# Load the full memory-mapped arrays\n",
        "X_train = np.load(NPY_OUT/\"X_train.npy\", mmap_mode='r')\n",
        "y_train = np.load(NPY_OUT/\"y_train.npy\", mmap_mode='r')\n",
        "X_val   = np.load(NPY_OUT/\"X_val.npy\",   mmap_mode='r')\n",
        "y_val   = np.load(NPY_OUT/\"y_val.npy\",   mmap_mode='r')\n",
        "X_test  = np.load(NPY_OUT/\"X_test.npy\",  mmap_mode='r')\n",
        "y_test  = np.load(NPY_OUT/\"y_test.npy\",  mmap_mode='r')\n",
        "\n",
        "print(\"Train:\", X_train.shape, y_train.shape)\n",
        "print(\"Val:  \", X_val.shape,   y_val.shape)\n",
        "print(\"Test: \", X_test.shape,  y_test.shape)\n",
        "\n",
        "# Define T, H, and W based on the loaded data shape\n",
        "# Assuming X_train has shape (num_samples, T, H, W, channels)\n",
        "if X_train.shape:\n",
        "    _, T, H, W, _ = X_train.shape\n",
        "else:\n",
        "    # Fallback if X_train is empty, though this shouldn't happen with data\n",
        "    T, H, W = 24, 128, 128 # Default values\n",
        "\n",
        "def make_seq_ds(X, y, training=True, batch=8, seed=1234):\n",
        "    ds = tf.data.Dataset.from_tensor_slices((X, y))\n",
        "    if training:\n",
        "        ds = ds.shuffle(len(y), seed=seed) # Shuffle the zipped dataset\n",
        "    ds = ds.batch(batch).prefetch(AUTOTUNE)\n",
        "    return ds\n",
        "\n",
        "\n",
        "train_ds = make_seq_ds(X_train, y_train, training=True,  batch=8)\n",
        "val_ds   = make_seq_ds(X_val,   y_val,   training=False, batch=8)\n",
        "test_ds  = make_seq_ds(X_test,  y_test,  training=False, batch=8)\n",
        "\n",
        "# NUM_CLASSES is correctly calculated from y_train\n",
        "NUM_CLASSES = int(np.max(y_train)) + 1"
      ],
      "metadata": {
        "colab": {
          "base_uri": "https://localhost:8080/"
        },
        "id": "yAlAfvPeg3ny",
        "outputId": "127e829c-52c1-4cce-d331-1ea0fad6135c"
      },
      "execution_count": null,
      "outputs": [
        {
          "output_type": "stream",
          "name": "stdout",
          "text": [
            "Train: (72, 24, 128, 128, 3) (72,)\n",
            "Val:   (15, 24, 128, 128, 3) (15,)\n",
            "Test:  (15, 24, 128, 128, 3) (15,)\n"
          ]
        }
      ]
    },
    {
      "cell_type": "markdown",
      "source": [
        "Cell 4 — Tiny overfit sanity test (must climb)"
      ],
      "metadata": {
        "id": "NfYlAJZIhUSb"
      }
    },
    {
      "cell_type": "code",
      "source": [
        "# === Cell 4 (patched) — Pretrained MobileNetV2 + Temporal Average with memmap-safe loader ===\n",
        "import tensorflow as tf, numpy as np, os, json\n",
        "from tensorflow.keras import layers, models\n",
        "\n",
        "# --- compat loss: sparse CE + label smoothing (since SparseCCE(..., label_smoothing=...) is unsupported in your TF) ---\n",
        "def sparse_cce_with_ls(num_classes, epsilon=0.05):\n",
        "    base = tf.keras.losses.CategoricalCrossentropy()\n",
        "    @tf.function\n",
        "    def loss_fn(y_true, y_pred):\n",
        "        y_true = tf.cast(y_true, tf.int32)\n",
        "        y_true_oh = tf.one_hot(y_true, depth=num_classes, dtype=y_pred.dtype)\n",
        "        if epsilon and epsilon > 0:\n",
        "            y_true_oh = y_true_oh * (1.0 - epsilon) + (epsilon / tf.cast(num_classes, y_pred.dtype))\n",
        "        return base(y_true_oh, y_pred)\n",
        "    return loss_fn\n",
        "\n",
        "# Load splits (safe to re-run)\n",
        "NPY_OUT = \"/content/data/word_splits\"\n",
        "X_train = np.load(os.path.join(NPY_OUT,\"X_train.npy\"), mmap_mode='r')\n",
        "y_train = np.load(os.path.join(NPY_OUT,\"y_train.npy\"), mmap_mode='r')\n",
        "X_val   = np.load(os.path.join(NPY_OUT,\"X_val.npy\"),   mmap_mode='r')\n",
        "y_val   = np.load(os.path.join(NPY_OUT,\"y_val.npy\"),   mmap_mode='r')\n",
        "\n",
        "NUM_CLASSES = int(np.max(y_train)) + 1\n",
        "T, H, W = X_train.shape[1:4]\n",
        "\n",
        "# ---- memmap-safe tf.data loader (uses tf.numpy_function) ----\n",
        "AUTOTUNE = tf.data.AUTOTUNE\n",
        "\n",
        "def make_seq_ds_np(X, y, training=True, batch=4, seed=1234):\n",
        "    N = len(y)\n",
        "    idx = tf.data.Dataset.from_tensor_slices(tf.range(N, dtype=tf.int64))\n",
        "    if training:\n",
        "        idx = idx.shuffle(min(1024, N), seed=seed, reshuffle_each_iteration=True)\n",
        "\n",
        "    # small NumPy helpers for numpy_function\n",
        "    def _get_x(i_np): return X[int(i_np)]\n",
        "    def _get_y(i_np): return y[int(i_np)]\n",
        "\n",
        "    def _loader(i):\n",
        "        xi = tf.numpy_function(_get_x, [i], tf.float32)  # pulls (T,H,W,C) from memmap\n",
        "        yi = tf.numpy_function(_get_y, [i], tf.int32)    # scalar label\n",
        "        # set static shapes so Keras can build the model\n",
        "        xi.set_shape((T, H, W, 3))\n",
        "        yi.set_shape(())\n",
        "        return xi, yi\n",
        "\n",
        "    ds = idx.map(_loader, num_parallel_calls=AUTOTUNE)\n",
        "    return ds.batch(batch).prefetch(AUTOTUNE)\n",
        "\n",
        "train_ds = make_seq_ds_np(X_train, y_train, training=True,  batch=4)\n",
        "val_ds   = make_seq_ds_np(X_val,   y_val,   training=False, batch=4)\n",
        "\n",
        "# ---- Pretrained MobileNetV2 frame encoder (expects [-1,1]) ----\n",
        "def frame_mnet(input_hw=(128,128), emb_dim=128, alpha=0.5, trainable_backbone=False):\n",
        "    base = tf.keras.applications.MobileNetV2(\n",
        "        input_shape=(input_hw[0], input_hw[1], 3),\n",
        "        include_top=False, weights=\"imagenet\", alpha=alpha\n",
        "    )\n",
        "    base.trainable = trainable_backbone\n",
        "    x = layers.Input(shape=(input_hw[0], input_hw[1], 3))\n",
        "    z = layers.Rescaling(scale=2.0, offset=-1.0)(x)   # [0,1] -> [-1,1]\n",
        "    z = base(z, training=False)\n",
        "    z = layers.GlobalAveragePooling2D()(z)\n",
        "    z = layers.Dense(emb_dim, activation='relu')(z)\n",
        "    return models.Model(x, z, name=\"frame_mnetv2\")\n",
        "\n",
        "def seq_model_tavg(T, hw=(128,128), num_classes=10, emb_dim=128, alpha=0.5):\n",
        "    frames = layers.Input(shape=(T, hw[0], hw[1], 3))\n",
        "    cnn = frame_mnet(hw, emb_dim, alpha=alpha, trainable_backbone=False)\n",
        "    feats = layers.TimeDistributed(cnn)(frames)   # (B,T,emb_dim)\n",
        "    x = layers.GlobalAveragePooling1D()(feats)    # temporal average\n",
        "    x = layers.Dropout(0.3)(x)\n",
        "    out = layers.Dense(num_classes, activation='softmax', dtype='float32')(x)\n",
        "    return models.Model(frames, out, name=\"mnet_tavg\")\n",
        "\n",
        "model = seq_model_tavg(T=T, hw=(H,W), num_classes=NUM_CLASSES, emb_dim=128, alpha=0.5)\n",
        "\n",
        "model.compile(optimizer=tf.keras.optimizers.Adam(1e-3, clipnorm=1.0),\n",
        "              loss=sparse_cce_with_ls(NUM_CLASSES, 0.05),\n",
        "              metrics=['accuracy', tf.keras.metrics.SparseTopKCategoricalAccuracy(k=3, name='top3_acc')])\n",
        "model.summary()\n",
        "\n",
        "ckpt_dir = \"/content/speakez_word_artifacts\"; os.makedirs(ckpt_dir, exist_ok=True)\n",
        "ckpt = tf.keras.callbacks.ModelCheckpoint(\n",
        "    filepath=os.path.join(ckpt_dir, \"best_word_mnet_tavg.h5\"),\n",
        "    monitor=\"val_accuracy\", save_best_only=True, verbose=1\n",
        ")\n",
        "callbacks = [\n",
        "    tf.keras.callbacks.ReduceLROnPlateau('val_loss', factor=0.5, patience=3, min_lr=1e-5, verbose=1),\n",
        "    tf.keras.callbacks.EarlyStopping('val_accuracy', patience=7, restore_best_weights=True, verbose=1),\n",
        "    ckpt\n",
        "]\n",
        "\n",
        "# No class_weight for now (tiny data)\n",
        "history = model.fit(train_ds, epochs=30, validation_data=val_ds, callbacks=callbacks, verbose=2)\n"
      ],
      "metadata": {
        "colab": {
          "base_uri": "https://localhost:8080/",
          "height": 1000
        },
        "id": "mdHIbNUfhU40",
        "outputId": "0ab93bbf-a553-41e2-93e5-b20e730e14b5"
      },
      "execution_count": null,
      "outputs": [
        {
          "output_type": "display_data",
          "data": {
            "text/plain": [
              "\u001b[1mModel: \"mnet_tavg\"\u001b[0m\n"
            ],
            "text/html": [
              "<pre style=\"white-space:pre;overflow-x:auto;line-height:normal;font-family:Menlo,'DejaVu Sans Mono',consolas,'Courier New',monospace\"><span style=\"font-weight: bold\">Model: \"mnet_tavg\"</span>\n",
              "</pre>\n"
            ]
          },
          "metadata": {}
        },
        {
          "output_type": "display_data",
          "data": {
            "text/plain": [
              "┏━━━━━━━━━━━━━━━━━━━━━━━━━━━━━━━━━┳━━━━━━━━━━━━━━━━━━━━━━━━┳━━━━━━━━━━━━━━━┓\n",
              "┃\u001b[1m \u001b[0m\u001b[1mLayer (type)                   \u001b[0m\u001b[1m \u001b[0m┃\u001b[1m \u001b[0m\u001b[1mOutput Shape          \u001b[0m\u001b[1m \u001b[0m┃\u001b[1m \u001b[0m\u001b[1m      Param #\u001b[0m\u001b[1m \u001b[0m┃\n",
              "┡━━━━━━━━━━━━━━━━━━━━━━━━━━━━━━━━━╇━━━━━━━━━━━━━━━━━━━━━━━━╇━━━━━━━━━━━━━━━┩\n",
              "│ input_layer_3 (\u001b[38;5;33mInputLayer\u001b[0m)      │ (\u001b[38;5;45mNone\u001b[0m, \u001b[38;5;34m24\u001b[0m, \u001b[38;5;34m128\u001b[0m, \u001b[38;5;34m128\u001b[0m,   │             \u001b[38;5;34m0\u001b[0m │\n",
              "│                                 │ \u001b[38;5;34m3\u001b[0m)                     │               │\n",
              "├─────────────────────────────────┼────────────────────────┼───────────────┤\n",
              "│ time_distributed_1              │ (\u001b[38;5;45mNone\u001b[0m, \u001b[38;5;34m24\u001b[0m, \u001b[38;5;34m128\u001b[0m)        │       \u001b[38;5;34m870,192\u001b[0m │\n",
              "│ (\u001b[38;5;33mTimeDistributed\u001b[0m)               │                        │               │\n",
              "├─────────────────────────────────┼────────────────────────┼───────────────┤\n",
              "│ global_average_pooling1d_1      │ (\u001b[38;5;45mNone\u001b[0m, \u001b[38;5;34m128\u001b[0m)            │             \u001b[38;5;34m0\u001b[0m │\n",
              "│ (\u001b[38;5;33mGlobalAveragePooling1D\u001b[0m)        │                        │               │\n",
              "├─────────────────────────────────┼────────────────────────┼───────────────┤\n",
              "│ dropout_1 (\u001b[38;5;33mDropout\u001b[0m)             │ (\u001b[38;5;45mNone\u001b[0m, \u001b[38;5;34m128\u001b[0m)            │             \u001b[38;5;34m0\u001b[0m │\n",
              "├─────────────────────────────────┼────────────────────────┼───────────────┤\n",
              "│ dense_3 (\u001b[38;5;33mDense\u001b[0m)                 │ (\u001b[38;5;45mNone\u001b[0m, \u001b[38;5;34m10\u001b[0m)             │         \u001b[38;5;34m1,290\u001b[0m │\n",
              "└─────────────────────────────────┴────────────────────────┴───────────────┘\n"
            ],
            "text/html": [
              "<pre style=\"white-space:pre;overflow-x:auto;line-height:normal;font-family:Menlo,'DejaVu Sans Mono',consolas,'Courier New',monospace\">┏━━━━━━━━━━━━━━━━━━━━━━━━━━━━━━━━━┳━━━━━━━━━━━━━━━━━━━━━━━━┳━━━━━━━━━━━━━━━┓\n",
              "┃<span style=\"font-weight: bold\"> Layer (type)                    </span>┃<span style=\"font-weight: bold\"> Output Shape           </span>┃<span style=\"font-weight: bold\">       Param # </span>┃\n",
              "┡━━━━━━━━━━━━━━━━━━━━━━━━━━━━━━━━━╇━━━━━━━━━━━━━━━━━━━━━━━━╇━━━━━━━━━━━━━━━┩\n",
              "│ input_layer_3 (<span style=\"color: #0087ff; text-decoration-color: #0087ff\">InputLayer</span>)      │ (<span style=\"color: #00d7ff; text-decoration-color: #00d7ff\">None</span>, <span style=\"color: #00af00; text-decoration-color: #00af00\">24</span>, <span style=\"color: #00af00; text-decoration-color: #00af00\">128</span>, <span style=\"color: #00af00; text-decoration-color: #00af00\">128</span>,   │             <span style=\"color: #00af00; text-decoration-color: #00af00\">0</span> │\n",
              "│                                 │ <span style=\"color: #00af00; text-decoration-color: #00af00\">3</span>)                     │               │\n",
              "├─────────────────────────────────┼────────────────────────┼───────────────┤\n",
              "│ time_distributed_1              │ (<span style=\"color: #00d7ff; text-decoration-color: #00d7ff\">None</span>, <span style=\"color: #00af00; text-decoration-color: #00af00\">24</span>, <span style=\"color: #00af00; text-decoration-color: #00af00\">128</span>)        │       <span style=\"color: #00af00; text-decoration-color: #00af00\">870,192</span> │\n",
              "│ (<span style=\"color: #0087ff; text-decoration-color: #0087ff\">TimeDistributed</span>)               │                        │               │\n",
              "├─────────────────────────────────┼────────────────────────┼───────────────┤\n",
              "│ global_average_pooling1d_1      │ (<span style=\"color: #00d7ff; text-decoration-color: #00d7ff\">None</span>, <span style=\"color: #00af00; text-decoration-color: #00af00\">128</span>)            │             <span style=\"color: #00af00; text-decoration-color: #00af00\">0</span> │\n",
              "│ (<span style=\"color: #0087ff; text-decoration-color: #0087ff\">GlobalAveragePooling1D</span>)        │                        │               │\n",
              "├─────────────────────────────────┼────────────────────────┼───────────────┤\n",
              "│ dropout_1 (<span style=\"color: #0087ff; text-decoration-color: #0087ff\">Dropout</span>)             │ (<span style=\"color: #00d7ff; text-decoration-color: #00d7ff\">None</span>, <span style=\"color: #00af00; text-decoration-color: #00af00\">128</span>)            │             <span style=\"color: #00af00; text-decoration-color: #00af00\">0</span> │\n",
              "├─────────────────────────────────┼────────────────────────┼───────────────┤\n",
              "│ dense_3 (<span style=\"color: #0087ff; text-decoration-color: #0087ff\">Dense</span>)                 │ (<span style=\"color: #00d7ff; text-decoration-color: #00d7ff\">None</span>, <span style=\"color: #00af00; text-decoration-color: #00af00\">10</span>)             │         <span style=\"color: #00af00; text-decoration-color: #00af00\">1,290</span> │\n",
              "└─────────────────────────────────┴────────────────────────┴───────────────┘\n",
              "</pre>\n"
            ]
          },
          "metadata": {}
        },
        {
          "output_type": "display_data",
          "data": {
            "text/plain": [
              "\u001b[1m Total params: \u001b[0m\u001b[38;5;34m871,482\u001b[0m (3.32 MB)\n"
            ],
            "text/html": [
              "<pre style=\"white-space:pre;overflow-x:auto;line-height:normal;font-family:Menlo,'DejaVu Sans Mono',consolas,'Courier New',monospace\"><span style=\"font-weight: bold\"> Total params: </span><span style=\"color: #00af00; text-decoration-color: #00af00\">871,482</span> (3.32 MB)\n",
              "</pre>\n"
            ]
          },
          "metadata": {}
        },
        {
          "output_type": "display_data",
          "data": {
            "text/plain": [
              "\u001b[1m Trainable params: \u001b[0m\u001b[38;5;34m165,258\u001b[0m (645.54 KB)\n"
            ],
            "text/html": [
              "<pre style=\"white-space:pre;overflow-x:auto;line-height:normal;font-family:Menlo,'DejaVu Sans Mono',consolas,'Courier New',monospace\"><span style=\"font-weight: bold\"> Trainable params: </span><span style=\"color: #00af00; text-decoration-color: #00af00\">165,258</span> (645.54 KB)\n",
              "</pre>\n"
            ]
          },
          "metadata": {}
        },
        {
          "output_type": "display_data",
          "data": {
            "text/plain": [
              "\u001b[1m Non-trainable params: \u001b[0m\u001b[38;5;34m706,224\u001b[0m (2.69 MB)\n"
            ],
            "text/html": [
              "<pre style=\"white-space:pre;overflow-x:auto;line-height:normal;font-family:Menlo,'DejaVu Sans Mono',consolas,'Courier New',monospace\"><span style=\"font-weight: bold\"> Non-trainable params: </span><span style=\"color: #00af00; text-decoration-color: #00af00\">706,224</span> (2.69 MB)\n",
              "</pre>\n"
            ]
          },
          "metadata": {}
        },
        {
          "output_type": "stream",
          "name": "stdout",
          "text": [
            "Epoch 1/30\n",
            "\n",
            "Epoch 1: val_accuracy improved from -inf to 0.06667, saving model to /content/speakez_word_artifacts/best_word_mnet_tavg.h5\n"
          ]
        },
        {
          "output_type": "stream",
          "name": "stderr",
          "text": [
            "WARNING:absl:You are saving your model as an HDF5 file via `model.save()` or `keras.saving.save_model(model)`. This file format is considered legacy. We recommend using instead the native Keras format, e.g. `model.save('my_model.keras')` or `keras.saving.save_model(model, 'my_model.keras')`. \n"
          ]
        },
        {
          "output_type": "stream",
          "name": "stdout",
          "text": [
            "18/18 - 171s - 9s/step - accuracy: 0.1250 - loss: 2.6611 - top3_acc: 0.3750 - val_accuracy: 0.0667 - val_loss: 2.4248 - val_top3_acc: 0.4000 - learning_rate: 1.0000e-03\n",
            "Epoch 2/30\n",
            "\n",
            "Epoch 2: val_accuracy improved from 0.06667 to 0.20000, saving model to /content/speakez_word_artifacts/best_word_mnet_tavg.h5\n"
          ]
        },
        {
          "output_type": "stream",
          "name": "stderr",
          "text": [
            "WARNING:absl:You are saving your model as an HDF5 file via `model.save()` or `keras.saving.save_model(model)`. This file format is considered legacy. We recommend using instead the native Keras format, e.g. `model.save('my_model.keras')` or `keras.saving.save_model(model, 'my_model.keras')`. \n"
          ]
        },
        {
          "output_type": "stream",
          "name": "stdout",
          "text": [
            "18/18 - 18s - 985ms/step - accuracy: 0.2222 - loss: 2.0481 - top3_acc: 0.6250 - val_accuracy: 0.2000 - val_loss: 2.3057 - val_top3_acc: 0.4000 - learning_rate: 1.0000e-03\n",
            "Epoch 3/30\n",
            "\n",
            "Epoch 3: val_accuracy did not improve from 0.20000\n",
            "18/18 - 15s - 816ms/step - accuracy: 0.3333 - loss: 1.7847 - top3_acc: 0.6389 - val_accuracy: 0.0667 - val_loss: 2.3277 - val_top3_acc: 0.4667 - learning_rate: 1.0000e-03\n",
            "Epoch 4/30\n",
            "\n",
            "Epoch 4: val_accuracy did not improve from 0.20000\n",
            "18/18 - 20s - 1s/step - accuracy: 0.4722 - loss: 1.5343 - top3_acc: 0.8472 - val_accuracy: 0.1333 - val_loss: 2.6767 - val_top3_acc: 0.4000 - learning_rate: 1.0000e-03\n",
            "Epoch 5/30\n",
            "\n",
            "Epoch 5: ReduceLROnPlateau reducing learning rate to 0.0005000000237487257.\n",
            "\n",
            "Epoch 5: val_accuracy did not improve from 0.20000\n",
            "18/18 - 14s - 800ms/step - accuracy: 0.5556 - loss: 1.3494 - top3_acc: 0.8611 - val_accuracy: 0.1333 - val_loss: 2.7731 - val_top3_acc: 0.3333 - learning_rate: 1.0000e-03\n",
            "Epoch 6/30\n",
            "\n",
            "Epoch 6: val_accuracy did not improve from 0.20000\n",
            "18/18 - 14s - 794ms/step - accuracy: 0.6528 - loss: 1.1922 - top3_acc: 0.9028 - val_accuracy: 0.1333 - val_loss: 2.7310 - val_top3_acc: 0.3333 - learning_rate: 5.0000e-04\n",
            "Epoch 7/30\n",
            "\n",
            "Epoch 7: val_accuracy did not improve from 0.20000\n",
            "18/18 - 16s - 908ms/step - accuracy: 0.7917 - loss: 0.9257 - top3_acc: 0.9861 - val_accuracy: 0.1333 - val_loss: 2.7886 - val_top3_acc: 0.4000 - learning_rate: 5.0000e-04\n",
            "Epoch 8/30\n",
            "\n",
            "Epoch 8: ReduceLROnPlateau reducing learning rate to 0.0002500000118743628.\n",
            "\n",
            "Epoch 8: val_accuracy did not improve from 0.20000\n",
            "18/18 - 21s - 1s/step - accuracy: 0.7500 - loss: 1.0050 - top3_acc: 0.9722 - val_accuracy: 0.1333 - val_loss: 2.7672 - val_top3_acc: 0.4667 - learning_rate: 5.0000e-04\n",
            "Epoch 9/30\n",
            "\n",
            "Epoch 9: val_accuracy did not improve from 0.20000\n",
            "18/18 - 15s - 813ms/step - accuracy: 0.8194 - loss: 0.9315 - top3_acc: 0.9444 - val_accuracy: 0.1333 - val_loss: 2.7936 - val_top3_acc: 0.3333 - learning_rate: 2.5000e-04\n",
            "Epoch 9: early stopping\n",
            "Restoring model weights from the end of the best epoch: 2.\n"
          ]
        }
      ]
    },
    {
      "cell_type": "markdown",
      "source": [
        "Cell 6 — Train full CNN→BiLSTM (with callbacks)"
      ],
      "metadata": {
        "id": "_q1zULzjiONw"
      }
    },
    {
      "cell_type": "code",
      "source": [
        "# === Cell 5 (fixed) — Train full CNN→BiLSTM with compat label smoothing ===\n",
        "import os, json, numpy as np, tensorflow as tf\n",
        "from tensorflow.keras import layers, models\n",
        "\n",
        "# --- compat loss: sparse CE with label smoothing via one-hot ---\n",
        "def sparse_cce_with_ls(num_classes, epsilon=0.05):\n",
        "    base = tf.keras.losses.CategoricalCrossentropy()  # no smoothing arg here\n",
        "    @tf.function\n",
        "    def loss_fn(y_true, y_pred):\n",
        "        y_true = tf.cast(y_true, tf.int32)\n",
        "        y_true_oh = tf.one_hot(y_true, depth=num_classes, dtype=y_pred.dtype)\n",
        "        if epsilon and epsilon > 0:\n",
        "            y_true_oh = y_true_oh * (1.0 - epsilon) + (epsilon / tf.cast(num_classes, y_pred.dtype))\n",
        "        return base(y_true_oh, y_pred)\n",
        "    return loss_fn\n",
        "\n",
        "# --- frame CNN reused per frame ---\n",
        "def frame_cnn(input_hw=(128,128), emb_dim=128):\n",
        "    inputs = layers.Input(shape=(input_hw[0], input_hw[1], 3))\n",
        "    x = inputs\n",
        "    for f in [32, 64, 128]:\n",
        "        x = layers.Conv2D(f, 3, padding='same', kernel_initializer='he_normal')(x)\n",
        "        x = layers.BatchNormalization()(x); x = layers.ReLU()(x); x = layers.MaxPooling2D()(x)\n",
        "    x = layers.GlobalAveragePooling2D()(x)\n",
        "    x = layers.Dense(emb_dim, activation='relu')(x)\n",
        "    return models.Model(inputs, x, name=\"frame_cnn\")\n",
        "\n",
        "def seq_model_bilstm(T, hw=(128,128), num_classes=10, emb_dim=128, lstm_dim=128):\n",
        "    frames = layers.Input(shape=(T, hw[0], hw[1], 3))\n",
        "    cnn = frame_cnn(hw, emb_dim)\n",
        "    feats = layers.TimeDistributed(cnn)(frames)             # (B,T,emb_dim)\n",
        "    x = layers.Bidirectional(layers.LSTM(lstm_dim, return_sequences=True))(feats)\n",
        "    x = layers.Bidirectional(layers.LSTM(lstm_dim))(x)\n",
        "    x = layers.Dropout(0.3)(x)\n",
        "    out = layers.Dense(num_classes, activation='softmax', dtype='float32')(x)\n",
        "    return models.Model(frames, out, name=\"cnn_bilstm\")\n",
        "\n",
        "# Expect NUM_CLASSES, T, H, W, train_ds, val_ds already defined in previous cells\n",
        "model = seq_model_bilstm(T=T, hw=(H,W), num_classes=NUM_CLASSES, emb_dim=128, lstm_dim=128)\n",
        "\n",
        "metrics = ['accuracy', tf.keras.metrics.SparseTopKCategoricalAccuracy(k=3, name='top3_acc')]\n",
        "loss = sparse_cce_with_ls(num_classes=NUM_CLASSES, epsilon=0.05)\n",
        "opt  = tf.keras.optimizers.Adam(1e-3, clipnorm=1.0)\n",
        "\n",
        "model.compile(optimizer=opt, loss=loss, metrics=metrics)\n",
        "model.summary()\n",
        "\n",
        "ckpt_dir = \"/content/speakez_word_artifacts\"\n",
        "os.makedirs(ckpt_dir, exist_ok=True)\n",
        "ckpt = tf.keras.callbacks.ModelCheckpoint(\n",
        "    filepath=os.path.join(ckpt_dir, \"best_word_cnn_bilstm.h5\"),\n",
        "    monitor=\"val_accuracy\", save_best_only=True, verbose=1\n",
        ")\n",
        "callbacks = [\n",
        "    tf.keras.callbacks.ReduceLROnPlateau(monitor='val_loss', factor=0.5, patience=3, min_lr=1e-5, verbose=1),\n",
        "    tf.keras.callbacks.EarlyStopping(monitor='val_accuracy', patience=7, restore_best_weights=True, verbose=1),\n",
        "    ckpt\n",
        "]\n",
        "\n",
        "# Optional: class weights (cap extremes to avoid instability)\n",
        "unique, counts = np.unique(y_train, return_counts=True)\n",
        "total = counts.sum()\n",
        "raw_w = {int(k): float(total / (len(unique) * v)) for k, v in zip(unique, counts)}\n",
        "med = float(np.median(list(raw_w.values())))\n",
        "class_weight = {k: min(v, 3.0*med) for k, v in raw_w.items()}\n",
        "print(\"class_weight (first 5):\", list(class_weight.items())[:5], \"...\")\n",
        "\n",
        "history = model.fit(\n",
        "    train_ds,\n",
        "    epochs=30,\n",
        "    validation_data=val_ds,\n",
        "    callbacks=callbacks,\n",
        "    class_weight=class_weight,   # remove this arg if training destabilizes\n",
        "    verbose=2\n",
        ")\n",
        "\n",
        "# Save history for your report\n",
        "with open(os.path.join(ckpt_dir, \"history_word.json\"), \"w\") as f:\n",
        "    json.dump(history.history, f)\n",
        "print(\"Saved:\", os.path.join(ckpt_dir, \"history_word.json\"))\n"
      ],
      "metadata": {
        "colab": {
          "base_uri": "https://localhost:8080/",
          "height": 1000
        },
        "id": "z3WrH67UiO6L",
        "outputId": "efe2d363-ffee-4e96-aefa-e369534e92a5"
      },
      "execution_count": null,
      "outputs": [
        {
          "output_type": "display_data",
          "data": {
            "text/plain": [
              "\u001b[1mModel: \"cnn_bilstm\"\u001b[0m\n"
            ],
            "text/html": [
              "<pre style=\"white-space:pre;overflow-x:auto;line-height:normal;font-family:Menlo,'DejaVu Sans Mono',consolas,'Courier New',monospace\"><span style=\"font-weight: bold\">Model: \"cnn_bilstm\"</span>\n",
              "</pre>\n"
            ]
          },
          "metadata": {}
        },
        {
          "output_type": "display_data",
          "data": {
            "text/plain": [
              "┏━━━━━━━━━━━━━━━━━━━━━━━━━━━━━━━━━┳━━━━━━━━━━━━━━━━━━━━━━━━┳━━━━━━━━━━━━━━━┓\n",
              "┃\u001b[1m \u001b[0m\u001b[1mLayer (type)                   \u001b[0m\u001b[1m \u001b[0m┃\u001b[1m \u001b[0m\u001b[1mOutput Shape          \u001b[0m\u001b[1m \u001b[0m┃\u001b[1m \u001b[0m\u001b[1m      Param #\u001b[0m\u001b[1m \u001b[0m┃\n",
              "┡━━━━━━━━━━━━━━━━━━━━━━━━━━━━━━━━━╇━━━━━━━━━━━━━━━━━━━━━━━━╇━━━━━━━━━━━━━━━┩\n",
              "│ input_layer_6 (\u001b[38;5;33mInputLayer\u001b[0m)      │ (\u001b[38;5;45mNone\u001b[0m, \u001b[38;5;34m24\u001b[0m, \u001b[38;5;34m128\u001b[0m, \u001b[38;5;34m128\u001b[0m,   │             \u001b[38;5;34m0\u001b[0m │\n",
              "│                                 │ \u001b[38;5;34m3\u001b[0m)                     │               │\n",
              "├─────────────────────────────────┼────────────────────────┼───────────────┤\n",
              "│ time_distributed_2              │ (\u001b[38;5;45mNone\u001b[0m, \u001b[38;5;34m24\u001b[0m, \u001b[38;5;34m128\u001b[0m)        │       \u001b[38;5;34m110,656\u001b[0m │\n",
              "│ (\u001b[38;5;33mTimeDistributed\u001b[0m)               │                        │               │\n",
              "├─────────────────────────────────┼────────────────────────┼───────────────┤\n",
              "│ bidirectional (\u001b[38;5;33mBidirectional\u001b[0m)   │ (\u001b[38;5;45mNone\u001b[0m, \u001b[38;5;34m24\u001b[0m, \u001b[38;5;34m256\u001b[0m)        │       \u001b[38;5;34m263,168\u001b[0m │\n",
              "├─────────────────────────────────┼────────────────────────┼───────────────┤\n",
              "│ bidirectional_1 (\u001b[38;5;33mBidirectional\u001b[0m) │ (\u001b[38;5;45mNone\u001b[0m, \u001b[38;5;34m256\u001b[0m)            │       \u001b[38;5;34m394,240\u001b[0m │\n",
              "├─────────────────────────────────┼────────────────────────┼───────────────┤\n",
              "│ dropout_2 (\u001b[38;5;33mDropout\u001b[0m)             │ (\u001b[38;5;45mNone\u001b[0m, \u001b[38;5;34m256\u001b[0m)            │             \u001b[38;5;34m0\u001b[0m │\n",
              "├─────────────────────────────────┼────────────────────────┼───────────────┤\n",
              "│ dense_5 (\u001b[38;5;33mDense\u001b[0m)                 │ (\u001b[38;5;45mNone\u001b[0m, \u001b[38;5;34m10\u001b[0m)             │         \u001b[38;5;34m2,570\u001b[0m │\n",
              "└─────────────────────────────────┴────────────────────────┴───────────────┘\n"
            ],
            "text/html": [
              "<pre style=\"white-space:pre;overflow-x:auto;line-height:normal;font-family:Menlo,'DejaVu Sans Mono',consolas,'Courier New',monospace\">┏━━━━━━━━━━━━━━━━━━━━━━━━━━━━━━━━━┳━━━━━━━━━━━━━━━━━━━━━━━━┳━━━━━━━━━━━━━━━┓\n",
              "┃<span style=\"font-weight: bold\"> Layer (type)                    </span>┃<span style=\"font-weight: bold\"> Output Shape           </span>┃<span style=\"font-weight: bold\">       Param # </span>┃\n",
              "┡━━━━━━━━━━━━━━━━━━━━━━━━━━━━━━━━━╇━━━━━━━━━━━━━━━━━━━━━━━━╇━━━━━━━━━━━━━━━┩\n",
              "│ input_layer_6 (<span style=\"color: #0087ff; text-decoration-color: #0087ff\">InputLayer</span>)      │ (<span style=\"color: #00d7ff; text-decoration-color: #00d7ff\">None</span>, <span style=\"color: #00af00; text-decoration-color: #00af00\">24</span>, <span style=\"color: #00af00; text-decoration-color: #00af00\">128</span>, <span style=\"color: #00af00; text-decoration-color: #00af00\">128</span>,   │             <span style=\"color: #00af00; text-decoration-color: #00af00\">0</span> │\n",
              "│                                 │ <span style=\"color: #00af00; text-decoration-color: #00af00\">3</span>)                     │               │\n",
              "├─────────────────────────────────┼────────────────────────┼───────────────┤\n",
              "│ time_distributed_2              │ (<span style=\"color: #00d7ff; text-decoration-color: #00d7ff\">None</span>, <span style=\"color: #00af00; text-decoration-color: #00af00\">24</span>, <span style=\"color: #00af00; text-decoration-color: #00af00\">128</span>)        │       <span style=\"color: #00af00; text-decoration-color: #00af00\">110,656</span> │\n",
              "│ (<span style=\"color: #0087ff; text-decoration-color: #0087ff\">TimeDistributed</span>)               │                        │               │\n",
              "├─────────────────────────────────┼────────────────────────┼───────────────┤\n",
              "│ bidirectional (<span style=\"color: #0087ff; text-decoration-color: #0087ff\">Bidirectional</span>)   │ (<span style=\"color: #00d7ff; text-decoration-color: #00d7ff\">None</span>, <span style=\"color: #00af00; text-decoration-color: #00af00\">24</span>, <span style=\"color: #00af00; text-decoration-color: #00af00\">256</span>)        │       <span style=\"color: #00af00; text-decoration-color: #00af00\">263,168</span> │\n",
              "├─────────────────────────────────┼────────────────────────┼───────────────┤\n",
              "│ bidirectional_1 (<span style=\"color: #0087ff; text-decoration-color: #0087ff\">Bidirectional</span>) │ (<span style=\"color: #00d7ff; text-decoration-color: #00d7ff\">None</span>, <span style=\"color: #00af00; text-decoration-color: #00af00\">256</span>)            │       <span style=\"color: #00af00; text-decoration-color: #00af00\">394,240</span> │\n",
              "├─────────────────────────────────┼────────────────────────┼───────────────┤\n",
              "│ dropout_2 (<span style=\"color: #0087ff; text-decoration-color: #0087ff\">Dropout</span>)             │ (<span style=\"color: #00d7ff; text-decoration-color: #00d7ff\">None</span>, <span style=\"color: #00af00; text-decoration-color: #00af00\">256</span>)            │             <span style=\"color: #00af00; text-decoration-color: #00af00\">0</span> │\n",
              "├─────────────────────────────────┼────────────────────────┼───────────────┤\n",
              "│ dense_5 (<span style=\"color: #0087ff; text-decoration-color: #0087ff\">Dense</span>)                 │ (<span style=\"color: #00d7ff; text-decoration-color: #00d7ff\">None</span>, <span style=\"color: #00af00; text-decoration-color: #00af00\">10</span>)             │         <span style=\"color: #00af00; text-decoration-color: #00af00\">2,570</span> │\n",
              "└─────────────────────────────────┴────────────────────────┴───────────────┘\n",
              "</pre>\n"
            ]
          },
          "metadata": {}
        },
        {
          "output_type": "display_data",
          "data": {
            "text/plain": [
              "\u001b[1m Total params: \u001b[0m\u001b[38;5;34m770,634\u001b[0m (2.94 MB)\n"
            ],
            "text/html": [
              "<pre style=\"white-space:pre;overflow-x:auto;line-height:normal;font-family:Menlo,'DejaVu Sans Mono',consolas,'Courier New',monospace\"><span style=\"font-weight: bold\"> Total params: </span><span style=\"color: #00af00; text-decoration-color: #00af00\">770,634</span> (2.94 MB)\n",
              "</pre>\n"
            ]
          },
          "metadata": {}
        },
        {
          "output_type": "display_data",
          "data": {
            "text/plain": [
              "\u001b[1m Trainable params: \u001b[0m\u001b[38;5;34m770,186\u001b[0m (2.94 MB)\n"
            ],
            "text/html": [
              "<pre style=\"white-space:pre;overflow-x:auto;line-height:normal;font-family:Menlo,'DejaVu Sans Mono',consolas,'Courier New',monospace\"><span style=\"font-weight: bold\"> Trainable params: </span><span style=\"color: #00af00; text-decoration-color: #00af00\">770,186</span> (2.94 MB)\n",
              "</pre>\n"
            ]
          },
          "metadata": {}
        },
        {
          "output_type": "display_data",
          "data": {
            "text/plain": [
              "\u001b[1m Non-trainable params: \u001b[0m\u001b[38;5;34m448\u001b[0m (1.75 KB)\n"
            ],
            "text/html": [
              "<pre style=\"white-space:pre;overflow-x:auto;line-height:normal;font-family:Menlo,'DejaVu Sans Mono',consolas,'Courier New',monospace\"><span style=\"font-weight: bold\"> Non-trainable params: </span><span style=\"color: #00af00; text-decoration-color: #00af00\">448</span> (1.75 KB)\n",
              "</pre>\n"
            ]
          },
          "metadata": {}
        },
        {
          "output_type": "stream",
          "name": "stdout",
          "text": [
            "class_weight (first 5): [(0, 1.0285714285714285), (1, 1.0285714285714285), (2, 1.44), (3, 1.0285714285714285), (4, 0.6545454545454545)] ...\n",
            "Epoch 1/30\n",
            "\n",
            "Epoch 1: val_accuracy improved from -inf to 0.13333, saving model to /content/speakez_word_artifacts/best_word_cnn_bilstm.h5\n"
          ]
        },
        {
          "output_type": "stream",
          "name": "stderr",
          "text": [
            "WARNING:absl:You are saving your model as an HDF5 file via `model.save()` or `keras.saving.save_model(model)`. This file format is considered legacy. We recommend using instead the native Keras format, e.g. `model.save('my_model.keras')` or `keras.saving.save_model(model, 'my_model.keras')`. \n"
          ]
        },
        {
          "output_type": "stream",
          "name": "stdout",
          "text": [
            "18/18 - 132s - 7s/step - accuracy: 0.1944 - loss: 2.5130 - top3_acc: 0.3611 - val_accuracy: 0.1333 - val_loss: 2.4339 - val_top3_acc: 0.2667 - learning_rate: 1.0000e-03\n",
            "Epoch 2/30\n",
            "\n",
            "Epoch 2: val_accuracy improved from 0.13333 to 0.20000, saving model to /content/speakez_word_artifacts/best_word_cnn_bilstm.h5\n"
          ]
        },
        {
          "output_type": "stream",
          "name": "stderr",
          "text": [
            "WARNING:absl:You are saving your model as an HDF5 file via `model.save()` or `keras.saving.save_model(model)`. This file format is considered legacy. We recommend using instead the native Keras format, e.g. `model.save('my_model.keras')` or `keras.saving.save_model(model, 'my_model.keras')`. \n"
          ]
        },
        {
          "output_type": "stream",
          "name": "stdout",
          "text": [
            "18/18 - 88s - 5s/step - accuracy: 0.0417 - loss: 2.4432 - top3_acc: 0.3056 - val_accuracy: 0.2000 - val_loss: 2.3647 - val_top3_acc: 0.4000 - learning_rate: 1.0000e-03\n",
            "Epoch 3/30\n",
            "\n",
            "Epoch 3: val_accuracy did not improve from 0.20000\n",
            "18/18 - 92s - 5s/step - accuracy: 0.1667 - loss: 2.3684 - top3_acc: 0.4028 - val_accuracy: 0.1333 - val_loss: 2.3971 - val_top3_acc: 0.3333 - learning_rate: 1.0000e-03\n",
            "Epoch 4/30\n",
            "\n",
            "Epoch 4: val_accuracy did not improve from 0.20000\n",
            "18/18 - 88s - 5s/step - accuracy: 0.1806 - loss: 2.2814 - top3_acc: 0.4306 - val_accuracy: 0.1333 - val_loss: 2.3662 - val_top3_acc: 0.4000 - learning_rate: 1.0000e-03\n",
            "Epoch 5/30\n",
            "\n",
            "Epoch 5: val_accuracy did not improve from 0.20000\n",
            "18/18 - 93s - 5s/step - accuracy: 0.1667 - loss: 2.2943 - top3_acc: 0.4306 - val_accuracy: 0.0667 - val_loss: 2.3271 - val_top3_acc: 0.4000 - learning_rate: 1.0000e-03\n",
            "Epoch 6/30\n",
            "\n",
            "Epoch 6: val_accuracy did not improve from 0.20000\n",
            "18/18 - 88s - 5s/step - accuracy: 0.1250 - loss: 2.2734 - top3_acc: 0.4167 - val_accuracy: 0.1333 - val_loss: 2.4026 - val_top3_acc: 0.3333 - learning_rate: 1.0000e-03\n",
            "Epoch 7/30\n",
            "\n",
            "Epoch 7: val_accuracy did not improve from 0.20000\n",
            "18/18 - 87s - 5s/step - accuracy: 0.1944 - loss: 2.3157 - top3_acc: 0.3194 - val_accuracy: 0.0667 - val_loss: 2.4746 - val_top3_acc: 0.3333 - learning_rate: 1.0000e-03\n",
            "Epoch 8/30\n",
            "\n",
            "Epoch 8: val_accuracy did not improve from 0.20000\n",
            "18/18 - 89s - 5s/step - accuracy: 0.1528 - loss: 2.2477 - top3_acc: 0.4722 - val_accuracy: 0.1333 - val_loss: 2.3256 - val_top3_acc: 0.4000 - learning_rate: 1.0000e-03\n",
            "Epoch 9/30\n",
            "\n",
            "Epoch 9: val_accuracy did not improve from 0.20000\n",
            "18/18 - 140s - 8s/step - accuracy: 0.1389 - loss: 2.2978 - top3_acc: 0.4306 - val_accuracy: 0.1333 - val_loss: 2.5132 - val_top3_acc: 0.3333 - learning_rate: 1.0000e-03\n",
            "Epoch 9: early stopping\n",
            "Restoring model weights from the end of the best epoch: 2.\n",
            "Saved: /content/speakez_word_artifacts/history_word.json\n"
          ]
        }
      ]
    },
    {
      "cell_type": "code",
      "source": [
        "import numpy as np, matplotlib.pyplot as plt\n",
        "\n",
        "def seq_preview(X, idx, n=6):\n",
        "    seq = X[idx]  # (T,H,W,C)\n",
        "    T,H,W,C = seq.shape\n",
        "    sel = np.linspace(0, T-1, n).astype(int)\n",
        "    plt.figure(figsize=(12,2))\n",
        "    for i,j in enumerate(sel):\n",
        "        plt.subplot(1,n,i+1); plt.imshow(seq[j]); plt.axis('off')\n",
        "    plt.suptitle(f'seq {idx} mean={seq.mean():.4f} std={seq.std():.4f}')\n",
        "    plt.tight_layout(); plt.show()\n",
        "\n",
        "print(\"X_train global mean/std:\", float(np.mean(X_train)), float(np.std(X_train)))\n",
        "m_per = [float(np.mean(X_train[i])) for i in range(len(y_train))]\n",
        "print(\"Fraction near-black sequences (mean<0.01):\", np.mean(np.array(m_per) < 0.01))\n",
        "\n",
        "# Visualize a few sequences\n",
        "for idx in [0, 1, min(2, len(y_train)-1)]:\n",
        "    seq_preview(X_train, idx)\n"
      ],
      "metadata": {
        "colab": {
          "base_uri": "https://localhost:8080/",
          "height": 655
        },
        "id": "1MIBH8MDv5he",
        "outputId": "0e6c1da3-897c-4cc2-caaf-a7d044950cab"
      },
      "execution_count": null,
      "outputs": [
        {
          "output_type": "stream",
          "name": "stdout",
          "text": [
            "X_train global mean/std: 0.4203979969024658 0.35339003801345825\n",
            "Fraction near-black sequences (mean<0.01): 0.0\n"
          ]
        },
        {
          "output_type": "display_data",
          "data": {
            "text/plain": [
              "<Figure size 1200x200 with 6 Axes>"
            ],
            "image/png": "[encoded data removed]"
          },
          "metadata": {}
        },
        {
          "output_type": "display_data",
          "data": {
            "text/plain": [
              "<Figure size 1200x200 with 6 Axes>"
            ],
            "image/png": "[encoded data removed]"
          },
          "metadata": {}
        },
        {
          "output_type": "display_data",
          "data": {
            "text/plain": [
              "<Figure size 1200x200 with 6 Axes>"
            ],
            "image/png": "[encoded data removed]"
          },
          "metadata": {}
        }
      ]
    },
    {
      "cell_type": "markdown",
      "source": [
        "# Cell A — Rebuild splits with 10%/10% and ≥2 per class\n",
        "\n",
        "this pattern (train ↑, val stuck ≈ 0.10) is classic tiny dataset + signer/background shift. Your clips look fine, so let’s (1) make splits less harsh, (2) add light per-frame augmentation, and (3) (optionally) fine-tune the backbone a bit."
      ],
      "metadata": {
        "id": "X67CzpQ76AHT"
      }
    },
    {
      "cell_type": "code",
      "source": [
        "# Re-split with lighter val/test and at least 2 per class if possible\n",
        "import numpy as np, glob, cv2, os, json\n",
        "from pathlib import Path\n",
        "from collections import defaultdict\n",
        "\n",
        "DATA_ROOT = Path(\"/content/data/word_videos\")\n",
        "WORDS = sorted([p.name for p in DATA_ROOT.iterdir() if p.is_dir()])\n",
        "NPY_OUT = Path(\"/content/data/word_splits\"); NPY_OUT.mkdir(parents=True, exist_ok=True)\n",
        "IMAGE_SIZE = (128,128); T = 24\n",
        "\n",
        "def list_videos_folder(root, words):\n",
        "    items = []\n",
        "    for w in words:\n",
        "        for p in glob.glob(str(Path(root)/w/\"*.*\")):\n",
        "            if p.lower().endswith((\".mp4\",\".mov\",\".avi\",\".mkv\",\".webm\")):\n",
        "                items.append((p, w))\n",
        "    return items\n",
        "\n",
        "def split_items(items, val_ratio=0.10, test_ratio=0.10, seed=1234):\n",
        "    by_label = defaultdict(list)\n",
        "    for p, w in items: by_label[w].append(p)\n",
        "    rng = np.random.default_rng(seed)\n",
        "    train, val, test = [], [], []\n",
        "    for w, paths in by_label.items():\n",
        "        rng.shuffle(paths); n = len(paths)\n",
        "        nv = max(2, int(round(n*val_ratio))) if n >= 6 else max(1, int(round(n*0.15)))\n",
        "        nt = max(2, int(round(n*test_ratio))) if n >= 6 else max(1, int(round(n*0.15)))\n",
        "        nv = min(nv, max(1, n//4))\n",
        "        nt = min(nt, max(1, (n-nv)//4)) if n-nv>=2 else 1\n",
        "        val.extend([(p,w) for p in paths[:nv]])\n",
        "        test.extend([(p,w) for p in paths[nv:nv+nt]])\n",
        "        train.extend([(p,w) for p in paths[nv+nt:]])\n",
        "    return train, val, test\n",
        "\n",
        "def read_video_uniform(path, T=24, target_hw=(128,128)):\n",
        "    cap = cv2.VideoCapture(path); frames = int(cap.get(cv2.CAP_PROP_FRAME_COUNT))\n",
        "    idxs = np.linspace(0, max(frames-1,0), T).astype(int) if frames>0 else np.zeros(T, dtype=int)\n",
        "    out = np.empty((T, target_hw[0], target_hw[1], 3), np.float32); filled = np.zeros((T,), bool)\n",
        "    f = 0; ok, frame = cap.read()\n",
        "    while ok:\n",
        "        if f in idxs:\n",
        "            h,w = frame.shape[:2]; m=min(h,w); y0=(h-m)//2; x0=(w-m)//2\n",
        "            crop = frame[y0:y0+m, x0:x0+m]; crop = cv2.resize(crop, target_hw, interpolation=cv2.INTER_AREA)\n",
        "            rgb = cv2.cvtColor(crop, cv2.COLOR_BGR2RGB).astype(np.float32)/255.0\n",
        "            pos = np.where(idxs==f)[0][0]; out[pos]=rgb; filled[pos]=True\n",
        "        ok, frame = cap.read(); f += 1\n",
        "    cap.release()\n",
        "    for i in range(T):\n",
        "        if not filled[i]:\n",
        "            left = max([j for j in range(i,-1,-1) if filled[j]], default=None)\n",
        "            right = min([j for j in range(i,T) if filled[j]], default=None)\n",
        "            pick = left if right is None else (right if left is None else (left if (i-left)<=(right-i) else right))\n",
        "            out[i] = out[pick] if pick is not None else np.zeros_like(out[i])\n",
        "    return out\n",
        "\n",
        "def preprocess_save(items, split_name, words, out_dir=NPY_OUT, T=24, image_size=(128,128)):\n",
        "    lbl2id = {w:i for i,w in enumerate(words)}\n",
        "    X_list, y_list = [], []\n",
        "    for p, w in items:\n",
        "        try: X_list.append(read_video_uniform(p, T=T, target_hw=image_size)); y_list.append(lbl2id[w])\n",
        "        except Exception as e: print(\"ERR\", p, e)\n",
        "    X = np.stack(X_list).astype(np.float32) if X_list else np.zeros((0,T,image_size[0],image_size[1],3), np.float32)\n",
        "    y = np.array(y_list, dtype=np.int32)\n",
        "    np.save(out_dir/f\"X_{split_name}.npy\", X); np.save(out_dir/f\"y_{split_name}.npy\", y)\n",
        "    print(split_name, \"->\", X.shape, y.shape)\n",
        "\n",
        "items = list_videos_folder(DATA_ROOT, WORDS)\n",
        "tr, va, te = split_items(items, 0.10, 0.10, seed=42)\n",
        "print(f\"split sizes: train={len(tr)} val={len(va)} test={len(te)}\")\n",
        "preprocess_save(tr, \"train\", WORDS, T=T, image_size=IMAGE_SIZE)\n",
        "preprocess_save(va, \"val\",   WORDS, T=T, image_size=IMAGE_SIZE)\n",
        "preprocess_save(te, \"test\",  WORDS, T=T, image_size=IMAGE_SIZE)\n",
        "json.dump(WORDS, open(NPY_OUT/\"labels.json\",\"w\"), indent=2)\n"
      ],
      "metadata": {
        "colab": {
          "base_uri": "https://localhost:8080/"
        },
        "id": "HpzuZdFrYxm0",
        "outputId": "de8e84c9-1c67-4e38-f093-2bbc42a1bd59"
      },
      "execution_count": null,
      "outputs": [
        {
          "output_type": "stream",
          "name": "stdout",
          "text": [
            "split sizes: train=70 val=17 test=15\n",
            "train -> (70, 24, 128, 128, 3) (70,)\n",
            "val -> (17, 24, 128, 128, 3) (17,)\n",
            "test -> (15, 24, 128, 128, 3) (15,)\n"
          ]
        }
      ]
    },
    {
      "cell_type": "markdown",
      "source": [
        "# Cell P1 — Train with cosine classifier, temporal jitter, light aug, short fine-tune"
      ],
      "metadata": {
        "id": "fGEB2kDK6Rfp"
      }
    },
    {
      "cell_type": "code",
      "source": [
        "# === Cell P1 (patched) — Frozen clip encoder with Keras-safe L2 norm ===\n",
        "import tensorflow as tf, numpy as np, os\n",
        "\n",
        "NPY_OUT = \"/content/data/word_splits\"\n",
        "X_train = np.load(f\"{NPY_OUT}/X_train.npy\", mmap_mode='r')\n",
        "y_train = np.load(f\"{NPY_OUT}/y_train.npy\", mmap_mode='r')\n",
        "X_val   = np.load(f\"{NPY_OUT}/X_val.npy\",   mmap_mode='r')\n",
        "y_val   = np.load(f\"{NPY_OUT}/y_val.npy\",   mmap_mode='r')\n",
        "X_test  = np.load(f\"{NPY_OUT}/X_test.npy\",  mmap_mode='r')\n",
        "y_test  = np.load(f\"{NPY_OUT}/y_test.npy\",  mmap_mode='r')\n",
        "\n",
        "NUM_CLASSES = int(np.max(y_train)) + 1\n",
        "T, H, W = X_train.shape[1:4]\n",
        "print(\"Shapes:\", X_train.shape, X_val.shape, X_test.shape, \"classes:\", NUM_CLASSES)\n",
        "\n",
        "AUTOTUNE = tf.data.AUTOTUNE\n",
        "def make_seq_ds_np(X, y, batch=8):\n",
        "    def _get_x(i_np): return X[int(i_np)]\n",
        "    def _get_y(i_np): return y[int(i_np)]\n",
        "    def _loader(i):\n",
        "        xi = tf.numpy_function(_get_x, [i], tf.float32); yi = tf.numpy_function(_get_y, [i], tf.int32)\n",
        "        xi.set_shape((T,H,W,3)); yi.set_shape(())\n",
        "        return xi, yi\n",
        "    idx = tf.data.Dataset.from_tensor_slices(tf.range(len(y), dtype=tf.int64))\n",
        "    return idx.map(_loader, num_parallel_calls=AUTOTUNE).batch(batch).prefetch(AUTOTUNE)\n",
        "\n",
        "train_ds = make_seq_ds_np(X_train, y_train, batch=8)\n",
        "val_ds   = make_seq_ds_np(X_val,   y_val,   batch=8)\n",
        "test_ds  = make_seq_ds_np(X_test,  y_test,  batch=8)\n",
        "\n",
        "from tensorflow.keras import layers, models\n",
        "\n",
        "# Keras-safe L2 normalization (prefers UnitNormalization; falls back to Lambda)\n",
        "try:\n",
        "    from tensorflow.keras.layers import UnitNormalization\n",
        "    def l2norm_layer(axis=-1, name=None):\n",
        "        return UnitNormalization(axis=axis, name=name)\n",
        "except Exception:\n",
        "    def l2norm_layer(axis=-1, name=None):\n",
        "        return layers.Lambda(lambda t: tf.nn.l2_normalize(t, axis=axis), name=name)\n",
        "\n",
        "def make_clip_encoder(input_hw=(128,128), emb_dim=256, alpha=1.0):\n",
        "    base = tf.keras.applications.MobileNetV2(\n",
        "        input_shape=(input_hw[0], input_hw[1], 3),\n",
        "        include_top=False, weights=\"imagenet\", alpha=alpha\n",
        "    )\n",
        "    base.trainable = False  # freeze\n",
        "\n",
        "    # Per-frame encoder: [0,1] -> [-1,1] -> MobileNetV2 -> GAP -> Dense -> L2\n",
        "    f_in = layers.Input((input_hw[0], input_hw[1], 3))\n",
        "    z = layers.Rescaling(2.0, offset=-1.0)(f_in)\n",
        "    z = base(z, training=False)\n",
        "    z = layers.GlobalAveragePooling2D()(z)\n",
        "    z = layers.Dense(emb_dim, activation='relu')(z)\n",
        "    z = l2norm_layer(name=\"frame_l2\")(z)\n",
        "    frame_encoder = models.Model(f_in, z, name=\"frozen_mnetv2_frame\")\n",
        "\n",
        "    # Sequence encoder: TimeDistributed(frame) -> mean over time -> L2\n",
        "    seq_in = layers.Input((T, input_hw[0], input_hw[1], 3))\n",
        "    feats = layers.TimeDistributed(frame_encoder, name=\"td_frame\")(seq_in)  # (B,T,D)\n",
        "    clip  = layers.GlobalAveragePooling1D(name=\"time_avg\")(feats)           # (B,D)\n",
        "    clip  = l2norm_layer(name=\"clip_l2\")(clip)\n",
        "    return models.Model(seq_in, clip, name=\"clip_encoder\")\n",
        "\n",
        "clip_encoder = make_clip_encoder((H,W), emb_dim=256, alpha=1.0)\n",
        "clip_encoder.summary()\n"
      ],
      "metadata": {
        "colab": {
          "base_uri": "https://localhost:8080/",
          "height": 341
        },
        "id": "jLnAGq0l6agP",
        "outputId": "b72dc986-391f-4f28-dc6a-0e3d45f30c89"
      },
      "execution_count": null,
      "outputs": [
        {
          "output_type": "stream",
          "name": "stdout",
          "text": [
            "Shapes: (70, 24, 128, 128, 3) (17, 24, 128, 128, 3) (15, 24, 128, 128, 3) classes: 11\n",
            "Downloading data from https://storage.googleapis.com/tensorflow/keras-applications/mobilenet_v2/mobilenet_v2_weights_tf_dim_ordering_tf_kernels_1.0_128_no_top.h5\n",
            "\u001b[1m9406464/9406464\u001b[0m \u001b[32m━━━━━━━━━━━━━━━━━━━━\u001b[0m\u001b[37m\u001b[0m \u001b[1m1s\u001b[0m 0us/step\n"
          ]
        },
        {
          "output_type": "display_data",
          "data": {
            "text/plain": [
              "\u001b[1mModel: \"clip_encoder\"\u001b[0m\n"
            ],
            "text/html": [
              "<pre style=\"white-space:pre;overflow-x:auto;line-height:normal;font-family:Menlo,'DejaVu Sans Mono',consolas,'Courier New',monospace\"><span style=\"font-weight: bold\">Model: \"clip_encoder\"</span>\n",
              "</pre>\n"
            ]
          },
          "metadata": {}
        },
        {
          "output_type": "display_data",
          "data": {
            "text/plain": [
              "┏━━━━━━━━━━━━━━━━━━━━━━━━━━━━━━━━━┳━━━━━━━━━━━━━━━━━━━━━━━━┳━━━━━━━━━━━━━━━┓\n",
              "┃\u001b[1m \u001b[0m\u001b[1mLayer (type)                   \u001b[0m\u001b[1m \u001b[0m┃\u001b[1m \u001b[0m\u001b[1mOutput Shape          \u001b[0m\u001b[1m \u001b[0m┃\u001b[1m \u001b[0m\u001b[1m      Param #\u001b[0m\u001b[1m \u001b[0m┃\n",
              "┡━━━━━━━━━━━━━━━━━━━━━━━━━━━━━━━━━╇━━━━━━━━━━━━━━━━━━━━━━━━╇━━━━━━━━━━━━━━━┩\n",
              "│ input_layer_10 (\u001b[38;5;33mInputLayer\u001b[0m)     │ (\u001b[38;5;45mNone\u001b[0m, \u001b[38;5;34m24\u001b[0m, \u001b[38;5;34m128\u001b[0m, \u001b[38;5;34m128\u001b[0m,   │             \u001b[38;5;34m0\u001b[0m │\n",
              "│                                 │ \u001b[38;5;34m3\u001b[0m)                     │               │\n",
              "├─────────────────────────────────┼────────────────────────┼───────────────┤\n",
              "│ td_frame (\u001b[38;5;33mTimeDistributed\u001b[0m)      │ (\u001b[38;5;45mNone\u001b[0m, \u001b[38;5;34m24\u001b[0m, \u001b[38;5;34m256\u001b[0m)        │     \u001b[38;5;34m2,585,920\u001b[0m │\n",
              "├─────────────────────────────────┼────────────────────────┼───────────────┤\n",
              "│ time_avg                        │ (\u001b[38;5;45mNone\u001b[0m, \u001b[38;5;34m256\u001b[0m)            │             \u001b[38;5;34m0\u001b[0m │\n",
              "│ (\u001b[38;5;33mGlobalAveragePooling1D\u001b[0m)        │                        │               │\n",
              "├─────────────────────────────────┼────────────────────────┼───────────────┤\n",
              "│ clip_l2 (\u001b[38;5;33mUnitNormalization\u001b[0m)     │ (\u001b[38;5;45mNone\u001b[0m, \u001b[38;5;34m256\u001b[0m)            │             \u001b[38;5;34m0\u001b[0m │\n",
              "└─────────────────────────────────┴────────────────────────┴───────────────┘\n"
            ],
            "text/html": [
              "<pre style=\"white-space:pre;overflow-x:auto;line-height:normal;font-family:Menlo,'DejaVu Sans Mono',consolas,'Courier New',monospace\">┏━━━━━━━━━━━━━━━━━━━━━━━━━━━━━━━━━┳━━━━━━━━━━━━━━━━━━━━━━━━┳━━━━━━━━━━━━━━━┓\n",
              "┃<span style=\"font-weight: bold\"> Layer (type)                    </span>┃<span style=\"font-weight: bold\"> Output Shape           </span>┃<span style=\"font-weight: bold\">       Param # </span>┃\n",
              "┡━━━━━━━━━━━━━━━━━━━━━━━━━━━━━━━━━╇━━━━━━━━━━━━━━━━━━━━━━━━╇━━━━━━━━━━━━━━━┩\n",
              "│ input_layer_10 (<span style=\"color: #0087ff; text-decoration-color: #0087ff\">InputLayer</span>)     │ (<span style=\"color: #00d7ff; text-decoration-color: #00d7ff\">None</span>, <span style=\"color: #00af00; text-decoration-color: #00af00\">24</span>, <span style=\"color: #00af00; text-decoration-color: #00af00\">128</span>, <span style=\"color: #00af00; text-decoration-color: #00af00\">128</span>,   │             <span style=\"color: #00af00; text-decoration-color: #00af00\">0</span> │\n",
              "│                                 │ <span style=\"color: #00af00; text-decoration-color: #00af00\">3</span>)                     │               │\n",
              "├─────────────────────────────────┼────────────────────────┼───────────────┤\n",
              "│ td_frame (<span style=\"color: #0087ff; text-decoration-color: #0087ff\">TimeDistributed</span>)      │ (<span style=\"color: #00d7ff; text-decoration-color: #00d7ff\">None</span>, <span style=\"color: #00af00; text-decoration-color: #00af00\">24</span>, <span style=\"color: #00af00; text-decoration-color: #00af00\">256</span>)        │     <span style=\"color: #00af00; text-decoration-color: #00af00\">2,585,920</span> │\n",
              "├─────────────────────────────────┼────────────────────────┼───────────────┤\n",
              "│ time_avg                        │ (<span style=\"color: #00d7ff; text-decoration-color: #00d7ff\">None</span>, <span style=\"color: #00af00; text-decoration-color: #00af00\">256</span>)            │             <span style=\"color: #00af00; text-decoration-color: #00af00\">0</span> │\n",
              "│ (<span style=\"color: #0087ff; text-decoration-color: #0087ff\">GlobalAveragePooling1D</span>)        │                        │               │\n",
              "├─────────────────────────────────┼────────────────────────┼───────────────┤\n",
              "│ clip_l2 (<span style=\"color: #0087ff; text-decoration-color: #0087ff\">UnitNormalization</span>)     │ (<span style=\"color: #00d7ff; text-decoration-color: #00d7ff\">None</span>, <span style=\"color: #00af00; text-decoration-color: #00af00\">256</span>)            │             <span style=\"color: #00af00; text-decoration-color: #00af00\">0</span> │\n",
              "└─────────────────────────────────┴────────────────────────┴───────────────┘\n",
              "</pre>\n"
            ]
          },
          "metadata": {}
        },
        {
          "output_type": "display_data",
          "data": {
            "text/plain": [
              "\u001b[1m Total params: \u001b[0m\u001b[38;5;34m2,585,920\u001b[0m (9.86 MB)\n"
            ],
            "text/html": [
              "<pre style=\"white-space:pre;overflow-x:auto;line-height:normal;font-family:Menlo,'DejaVu Sans Mono',consolas,'Courier New',monospace\"><span style=\"font-weight: bold\"> Total params: </span><span style=\"color: #00af00; text-decoration-color: #00af00\">2,585,920</span> (9.86 MB)\n",
              "</pre>\n"
            ]
          },
          "metadata": {}
        },
        {
          "output_type": "display_data",
          "data": {
            "text/plain": [
              "\u001b[1m Trainable params: \u001b[0m\u001b[38;5;34m327,936\u001b[0m (1.25 MB)\n"
            ],
            "text/html": [
              "<pre style=\"white-space:pre;overflow-x:auto;line-height:normal;font-family:Menlo,'DejaVu Sans Mono',consolas,'Courier New',monospace\"><span style=\"font-weight: bold\"> Trainable params: </span><span style=\"color: #00af00; text-decoration-color: #00af00\">327,936</span> (1.25 MB)\n",
              "</pre>\n"
            ]
          },
          "metadata": {}
        },
        {
          "output_type": "display_data",
          "data": {
            "text/plain": [
              "\u001b[1m Non-trainable params: \u001b[0m\u001b[38;5;34m2,257,984\u001b[0m (8.61 MB)\n"
            ],
            "text/html": [
              "<pre style=\"white-space:pre;overflow-x:auto;line-height:normal;font-family:Menlo,'DejaVu Sans Mono',consolas,'Courier New',monospace\"><span style=\"font-weight: bold\"> Non-trainable params: </span><span style=\"color: #00af00; text-decoration-color: #00af00\">2,257,984</span> (8.61 MB)\n",
              "</pre>\n"
            ]
          },
          "metadata": {}
        }
      ]
    },
    {
      "cell_type": "markdown",
      "source": [
        "# Cell P2 — Evaluate the best checkpoint"
      ],
      "metadata": {
        "id": "ODbsFrzwISNv"
      }
    },
    {
      "cell_type": "code",
      "source": [
        "import numpy as np, tensorflow as tf\n",
        "\n",
        "def embed_ds(ds, model):\n",
        "    E, Y = [], []\n",
        "    for xb, yb in ds:\n",
        "        e = model.predict(xb, verbose=0)  # (B, D)\n",
        "        E.append(e); Y.append(yb.numpy())\n",
        "    return np.concatenate(E, axis=0), np.concatenate(Y, axis=0)\n",
        "\n",
        "E_tr, y_tr = embed_ds(train_ds, clip_encoder)\n",
        "E_va, y_va = embed_ds(val_ds,   clip_encoder)\n",
        "E_te, y_te = embed_ds(test_ds,  clip_encoder)\n",
        "\n",
        "print(\"Embeddings:\", E_tr.shape, E_va.shape, E_te.shape)\n"
      ],
      "metadata": {
        "colab": {
          "base_uri": "https://localhost:8080/"
        },
        "id": "_uQ3gq1BBSwm",
        "outputId": "17d309cf-c2bc-4215-95bb-197bba8d50dd"
      },
      "execution_count": null,
      "outputs": [
        {
          "output_type": "stream",
          "name": "stdout",
          "text": [
            "Embeddings: (70, 256) (17, 256) (15, 256)\n"
          ]
        }
      ]
    },
    {
      "cell_type": "markdown",
      "source": [
        "# Cell P3 — Prototype classifier (cosine to per-class means)"
      ],
      "metadata": {
        "id": "q8o4PaJ9R7rj"
      }
    },
    {
      "cell_type": "code",
      "source": [
        "import numpy as np, json, os\n",
        "from sklearn.metrics import accuracy_score, classification_report, confusion_matrix\n",
        "\n",
        "WORDS = json.load(open(os.path.join(NPY_OUT, \"labels.json\")))\n",
        "label_to_name = {i: WORDS[i] for i in range(len(WORDS))}\n",
        "\n",
        "# Classes actually present in TRAIN\n",
        "labels_train = sorted(np.unique(y_tr).tolist())\n",
        "\n",
        "# --- Build prototypes dict only for classes that exist in TRAIN ---\n",
        "protos = {}\n",
        "for k in labels_train:\n",
        "    Ek = E_tr[y_tr == k]\n",
        "    prot = Ek.mean(axis=0)\n",
        "    prot = prot / (np.linalg.norm(prot) + 1e-9)   # L2-normalize\n",
        "    protos[k] = prot\n",
        "\n",
        "def predict_by_protos(E, protos_dict):\n",
        "    # Stack prototypes as (D, C') in original-label order\n",
        "    keys = list(protos_dict.keys())               # e.g., [0,2,3,5,...]\n",
        "    P = np.stack([protos_dict[k] for k in keys], axis=1)   # (D, C')\n",
        "    sims = E @ P                                   # cosine since E is L2-normalized\n",
        "    local = sims.argmax(axis=1)                    # indices in 0..C'-1\n",
        "    global_pred = np.array([keys[i] for i in local], dtype=np.int32)\n",
        "    return global_pred, keys\n",
        "\n",
        "# Predict\n",
        "yhat_va, labels_used = predict_by_protos(E_va, protos)\n",
        "yhat_te, _           = predict_by_protos(E_te, protos)\n",
        "\n",
        "print(\"VAL acc (proto):\", accuracy_score(y_va, yhat_va))\n",
        "print(\"TEST acc (proto):\", accuracy_score(y_te, yhat_te))\n",
        "\n",
        "# Reports: pass explicit labels + names so lengths match\n",
        "target_names = [label_to_name[i] for i in labels_used]\n",
        "print(\"\\nVAL report:\\n\", classification_report(y_va, yhat_va,\n",
        "      labels=labels_used, target_names=target_names, digits=4, zero_division=0))\n",
        "print(\"\\nTEST report:\\n\", classification_report(y_te, yhat_te,\n",
        "      labels=labels_used, target_names=target_names, digits=4, zero_division=0))\n",
        "\n",
        "# Optional: Confusion matrix over the used labels\n",
        "cm = confusion_matrix(y_te, yhat_te, labels=labels_used)\n",
        "print(\"\\nConfusion matrix (labels in order):\", labels_used)\n",
        "print(cm)\n"
      ],
      "metadata": {
        "colab": {
          "base_uri": "https://localhost:8080/"
        },
        "id": "5FzwZQu7R0wA",
        "outputId": "48fadd36-b288-40be-b0c3-aa13e2edc97e"
      },
      "execution_count": null,
      "outputs": [
        {
          "output_type": "stream",
          "name": "stdout",
          "text": [
            "VAL acc (proto): 0.058823529411764705\n",
            "TEST acc (proto): 0.06666666666666667\n",
            "\n",
            "VAL report:\n",
            "               precision    recall  f1-score   support\n",
            "\n",
            "         bad     0.0000    0.0000    0.0000         2\n",
            "        good     0.0000    0.0000    0.0000         2\n",
            "       hello     0.0000    0.0000    0.0000         1\n",
            "        help     0.3333    0.5000    0.4000         2\n",
            "          no     0.0000    0.0000    0.0000         2\n",
            "      please     0.0000    0.0000    0.0000         2\n",
            "       sorry     0.0000    0.0000    0.0000         2\n",
            "        stop     0.0000    0.0000    0.0000         1\n",
            "   thank you     0.0000    0.0000    0.0000         1\n",
            "         yes     0.0000    0.0000    0.0000         2\n",
            "\n",
            "    accuracy                         0.0588        17\n",
            "   macro avg     0.0333    0.0500    0.0400        17\n",
            "weighted avg     0.0392    0.0588    0.0471        17\n",
            "\n",
            "\n",
            "TEST report:\n",
            "               precision    recall  f1-score   support\n",
            "\n",
            "         bad     0.0000    0.0000    0.0000         2\n",
            "        good     0.0000    0.0000    0.0000         2\n",
            "       hello     0.0000    0.0000    0.0000         1\n",
            "        help     0.3333    0.5000    0.4000         2\n",
            "          no     0.0000    0.0000    0.0000         2\n",
            "      please     0.0000    0.0000    0.0000         1\n",
            "       sorry     0.0000    0.0000    0.0000         1\n",
            "        stop     0.0000    0.0000    0.0000         1\n",
            "   thank you     0.0000    0.0000    0.0000         1\n",
            "         yes     0.0000    0.0000    0.0000         2\n",
            "\n",
            "    accuracy                         0.0667        15\n",
            "   macro avg     0.0333    0.0500    0.0400        15\n",
            "weighted avg     0.0444    0.0667    0.0533        15\n",
            "\n",
            "\n",
            "Confusion matrix (labels in order): [1, 2, 3, 4, 5, 6, 7, 8, 9, 10]\n",
            "[[0 0 0 2 0 0 0 0 0 0]\n",
            " [1 0 0 0 0 0 0 0 1 0]\n",
            " [1 0 0 0 0 0 0 0 0 0]\n",
            " [0 0 0 1 0 0 0 0 0 1]\n",
            " [1 0 0 0 0 0 0 0 0 1]\n",
            " [0 1 0 0 0 0 0 0 0 0]\n",
            " [0 0 0 0 1 0 0 0 0 0]\n",
            " [0 0 0 0 0 0 1 0 0 0]\n",
            " [0 0 0 0 0 0 1 0 0 0]\n",
            " [1 0 0 0 1 0 0 0 0 0]]\n"
          ]
        }
      ]
    },
    {
      "cell_type": "markdown",
      "source": [
        "# Cell P4 — (Optional) Logistic Regression on embeddings"
      ],
      "metadata": {
        "id": "qUdpKRNZR0ey"
      }
    },
    {
      "cell_type": "code",
      "source": [
        "from sklearn.linear_model import LogisticRegression\n",
        "from sklearn.metrics import accuracy_score, classification_report, confusion_matrix\n",
        "import numpy as np, json, os\n",
        "\n",
        "NPY_OUT = \"/content/data/word_splits\"\n",
        "WORDS = json.load(open(os.path.join(NPY_OUT, \"labels.json\")))\n",
        "\n",
        "# Assuming E_tr, y_tr, E_va, y_va, E_te, y_te are loaded from previous cells\n",
        "\n",
        "clf = LogisticRegression(max_iter=2000, class_weight='balanced', C=2.0, n_jobs=-1)\n",
        "clf.fit(E_tr, y_tr)\n",
        "\n",
        "print(\"VAL acc (LogReg):\", clf.score(E_va, y_va))\n",
        "print(\"TEST acc (LogReg):\", clf.score(E_te, y_te))\n",
        "\n",
        "# Determine the unique labels present in the validation and test sets\n",
        "unique_labels_va = sorted(np.unique(y_va).tolist())\n",
        "unique_labels_te = sorted(np.unique(y_te).tolist())\n",
        "\n",
        "# Filter the WORDS list to match the unique labels in the data being evaluated\n",
        "target_names_va = [WORDS[i] for i in unique_labels_va]\n",
        "target_names_te = [WORDS[i] for i in unique_labels_te]\n",
        "\n",
        "\n",
        "print(\"\\nVAL report:\\n\", classification_report(y_va, clf.predict(E_va), target_names=target_names_va, labels=unique_labels_va, digits=4, zero_division=0))\n",
        "print(\"\\nTEST report:\\n\", classification_report(y_te, clf.predict(E_te), target_names=target_names_te, labels=unique_labels_te, digits=4, zero_division=0))\n",
        "\n",
        "# Optional: Confusion matrix over the used labels\n",
        "# Determine the combined set of labels present in both true and predicted values for the test set\n",
        "all_test_labels = sorted(list(set(y_te.tolist() + clf.predict(E_te).tolist())))\n",
        "target_names_cm = [WORDS[i] for i in all_test_labels]\n",
        "\n",
        "cm = confusion_matrix(y_te, clf.predict(E_te), labels=all_test_labels)\n",
        "print(\"\\nConfusion matrix (labels in order):\", all_test_labels)\n",
        "print(cm)"
      ],
      "metadata": {
        "colab": {
          "base_uri": "https://localhost:8080/"
        },
        "id": "cnWGeUKNSHzs",
        "outputId": "cac8fe06-5800-4735-e2dd-0ebbfd250bee"
      },
      "execution_count": null,
      "outputs": [
        {
          "output_type": "stream",
          "name": "stdout",
          "text": [
            "VAL acc (LogReg): 0.058823529411764705\n",
            "TEST acc (LogReg): 0.06666666666666667\n",
            "\n",
            "VAL report:\n",
            "               precision    recall  f1-score   support\n",
            "\n",
            "         bad     0.0000    0.0000    0.0000         2\n",
            "        good     0.0000    0.0000    0.0000         2\n",
            "       hello     0.0000    0.0000    0.0000         1\n",
            "        help     0.3333    0.5000    0.4000         2\n",
            "          no     0.0000    0.0000    0.0000         2\n",
            "      please     0.0000    0.0000    0.0000         2\n",
            "       sorry     0.0000    0.0000    0.0000         2\n",
            "        stop     0.0000    0.0000    0.0000         1\n",
            "   thank you     0.0000    0.0000    0.0000         1\n",
            "         yes     0.0000    0.0000    0.0000         2\n",
            "\n",
            "    accuracy                         0.0588        17\n",
            "   macro avg     0.0333    0.0500    0.0400        17\n",
            "weighted avg     0.0392    0.0588    0.0471        17\n",
            "\n",
            "\n",
            "TEST report:\n",
            "               precision    recall  f1-score   support\n",
            "\n",
            "         bad     0.0000    0.0000    0.0000         2\n",
            "        good     0.0000    0.0000    0.0000         2\n",
            "       hello     0.0000    0.0000    0.0000         1\n",
            "        help     0.3333    0.5000    0.4000         2\n",
            "          no     0.0000    0.0000    0.0000         2\n",
            "      please     0.0000    0.0000    0.0000         1\n",
            "       sorry     0.0000    0.0000    0.0000         1\n",
            "        stop     0.0000    0.0000    0.0000         1\n",
            "   thank you     0.0000    0.0000    0.0000         1\n",
            "         yes     0.0000    0.0000    0.0000         2\n",
            "\n",
            "    accuracy                         0.0667        15\n",
            "   macro avg     0.0333    0.0500    0.0400        15\n",
            "weighted avg     0.0444    0.0667    0.0533        15\n",
            "\n",
            "\n",
            "Confusion matrix (labels in order): [1, 2, 3, 4, 5, 6, 7, 8, 9, 10]\n",
            "[[0 0 0 2 0 0 0 0 0 0]\n",
            " [1 0 0 0 0 0 0 0 1 0]\n",
            " [1 0 0 0 0 0 0 0 0 0]\n",
            " [0 0 0 1 0 0 0 0 0 1]\n",
            " [1 0 0 0 0 0 0 0 0 1]\n",
            " [0 1 0 0 0 0 0 0 0 0]\n",
            " [0 0 0 0 0 0 0 1 0 0]\n",
            " [0 0 0 0 0 0 1 0 0 0]\n",
            " [0 0 0 0 0 0 1 0 0 0]\n",
            " [1 0 0 0 1 0 0 0 0 0]]\n"
          ]
        }
      ]
    },
    {
      "cell_type": "markdown",
      "source": [
        "# (Optional) Cell D — Short fine-tune of the backbone (last layers only)"
      ],
      "metadata": {
        "id": "kxuoBknP6nA-"
      }
    },
    {
      "cell_type": "code",
      "source": [
        "import tensorflow as tf, numpy as np, matplotlib.pyplot as plt, json, os\n",
        "from sklearn.metrics import confusion_matrix, classification_report\n",
        "\n",
        "# --- compat loss: sparse CE + label smoothing (since SparseCCE(..., label_smoothing=...) is unsupported in your TF) ---\n",
        "# Define this function outside the loop to avoid re-defining it\n",
        "def sparse_cce_with_ls(num_classes, epsilon=0.05):\n",
        "    base = tf.keras.losses.CategoricalCrossentropy()\n",
        "    @tf.function\n",
        "    def loss_fn(y_true, y_pred):\n",
        "        y_true = tf.cast(y_true, tf.int32)\n",
        "        y_true_oh = tf.one_hot(y_true, depth=num_classes, dtype=y_pred.dtype)\n",
        "        if epsilon and epsilon > 0:\n",
        "            y_true_oh = y_true_oh * (1.0 - epsilon) + (epsilon / tf.cast(num_classes, y_pred.dtype))\n",
        "        return base(y_true_oh, y_pred)\n",
        "    return loss_fn\n",
        "\n",
        "WORDS = json.load(open(\"/content/data/word_splits/labels.json\"))\n",
        "NPY_OUT = \"/content/data/word_splits\"\n",
        "X_test = np.load(f\"{NPY_OUT}/X_test.npy\", mmap_mode='r')\n",
        "y_test = np.load(f\"{NPY_OUT}/y_test.npy\", mmap_mode='r')\n",
        "X_val = np.load(f\"{NPY_OUT}/X_val.npy\", mmap_mode='r') # Load X_val and y_val for evaluation\n",
        "y_val = np.load(f\"{NPY_OUT}/y_val.npy\", mmap_mode='r')\n",
        "\n",
        "# Assuming T, H, W, and make_seq_ds_np are defined in previous cells and available\n",
        "# If not, they would need to be redefined here or ensured to be in the runtime.\n",
        "# For now, assuming they are available.\n",
        "\n",
        "test_ds = make_seq_ds_np(X_test, y_test, batch=4)\n",
        "val_ds_eval = make_seq_ds_np(X_val, y_val, batch=4) # Create val_ds for evaluation\n",
        "\n",
        "for path in [\n",
        "    \"/content/speakez_word_artifacts/best_word_mnet_tavg_aug_finetune.h5\",\n",
        "    \"/content/speakez_word_artifacts/best_word_mnet_tavg_aug.h5\",\n",
        "    \"/content/speakez_word_artifacts/best_word_mnet_tavg.h5\",\n",
        "]:\n",
        "    if not os.path.exists(path):\n",
        "        continue\n",
        "    try:\n",
        "      # Load the model first to get its output shape\n",
        "      m = tf.keras.models.load_model(path)\n",
        "      # Determine the number of classes from the model's output shape\n",
        "      num_classes_model = m.output_shape[-1]\n",
        "      # Re-load the model with the custom loss function using the model's number of classes\n",
        "      m = tf.keras.models.load_model(path, custom_objects={'loss_fn': sparse_cce_with_ls(num_classes_model)})\n",
        "\n",
        "    except Exception as e:\n",
        "      print(f\"Error loading model {path}: {e}\")\n",
        "      continue\n",
        "\n",
        "    print(\"\\nLoaded:\", path)\n",
        "\n",
        "    print(\"Val Evaluation:\") # Changed print statement\n",
        "    m.evaluate(val_ds_eval, verbose=2) # Use val_ds_eval\n",
        "\n",
        "    print(\"Test Evaluation:\") # Changed print statement\n",
        "    m.evaluate(test_ds, verbose=2)\n",
        "\n",
        "    # CM\n",
        "    y_true, y_pred = [], []\n",
        "    for xb, yb in test_ds:\n",
        "        pr = m.predict(xb, verbose=0)\n",
        "        y_pred.append(np.argmax(pr, axis=1)); y_true.append(yb.numpy())\n",
        "    y_true = np.concatenate(y_true); y_pred = np.concatenate(y_pred)\n",
        "\n",
        "    # Determine the number of classes for evaluation consistency with the loaded model\n",
        "    # Use the number of classes determined from the model's output shape\n",
        "    num_classes_for_eval = num_classes_model\n",
        "    target_names_for_eval = WORDS[:num_classes_for_eval] # Use a subset of WORDS if needed\n",
        "\n",
        "    print(\"\\nClassification report:\\n\", classification_report(y_true, y_pred, target_names=target_names_for_eval, digits=4, labels=list(range(num_classes_for_eval))))\n",
        "\n",
        "    # Explicitly provide labels to confusion_matrix\n",
        "    cm = confusion_matrix(y_true, y_pred, labels=list(range(num_classes_for_eval)))\n",
        "    plt.figure(figsize=(8,8)); plt.imshow(cm, interpolation='nearest'); plt.title(f'CM (Test) — {os.path.basename(path)}')\n",
        "    plt.colorbar(); ticks = np.arange(num_classes_for_eval)\n",
        "    plt.xticks(ticks, target_names_for_eval, rotation=45, ha='right'); plt.yticks(ticks, target_names_for_eval)\n",
        "    plt.tight_layout(); plt.xlabel('Predicted'); plt.ylabel('True'); plt.show()"
      ],
      "metadata": {
        "colab": {
          "base_uri": "https://localhost:8080/"
        },
        "id": "MHstxBgw6t90",
        "outputId": "c04c7a82-77ac-4a76-adba-affc63dc131e"
      },
      "execution_count": null,
      "outputs": [
        {
          "output_type": "stream",
          "name": "stdout",
          "text": [
            "Error loading model /content/speakez_word_artifacts/best_word_mnet_tavg.h5: string indices must be integers, not 'str'\n"
          ]
        }
      ]
    },
    {
      "cell_type": "markdown",
      "source": [
        "# Cell E0 — Inspect folders vs labels.json (spot mismatches)"
      ],
      "metadata": {
        "id": "NBFNxB4JXot9"
      }
    },
    {
      "cell_type": "code",
      "source": [
        "from pathlib import Path\n",
        "import json, re, os\n",
        "\n",
        "DATA_ROOT = Path(\"/content/data/word_videos\")\n",
        "NPY_OUT   = Path(\"/content/data/word_splits\")\n",
        "\n",
        "folders = sorted([p.name for p in DATA_ROOT.iterdir() if p.is_dir()])\n",
        "print(\"Folders on disk:\", folders)\n",
        "\n",
        "try:\n",
        "    WORDS_JSON = json.load(open(NPY_OUT/\"labels.json\"))\n",
        "    print(\"labels.json:\", WORDS_JSON)\n",
        "except Exception as e:\n",
        "    print(\"labels.json missing or unreadable:\", e)\n",
        "    WORDS_JSON = []\n",
        "\n",
        "def norm(s):  # canonical form: lowercase, spaces/_ -> '-', strip non-alnum\n",
        "    s = s.strip().lower()\n",
        "    s = re.sub(r'[\\s_]+', '-', s)\n",
        "    s = re.sub(r'[^a-z0-9\\-]+', '', s)\n",
        "    s = re.sub(r'-{2,}', '-', s).strip('-')\n",
        "    return s\n",
        "\n",
        "print(\"Normalized folders:\", [norm(f) for f in folders])\n",
        "print(\"Normalized labels.json:\", [norm(w) for w in WORDS_JSON])\n",
        "print(\"Folder count:\", len(folders))\n"
      ],
      "metadata": {
        "colab": {
          "base_uri": "https://localhost:8080/"
        },
        "id": "e0QIqgO8Xo8W",
        "outputId": "bf84c32b-042b-46f6-ed4d-f4583b84fcdb"
      },
      "execution_count": null,
      "outputs": [
        {
          "output_type": "stream",
          "name": "stdout",
          "text": [
            "Folders on disk: ['.ipynb_checkpoints', 'bad', 'good', 'hello', 'help', 'no', 'please', 'sorry', 'stop', 'thank you', 'yes']\n",
            "labels.json: ['.ipynb_checkpoints', 'bad', 'good', 'hello', 'help', 'no', 'please', 'sorry', 'stop', 'thank you', 'yes']\n",
            "Normalized folders: ['ipynb-checkpoints', 'bad', 'good', 'hello', 'help', 'no', 'please', 'sorry', 'stop', 'thank-you', 'yes']\n",
            "Normalized labels.json: ['ipynb-checkpoints', 'bad', 'good', 'hello', 'help', 'no', 'please', 'sorry', 'stop', 'thank-you', 'yes']\n",
            "Folder count: 11\n"
          ]
        }
      ]
    },
    {
      "cell_type": "markdown",
      "source": [
        "# Cell E1 — Discover items with canonical labels, show counts"
      ],
      "metadata": {
        "id": "9_LRKojVXwzG"
      }
    },
    {
      "cell_type": "code",
      "source": [
        "import glob, numpy as np\n",
        "from collections import Counter\n",
        "\n",
        "def list_videos_with_canon_labels(root):\n",
        "    items = []\n",
        "    for d in sorted([p for p in Path(root).iterdir() if p.is_dir()]):\n",
        "        label = norm(d.name)\n",
        "        for p in glob.glob(str(d/\"*.*\")):\n",
        "            if p.lower().endswith((\".mp4\",\".mov\",\".avi\",\".mkv\",\".webm\")):\n",
        "                items.append((p, label))\n",
        "    return items\n",
        "\n",
        "items = list_videos_with_canon_labels(DATA_ROOT)\n",
        "labels = sorted({lab for _, lab in items})\n",
        "print(\"Canonical labels discovered:\", labels, \"\\nTotal clips:\", len(items))\n",
        "\n",
        "# per-class raw clip counts\n",
        "cnt = Counter([lab for _, lab in items])\n",
        "print(\"Counts per class:\", {k: cnt[k] for k in labels})\n"
      ],
      "metadata": {
        "colab": {
          "base_uri": "https://localhost:8080/"
        },
        "id": "Z9dailwuX1Hn",
        "outputId": "7584a3d4-1584-4bbe-92b4-fbf85deb8ac8"
      },
      "execution_count": null,
      "outputs": [
        {
          "output_type": "stream",
          "name": "stdout",
          "text": [
            "Canonical labels discovered: ['bad', 'good', 'hello', 'help', 'no', 'please', 'sorry', 'stop', 'thank-you', 'yes'] \n",
            "Total clips: 102\n",
            "Counts per class: {'bad': 11, 'good': 11, 'hello': 7, 'help': 11, 'no': 15, 'please': 9, 'sorry': 9, 'stop': 6, 'thank-you': 7, 'yes': 16}\n"
          ]
        }
      ]
    },
    {
      "cell_type": "markdown",
      "source": [
        "# Cell E2 — Constrained split (≥2 train if possible, ≥1 val/test), rebuild NPYs"
      ],
      "metadata": {
        "id": "bNfpyskBX-Q7"
      }
    },
    {
      "cell_type": "code",
      "source": [
        "import cv2, json, numpy as np\n",
        "from pathlib import Path\n",
        "from collections import defaultdict\n",
        "\n",
        "NPY_OUT.mkdir(parents=True, exist_ok=True)\n",
        "IMAGE_SIZE = (128,128)\n",
        "T = 24\n",
        "\n",
        "def constrained_split(items, seed=42):\n",
        "    by = defaultdict(list)\n",
        "    for p,w in items: by[w].append(p)\n",
        "    rng = np.random.default_rng(seed)\n",
        "    train,val,test = [],[],[]\n",
        "    for w,paths in by.items():\n",
        "        paths = paths.copy()\n",
        "        rng.shuffle(paths)\n",
        "        n = len(paths)\n",
        "        nv = 1 if n>=3 else 1\n",
        "        nt = 1 if n>=3 else 1\n",
        "        # leave ≥2 for train when possible\n",
        "        if n - (nv+nt) < 2 and n >= 4:\n",
        "            nv, nt = 1, 1\n",
        "        val  += [(p,w) for p in paths[:nv]]\n",
        "        test += [(p,w) for p in paths[nv:nv+nt]]\n",
        "        train+= [(p,w) for p in paths[nv+nt:]]\n",
        "    return train, val, test\n",
        "\n",
        "def read_video_uniform(path, T=24, target_hw=(128,128)):\n",
        "    cap = cv2.VideoCapture(path); frames = int(cap.get(cv2.CAP_PROP_FRAME_COUNT))\n",
        "    idxs = np.linspace(0, max(frames-1,0), T).astype(int) if frames>0 else np.zeros(T, int)\n",
        "    out = np.empty((T, target_hw[0], target_hw[1], 3), np.float32); filled = np.zeros((T,), bool)\n",
        "    f=0; ok,frame=cap.read()\n",
        "    while ok:\n",
        "        if f in idxs:\n",
        "            h,w = frame.shape[:2]; m=min(h,w); y0=(h-m)//2; x0=(w-m)//2\n",
        "            crop = frame[y0:y0+m, x0:x0+m]; crop = cv2.resize(crop, target_hw, interpolation=cv2.INTER_AREA)\n",
        "            rgb = cv2.cvtColor(crop, cv2.COLOR_BGR2RGB).astype(np.float32)/255.0\n",
        "            pos = np.where(idxs==f)[0][0]; out[pos]=rgb; filled[pos]=True\n",
        "        ok,frame=cap.read(); f+=1\n",
        "    cap.release()\n",
        "    # fill any gaps by nearest available frame\n",
        "    for i in range(T):\n",
        "        if not filled[i]:\n",
        "            left = max([j for j in range(i,-1,-1) if filled[j]], default=None)\n",
        "            right= min([j for j in range(i,T) if filled[j]], default=None)\n",
        "            pick = left if right is None else (right if left is None else (left if (i-left)<=(right-i) else right))\n",
        "            out[i] = out[pick] if pick is not None else np.zeros_like(out[i])\n",
        "    return out\n",
        "\n",
        "def preprocess_save(items, split_name, labels, out_dir=NPY_OUT, T=24, image_size=(128,128)):\n",
        "    lbl2id = {w:i for i,w in enumerate(labels)}\n",
        "    X_list, y_list = [], []\n",
        "    for p,w in items:\n",
        "        try:\n",
        "            X_list.append(read_video_uniform(p, T=T, target_hw=image_size))\n",
        "            y_list.append(lbl2id[w])\n",
        "        except Exception as e:\n",
        "            print(\"ERR\", p, e)\n",
        "    X = np.stack(X_list).astype(np.float32) if X_list else np.zeros((0,T,image_size[0],image_size[1],3), np.float32)\n",
        "    y = np.array(y_list, dtype=np.int32)\n",
        "    np.save(out_dir/f\"X_{split_name}.npy\", X); np.save(out_dir/f\"y_{split_name}.npy\", y)\n",
        "    print(f\"{split_name}: X={X.shape} y={y.shape}\")\n",
        "\n",
        "train_items, val_items, test_items = constrained_split(items, seed=1234)\n",
        "labels = sorted({lab for _, lab in items})\n",
        "print(f\"sizes: train={len(train_items)} val={len(val_items)} test={len(test_items)} classes={len(labels)}\")\n",
        "\n",
        "preprocess_save(train_items, \"train\", labels, T=T, image_size=IMAGE_SIZE)\n",
        "preprocess_save(val_items,   \"val\",   labels, T=T, image_size=IMAGE_SIZE)\n",
        "preprocess_save(test_items,  \"test\",  labels, T=T, image_size=IMAGE_SIZE)\n",
        "json.dump(labels, open(NPY_OUT/\"labels.json\",\"w\"), indent=2)\n",
        "print(\"Wrote labels.json:\", labels)\n"
      ],
      "metadata": {
        "colab": {
          "base_uri": "https://localhost:8080/"
        },
        "id": "yXZZbMmRX_h_",
        "outputId": "b086416f-1ce7-4f03-9208-62ce51225a58"
      },
      "execution_count": null,
      "outputs": [
        {
          "output_type": "stream",
          "name": "stdout",
          "text": [
            "sizes: train=82 val=10 test=10 classes=10\n",
            "train: X=(82, 24, 128, 128, 3) y=(82,)\n",
            "val: X=(10, 24, 128, 128, 3) y=(10,)\n",
            "test: X=(10, 24, 128, 128, 3) y=(10,)\n",
            "Wrote labels.json: ['bad', 'good', 'hello', 'help', 'no', 'please', 'sorry', 'stop', 'thank-you', 'yes']\n"
          ]
        }
      ]
    },
    {
      "cell_type": "markdown",
      "source": [
        "# Cell E3 — Re-embed with the frozen encoder (reuses your P1/P2)"
      ],
      "metadata": {
        "id": "vJ2vBdL_YEiS"
      }
    },
    {
      "cell_type": "code",
      "source": [
        "# Reuse your P1/P2 (embedding) cells exactly as before:\n",
        "# 1) load X_train/y_train/X_val/y_val/X_test/y_test from NPY_OUT\n",
        "# 2) build clip_encoder (MobileNetV2 → mean over time → L2)\n",
        "# 3) embed to E_tr/E_va/E_te\n",
        "import tensorflow as tf, numpy as np, os, json\n",
        "from tensorflow.keras import layers, models\n",
        "\n",
        "# Load\n",
        "X_train = np.load(NPY_OUT/\"X_train.npy\", mmap_mode='r'); y_train = np.load(NPY_OUT/\"y_train.npy\", mmap_mode='r')\n",
        "X_val   = np.load(NPY_OUT/\"X_val.npy\",   mmap_mode='r'); y_val   = np.load(NPY_OUT/\"y_val.npy\",   mmap_mode='r')\n",
        "X_test  = np.load(NPY_OUT/\"X_test.npy\",  mmap_mode='r'); y_test  = np.load(NPY_OUT/\"y_test.npy\",  mmap_mode='r')\n",
        "labels  = json.load(open(NPY_OUT/\"labels.json\"))\n",
        "NUM_CLASSES = len(labels)\n",
        "T,H,W = X_train.shape[1:4]\n",
        "print(\"Shapes:\", X_train.shape, X_val.shape, X_test.shape, \"classes:\", NUM_CLASSES)\n",
        "\n",
        "# tf.data (no jitter)\n",
        "AUTOTUNE = tf.data.AUTOTUNE\n",
        "def make_seq_ds_np(X, y, batch=8):\n",
        "    def _get_x(i_np): return X[int(i_np)]\n",
        "    def _get_y(i_np): return y[int(i_np)]\n",
        "    def _loader(i):\n",
        "        xi = tf.numpy_function(_get_x, [i], tf.float32); yi = tf.numpy_function(_get_y, [i], tf.int32)\n",
        "        xi.set_shape((T,H,W,3)); yi.set_shape(())\n",
        "        return xi, yi\n",
        "    idx = tf.data.Dataset.from_tensor_slices(tf.range(len(y), dtype=tf.int64))\n",
        "    return idx.map(_loader, num_parallel_calls=AUTOTUNE).batch(batch).prefetch(AUTOTUNE)\n",
        "\n",
        "train_ds = make_seq_ds_np(X_train, y_train, batch=8)\n",
        "val_ds   = make_seq_ds_np(X_val,   y_val,   batch=8)\n",
        "test_ds  = make_seq_ds_np(X_test,  y_test,  batch=8)\n",
        "\n",
        "# Encoder (Keras-safe L2)\n",
        "try:\n",
        "    from tensorflow.keras.layers import UnitNormalization\n",
        "    def l2norm(axis=-1): return UnitNormalization(axis=axis)\n",
        "except:\n",
        "    def l2norm(axis=-1): return layers.Lambda(lambda t: tf.nn.l2_normalize(t, axis=axis))\n",
        "\n",
        "base = tf.keras.applications.MobileNetV2(input_shape=(H,W,3), include_top=False, weights=\"imagenet\", alpha=1.0)\n",
        "base.trainable = False\n",
        "f_in = layers.Input((H,W,3))\n",
        "z = layers.Rescaling(2.0, offset=-1.0)(f_in)\n",
        "z = base(z, training=False)\n",
        "z = layers.GlobalAveragePooling2D()(z)\n",
        "z = layers.Dense(256, activation='relu')(z)\n",
        "z = l2norm()(z)\n",
        "frame_encoder = models.Model(f_in, z)\n",
        "\n",
        "seq_in = layers.Input((T,H,W,3))\n",
        "feats = layers.TimeDistributed(frame_encoder)(seq_in)\n",
        "clip  = layers.GlobalAveragePooling1D()(feats)\n",
        "clip  = l2norm()(clip)\n",
        "clip_encoder = models.Model(seq_in, clip)\n",
        "\n",
        "def embed_ds(ds, model):\n",
        "    E, Y = [], []\n",
        "    for xb, yb in ds:\n",
        "        E.append(model.predict(xb, verbose=0))\n",
        "        Y.append(yb.numpy())\n",
        "    return np.concatenate(E), np.concatenate(Y)\n",
        "\n",
        "E_tr, y_tr = embed_ds(train_ds, clip_encoder)\n",
        "E_va, y_va = embed_ds(val_ds,   clip_encoder)\n",
        "E_te, y_te = embed_ds(test_ds,  clip_encoder)\n",
        "\n",
        "print(\"Embeddings:\", E_tr.shape, E_va.shape, E_te.shape)\n"
      ],
      "metadata": {
        "colab": {
          "base_uri": "https://localhost:8080/"
        },
        "id": "JqhJpZahYFxp",
        "outputId": "12af4bf9-fb7b-449f-bdd7-80bfed00bc1c"
      },
      "execution_count": null,
      "outputs": [
        {
          "output_type": "stream",
          "name": "stdout",
          "text": [
            "Shapes: (82, 24, 128, 128, 3) (10, 24, 128, 128, 3) (10, 24, 128, 128, 3) classes: 10\n",
            "Embeddings: (82, 256) (10, 256) (10, 256)\n"
          ]
        }
      ]
    },
    {
      "cell_type": "markdown",
      "source": [
        "# Cell E4 — Few-shot baselines on embeddings (Prototypes, k-NN, LogReg)"
      ],
      "metadata": {
        "id": "foJ3fn8tYIE1"
      }
    },
    {
      "cell_type": "code",
      "source": [
        "import numpy as np, json, os\n",
        "from sklearn.metrics import accuracy_score, classification_report\n",
        "from sklearn.neighbors import KNeighborsClassifier\n",
        "from sklearn.linear_model import LogisticRegression\n",
        "\n",
        "WORDS = json.load(open(NPY_OUT/\"labels.json\"))\n",
        "\n",
        "# Prototypes (over train classes only)\n",
        "train_classes = sorted(np.unique(y_tr).tolist())\n",
        "protos = np.stack([E_tr[y_tr==k].mean(axis=0) for k in train_classes])\n",
        "protos /= (np.linalg.norm(protos, axis=1, keepdims=True)+1e-9)\n",
        "\n",
        "def pred_proto(E, P): return (E @ P.T).argmax(axis=1)\n",
        "\n",
        "yp_va_local = pred_proto(E_va, protos)\n",
        "yp_te_local = pred_proto(E_te, protos)\n",
        "# map local indices -> original labels\n",
        "yp_va = np.array([train_classes[i] for i in yp_va_local])\n",
        "yp_te = np.array([train_classes[i] for i in yp_te_local])\n",
        "\n",
        "print(\"PROTO  VAL:\", accuracy_score(y_va, yp_va), \" TEST:\", accuracy_score(y_te, yp_te))\n",
        "\n",
        "# kNN with cosine, pick k on val\n",
        "best = None\n",
        "for k in [1,3,5]:\n",
        "    knn = KNeighborsClassifier(n_neighbors=k, metric='cosine')\n",
        "    knn.fit(E_tr, y_tr)\n",
        "    va = knn.score(E_va, y_va)\n",
        "    if best is None or va > best[0]: best = (va,k,knn)\n",
        "print(f\"kNN  BEST: k={best[1]}  VAL={best[0]:.3f}  TEST={best[2].score(E_te, y_te):.3f}\")\n",
        "\n",
        "# Logistic Regression\n",
        "lr = LogisticRegression(max_iter=2000, class_weight='balanced', C=2.0, n_jobs=-1)\n",
        "lr.fit(E_tr, y_tr)\n",
        "print(\"LOGREG VAL:\", lr.score(E_va, y_va), \" TEST:\", lr.score(E_te, y_te))\n"
      ],
      "metadata": {
        "colab": {
          "base_uri": "https://localhost:8080/"
        },
        "id": "j_NuygmhYLx4",
        "outputId": "4f3d953f-1cf5-4c6b-eddc-e37aedaa274d"
      },
      "execution_count": null,
      "outputs": [
        {
          "output_type": "stream",
          "name": "stdout",
          "text": [
            "PROTO  VAL: 0.1  TEST: 0.1\n",
            "kNN  BEST: k=1  VAL=0.100  TEST=0.100\n",
            "LOGREG VAL: 0.2  TEST: 0.1\n"
          ]
        }
      ]
    },
    {
      "cell_type": "markdown",
      "source": [
        "# Cell T1 — Temporal-Pyramid Encoder + test-time temporal augmentation (TTA)"
      ],
      "metadata": {
        "id": "OSr3ISQkZ3xD"
      }
    },
    {
      "cell_type": "code",
      "source": [
        "# === Cell T1 — Temporal-Pyramid (3-segment) encoder + TTA embedders ===\n",
        "import tensorflow as tf, numpy as np, os, json\n",
        "from tensorflow.keras import layers, models\n",
        "\n",
        "NPY_OUT = \"/content/data/word_splits\"\n",
        "X_train = np.load(f\"{NPY_OUT}/X_train.npy\", mmap_mode='r'); y_train = np.load(f\"{NPY_OUT}/y_train.npy\", mmap_mode='r')\n",
        "X_val   = np.load(f\"{NPY_OUT}/X_val.npy\",   mmap_mode='r'); y_val   = np.load(f\"{NPY_OUT}/y_val.npy\",   mmap_mode='r')\n",
        "X_test  = np.load(f\"{NPY_OUT}/X_test.npy\",  mmap_mode='r'); y_test  = np.load(f\"{NPY_OUT}/y_test.npy\",  mmap_mode='r')\n",
        "T, H, W = X_train.shape[1:4]\n",
        "\n",
        "AUTOTUNE = tf.data.AUTOTUNE\n",
        "def make_seq_ds_np(X, y, batch=8):\n",
        "    def _get_x(i_np): return X[int(i_np)]\n",
        "    def _get_y(i_np): return y[int(i_np)]\n",
        "    def _loader(i):\n",
        "        xi = tf.numpy_function(_get_x, [i], tf.float32); yi = tf.numpy_function(_get_y, [i], tf.int32)\n",
        "        xi.set_shape((T,H,W,3)); yi.set_shape(())\n",
        "        return xi, yi\n",
        "    idx = tf.data.Dataset.from_tensor_slices(tf.range(len(y), dtype=tf.int64))\n",
        "    return idx.map(_loader, num_parallel_calls=AUTOTUNE).batch(batch).prefetch(AUTOTUNE)\n",
        "\n",
        "train_ds = make_seq_ds_np(X_train, y_train, batch=8)\n",
        "val_ds   = make_seq_ds_np(X_val,   y_val,   batch=8)\n",
        "test_ds  = make_seq_ds_np(X_test,  y_test,  batch=8)\n",
        "\n",
        "# Keras-safe L2 layer\n",
        "try:\n",
        "    from tensorflow.keras.layers import UnitNormalization\n",
        "    def L2(axis=-1, name=None): return UnitNormalization(axis=axis, name=name)\n",
        "except:\n",
        "    def L2(axis=-1, name=None): return layers.Lambda(lambda t: tf.nn.l2_normalize(t, axis=axis), name=name)\n",
        "\n",
        "def make_temporal_pyramid_encoder(input_hw=(128,128), emb_dim=256, alpha=1.0):\n",
        "    # Frozen MobileNetV2 frame encoder\n",
        "    base = tf.keras.applications.MobileNetV2(input_shape=(input_hw[0], input_hw[1], 3),\n",
        "                                             include_top=False, weights=\"imagenet\", alpha=alpha)\n",
        "    base.trainable = False\n",
        "    f_in = layers.Input((input_hw[0], input_hw[1], 3))\n",
        "    z = layers.Rescaling(2.0, offset=-1.0)(f_in)   # [0,1] -> [-1,1]\n",
        "    z = base(z, training=False)\n",
        "    z = layers.GlobalAveragePooling2D()(z)\n",
        "    z = layers.Dense(256, activation='relu')(z)\n",
        "    z = L2(name=\"frame_l2\")(z)\n",
        "    frame_enc = models.Model(f_in, z, name=\"frame_enc\")\n",
        "\n",
        "    # Sequence → 3 temporal segments → mean per segment → concat → L2\n",
        "    seq_in = layers.Input((T, input_hw[0], input_hw[1], 3))\n",
        "    td = layers.TimeDistributed(frame_enc)\n",
        "\n",
        "    t1 = layers.Lambda(lambda x: x[:, : T//3      , ...])(seq_in)\n",
        "    t2 = layers.Lambda(lambda x: x[:, T//3:2*T//3 , ...])(seq_in)\n",
        "    t3 = layers.Lambda(lambda x: x[:, 2*T//3:     , ...])(seq_in)\n",
        "\n",
        "    f1 = layers.GlobalAveragePooling1D()(td(t1))   # (B,256)\n",
        "    f2 = layers.GlobalAveragePooling1D()(td(t2))\n",
        "    f3 = layers.GlobalAveragePooling1D()(td(t3))\n",
        "\n",
        "    clip = layers.Concatenate()([f1, f2, f3])      # (B, 768)\n",
        "    clip = L2(name=\"clip_l2\")(clip)\n",
        "    return models.Model(seq_in, clip, name=\"tpyr_encoder\")\n",
        "\n",
        "tp_encoder = make_temporal_pyramid_encoder((H,W), emb_dim=256, alpha=1.0)\n",
        "tp_encoder.summary()\n",
        "\n",
        "def embed_ds_tta(ds, model, rolls=(0, -2, 2)):\n",
        "    Es, Ys = [], []\n",
        "    for xb, yb in ds:\n",
        "        # run several temporal rolls, average, then L2 renorm\n",
        "        embs = []\n",
        "        for k in rolls:\n",
        "            xk = tf.roll(xb, shift=k, axis=1) if k != 0 else xb\n",
        "            e = model.predict(xk, verbose=0)   # already L2\n",
        "            embs.append(e)\n",
        "        eavg = np.mean(np.stack(embs, axis=0), axis=0)\n",
        "        eavg = eavg / (np.linalg.norm(eavg, axis=1, keepdims=True) + 1e-9)\n",
        "        Es.append(eavg); Ys.append(yb.numpy())\n",
        "    return np.concatenate(Es, axis=0), np.concatenate(Ys, axis=0)\n",
        "\n",
        "Etr_tp, ytr = embed_ds_tta(train_ds, tp_encoder)\n",
        "Eva_tp, yva = embed_ds_tta(val_ds,   tp_encoder)\n",
        "Ete_tp, yte = embed_ds_tta(test_ds,  tp_encoder)\n",
        "print(\"TP embeddings:\", Etr_tp.shape, Eva_tp.shape, Ete_tp.shape)\n"
      ],
      "metadata": {
        "colab": {
          "base_uri": "https://localhost:8080/",
          "height": 658
        },
        "id": "C8ALd8ZaZ49-",
        "outputId": "c02c106d-f9f0-481e-e7e3-baabc437ca4b"
      },
      "execution_count": null,
      "outputs": [
        {
          "output_type": "display_data",
          "data": {
            "text/plain": [
              "\u001b[1mModel: \"tpyr_encoder\"\u001b[0m\n"
            ],
            "text/html": [
              "<pre style=\"white-space:pre;overflow-x:auto;line-height:normal;font-family:Menlo,'DejaVu Sans Mono',consolas,'Courier New',monospace\"><span style=\"font-weight: bold\">Model: \"tpyr_encoder\"</span>\n",
              "</pre>\n"
            ]
          },
          "metadata": {}
        },
        {
          "output_type": "display_data",
          "data": {
            "text/plain": [
              "┏━━━━━━━━━━━━━━━━━━━━━┳━━━━━━━━━━━━━━━━━━━┳━━━━━━━━━━━━┳━━━━━━━━━━━━━━━━━━━┓\n",
              "┃\u001b[1m \u001b[0m\u001b[1mLayer (type)       \u001b[0m\u001b[1m \u001b[0m┃\u001b[1m \u001b[0m\u001b[1mOutput Shape     \u001b[0m\u001b[1m \u001b[0m┃\u001b[1m \u001b[0m\u001b[1m   Param #\u001b[0m\u001b[1m \u001b[0m┃\u001b[1m \u001b[0m\u001b[1mConnected to     \u001b[0m\u001b[1m \u001b[0m┃\n",
              "┡━━━━━━━━━━━━━━━━━━━━━╇━━━━━━━━━━━━━━━━━━━╇━━━━━━━━━━━━╇━━━━━━━━━━━━━━━━━━━┩\n",
              "│ input_layer_16      │ (\u001b[38;5;45mNone\u001b[0m, \u001b[38;5;34m24\u001b[0m, \u001b[38;5;34m128\u001b[0m,   │          \u001b[38;5;34m0\u001b[0m │ -                 │\n",
              "│ (\u001b[38;5;33mInputLayer\u001b[0m)        │ \u001b[38;5;34m128\u001b[0m, \u001b[38;5;34m3\u001b[0m)           │            │                   │\n",
              "├─────────────────────┼───────────────────┼────────────┼───────────────────┤\n",
              "│ lambda (\u001b[38;5;33mLambda\u001b[0m)     │ (\u001b[38;5;45mNone\u001b[0m, \u001b[38;5;34m8\u001b[0m, \u001b[38;5;34m128\u001b[0m,    │          \u001b[38;5;34m0\u001b[0m │ input_layer_16[\u001b[38;5;34m0\u001b[0m… │\n",
              "│                     │ \u001b[38;5;34m128\u001b[0m, \u001b[38;5;34m3\u001b[0m)           │            │                   │\n",
              "├─────────────────────┼───────────────────┼────────────┼───────────────────┤\n",
              "│ lambda_1 (\u001b[38;5;33mLambda\u001b[0m)   │ (\u001b[38;5;45mNone\u001b[0m, \u001b[38;5;34m8\u001b[0m, \u001b[38;5;34m128\u001b[0m,    │          \u001b[38;5;34m0\u001b[0m │ input_layer_16[\u001b[38;5;34m0\u001b[0m… │\n",
              "│                     │ \u001b[38;5;34m128\u001b[0m, \u001b[38;5;34m3\u001b[0m)           │            │                   │\n",
              "├─────────────────────┼───────────────────┼────────────┼───────────────────┤\n",
              "│ lambda_2 (\u001b[38;5;33mLambda\u001b[0m)   │ (\u001b[38;5;45mNone\u001b[0m, \u001b[38;5;34m8\u001b[0m, \u001b[38;5;34m128\u001b[0m,    │          \u001b[38;5;34m0\u001b[0m │ input_layer_16[\u001b[38;5;34m0\u001b[0m… │\n",
              "│                     │ \u001b[38;5;34m128\u001b[0m, \u001b[38;5;34m3\u001b[0m)           │            │                   │\n",
              "├─────────────────────┼───────────────────┼────────────┼───────────────────┤\n",
              "│ time_distributed_4  │ (\u001b[38;5;45mNone\u001b[0m, \u001b[38;5;34m8\u001b[0m, \u001b[38;5;34m256\u001b[0m)    │  \u001b[38;5;34m2,585,920\u001b[0m │ lambda[\u001b[38;5;34m0\u001b[0m][\u001b[38;5;34m0\u001b[0m],     │\n",
              "│ (\u001b[38;5;33mTimeDistributed\u001b[0m)   │                   │            │ lambda_1[\u001b[38;5;34m0\u001b[0m][\u001b[38;5;34m0\u001b[0m],   │\n",
              "│                     │                   │            │ lambda_2[\u001b[38;5;34m0\u001b[0m][\u001b[38;5;34m0\u001b[0m]    │\n",
              "├─────────────────────┼───────────────────┼────────────┼───────────────────┤\n",
              "│ global_average_poo… │ (\u001b[38;5;45mNone\u001b[0m, \u001b[38;5;34m256\u001b[0m)       │          \u001b[38;5;34m0\u001b[0m │ time_distributed… │\n",
              "│ (\u001b[38;5;33mGlobalAveragePool…\u001b[0m │                   │            │                   │\n",
              "├─────────────────────┼───────────────────┼────────────┼───────────────────┤\n",
              "│ global_average_poo… │ (\u001b[38;5;45mNone\u001b[0m, \u001b[38;5;34m256\u001b[0m)       │          \u001b[38;5;34m0\u001b[0m │ time_distributed… │\n",
              "│ (\u001b[38;5;33mGlobalAveragePool…\u001b[0m │                   │            │                   │\n",
              "├─────────────────────┼───────────────────┼────────────┼───────────────────┤\n",
              "│ global_average_poo… │ (\u001b[38;5;45mNone\u001b[0m, \u001b[38;5;34m256\u001b[0m)       │          \u001b[38;5;34m0\u001b[0m │ time_distributed… │\n",
              "│ (\u001b[38;5;33mGlobalAveragePool…\u001b[0m │                   │            │                   │\n",
              "├─────────────────────┼───────────────────┼────────────┼───────────────────┤\n",
              "│ concatenate         │ (\u001b[38;5;45mNone\u001b[0m, \u001b[38;5;34m768\u001b[0m)       │          \u001b[38;5;34m0\u001b[0m │ global_average_p… │\n",
              "│ (\u001b[38;5;33mConcatenate\u001b[0m)       │                   │            │ global_average_p… │\n",
              "│                     │                   │            │ global_average_p… │\n",
              "├─────────────────────┼───────────────────┼────────────┼───────────────────┤\n",
              "│ clip_l2             │ (\u001b[38;5;45mNone\u001b[0m, \u001b[38;5;34m768\u001b[0m)       │          \u001b[38;5;34m0\u001b[0m │ concatenate[\u001b[38;5;34m0\u001b[0m][\u001b[38;5;34m0\u001b[0m] │\n",
              "│ (\u001b[38;5;33mUnitNormalization\u001b[0m) │                   │            │                   │\n",
              "└─────────────────────┴───────────────────┴────────────┴───────────────────┘\n"
            ],
            "text/html": [
              "<pre style=\"white-space:pre;overflow-x:auto;line-height:normal;font-family:Menlo,'DejaVu Sans Mono',consolas,'Courier New',monospace\">┏━━━━━━━━━━━━━━━━━━━━━┳━━━━━━━━━━━━━━━━━━━┳━━━━━━━━━━━━┳━━━━━━━━━━━━━━━━━━━┓\n",
              "┃<span style=\"font-weight: bold\"> Layer (type)        </span>┃<span style=\"font-weight: bold\"> Output Shape      </span>┃<span style=\"font-weight: bold\">    Param # </span>┃<span style=\"font-weight: bold\"> Connected to      </span>┃\n",
              "┡━━━━━━━━━━━━━━━━━━━━━╇━━━━━━━━━━━━━━━━━━━╇━━━━━━━━━━━━╇━━━━━━━━━━━━━━━━━━━┩\n",
              "│ input_layer_16      │ (<span style=\"color: #00d7ff; text-decoration-color: #00d7ff\">None</span>, <span style=\"color: #00af00; text-decoration-color: #00af00\">24</span>, <span style=\"color: #00af00; text-decoration-color: #00af00\">128</span>,   │          <span style=\"color: #00af00; text-decoration-color: #00af00\">0</span> │ -                 │\n",
              "│ (<span style=\"color: #0087ff; text-decoration-color: #0087ff\">InputLayer</span>)        │ <span style=\"color: #00af00; text-decoration-color: #00af00\">128</span>, <span style=\"color: #00af00; text-decoration-color: #00af00\">3</span>)           │            │                   │\n",
              "├─────────────────────┼───────────────────┼────────────┼───────────────────┤\n",
              "│ lambda (<span style=\"color: #0087ff; text-decoration-color: #0087ff\">Lambda</span>)     │ (<span style=\"color: #00d7ff; text-decoration-color: #00d7ff\">None</span>, <span style=\"color: #00af00; text-decoration-color: #00af00\">8</span>, <span style=\"color: #00af00; text-decoration-color: #00af00\">128</span>,    │          <span style=\"color: #00af00; text-decoration-color: #00af00\">0</span> │ input_layer_16[<span style=\"color: #00af00; text-decoration-color: #00af00\">0</span>… │\n",
              "│                     │ <span style=\"color: #00af00; text-decoration-color: #00af00\">128</span>, <span style=\"color: #00af00; text-decoration-color: #00af00\">3</span>)           │            │                   │\n",
              "├─────────────────────┼───────────────────┼────────────┼───────────────────┤\n",
              "│ lambda_1 (<span style=\"color: #0087ff; text-decoration-color: #0087ff\">Lambda</span>)   │ (<span style=\"color: #00d7ff; text-decoration-color: #00d7ff\">None</span>, <span style=\"color: #00af00; text-decoration-color: #00af00\">8</span>, <span style=\"color: #00af00; text-decoration-color: #00af00\">128</span>,    │          <span style=\"color: #00af00; text-decoration-color: #00af00\">0</span> │ input_layer_16[<span style=\"color: #00af00; text-decoration-color: #00af00\">0</span>… │\n",
              "│                     │ <span style=\"color: #00af00; text-decoration-color: #00af00\">128</span>, <span style=\"color: #00af00; text-decoration-color: #00af00\">3</span>)           │            │                   │\n",
              "├─────────────────────┼───────────────────┼────────────┼───────────────────┤\n",
              "│ lambda_2 (<span style=\"color: #0087ff; text-decoration-color: #0087ff\">Lambda</span>)   │ (<span style=\"color: #00d7ff; text-decoration-color: #00d7ff\">None</span>, <span style=\"color: #00af00; text-decoration-color: #00af00\">8</span>, <span style=\"color: #00af00; text-decoration-color: #00af00\">128</span>,    │          <span style=\"color: #00af00; text-decoration-color: #00af00\">0</span> │ input_layer_16[<span style=\"color: #00af00; text-decoration-color: #00af00\">0</span>… │\n",
              "│                     │ <span style=\"color: #00af00; text-decoration-color: #00af00\">128</span>, <span style=\"color: #00af00; text-decoration-color: #00af00\">3</span>)           │            │                   │\n",
              "├─────────────────────┼───────────────────┼────────────┼───────────────────┤\n",
              "│ time_distributed_4  │ (<span style=\"color: #00d7ff; text-decoration-color: #00d7ff\">None</span>, <span style=\"color: #00af00; text-decoration-color: #00af00\">8</span>, <span style=\"color: #00af00; text-decoration-color: #00af00\">256</span>)    │  <span style=\"color: #00af00; text-decoration-color: #00af00\">2,585,920</span> │ lambda[<span style=\"color: #00af00; text-decoration-color: #00af00\">0</span>][<span style=\"color: #00af00; text-decoration-color: #00af00\">0</span>],     │\n",
              "│ (<span style=\"color: #0087ff; text-decoration-color: #0087ff\">TimeDistributed</span>)   │                   │            │ lambda_1[<span style=\"color: #00af00; text-decoration-color: #00af00\">0</span>][<span style=\"color: #00af00; text-decoration-color: #00af00\">0</span>],   │\n",
              "│                     │                   │            │ lambda_2[<span style=\"color: #00af00; text-decoration-color: #00af00\">0</span>][<span style=\"color: #00af00; text-decoration-color: #00af00\">0</span>]    │\n",
              "├─────────────────────┼───────────────────┼────────────┼───────────────────┤\n",
              "│ global_average_poo… │ (<span style=\"color: #00d7ff; text-decoration-color: #00d7ff\">None</span>, <span style=\"color: #00af00; text-decoration-color: #00af00\">256</span>)       │          <span style=\"color: #00af00; text-decoration-color: #00af00\">0</span> │ time_distributed… │\n",
              "│ (<span style=\"color: #0087ff; text-decoration-color: #0087ff\">GlobalAveragePool…</span> │                   │            │                   │\n",
              "├─────────────────────┼───────────────────┼────────────┼───────────────────┤\n",
              "│ global_average_poo… │ (<span style=\"color: #00d7ff; text-decoration-color: #00d7ff\">None</span>, <span style=\"color: #00af00; text-decoration-color: #00af00\">256</span>)       │          <span style=\"color: #00af00; text-decoration-color: #00af00\">0</span> │ time_distributed… │\n",
              "│ (<span style=\"color: #0087ff; text-decoration-color: #0087ff\">GlobalAveragePool…</span> │                   │            │                   │\n",
              "├─────────────────────┼───────────────────┼────────────┼───────────────────┤\n",
              "│ global_average_poo… │ (<span style=\"color: #00d7ff; text-decoration-color: #00d7ff\">None</span>, <span style=\"color: #00af00; text-decoration-color: #00af00\">256</span>)       │          <span style=\"color: #00af00; text-decoration-color: #00af00\">0</span> │ time_distributed… │\n",
              "│ (<span style=\"color: #0087ff; text-decoration-color: #0087ff\">GlobalAveragePool…</span> │                   │            │                   │\n",
              "├─────────────────────┼───────────────────┼────────────┼───────────────────┤\n",
              "│ concatenate         │ (<span style=\"color: #00d7ff; text-decoration-color: #00d7ff\">None</span>, <span style=\"color: #00af00; text-decoration-color: #00af00\">768</span>)       │          <span style=\"color: #00af00; text-decoration-color: #00af00\">0</span> │ global_average_p… │\n",
              "│ (<span style=\"color: #0087ff; text-decoration-color: #0087ff\">Concatenate</span>)       │                   │            │ global_average_p… │\n",
              "│                     │                   │            │ global_average_p… │\n",
              "├─────────────────────┼───────────────────┼────────────┼───────────────────┤\n",
              "│ clip_l2             │ (<span style=\"color: #00d7ff; text-decoration-color: #00d7ff\">None</span>, <span style=\"color: #00af00; text-decoration-color: #00af00\">768</span>)       │          <span style=\"color: #00af00; text-decoration-color: #00af00\">0</span> │ concatenate[<span style=\"color: #00af00; text-decoration-color: #00af00\">0</span>][<span style=\"color: #00af00; text-decoration-color: #00af00\">0</span>] │\n",
              "│ (<span style=\"color: #0087ff; text-decoration-color: #0087ff\">UnitNormalization</span>) │                   │            │                   │\n",
              "└─────────────────────┴───────────────────┴────────────┴───────────────────┘\n",
              "</pre>\n"
            ]
          },
          "metadata": {}
        },
        {
          "output_type": "display_data",
          "data": {
            "text/plain": [
              "\u001b[1m Total params: \u001b[0m\u001b[38;5;34m2,585,920\u001b[0m (9.86 MB)\n"
            ],
            "text/html": [
              "<pre style=\"white-space:pre;overflow-x:auto;line-height:normal;font-family:Menlo,'DejaVu Sans Mono',consolas,'Courier New',monospace\"><span style=\"font-weight: bold\"> Total params: </span><span style=\"color: #00af00; text-decoration-color: #00af00\">2,585,920</span> (9.86 MB)\n",
              "</pre>\n"
            ]
          },
          "metadata": {}
        },
        {
          "output_type": "display_data",
          "data": {
            "text/plain": [
              "\u001b[1m Trainable params: \u001b[0m\u001b[38;5;34m327,936\u001b[0m (1.25 MB)\n"
            ],
            "text/html": [
              "<pre style=\"white-space:pre;overflow-x:auto;line-height:normal;font-family:Menlo,'DejaVu Sans Mono',consolas,'Courier New',monospace\"><span style=\"font-weight: bold\"> Trainable params: </span><span style=\"color: #00af00; text-decoration-color: #00af00\">327,936</span> (1.25 MB)\n",
              "</pre>\n"
            ]
          },
          "metadata": {}
        },
        {
          "output_type": "display_data",
          "data": {
            "text/plain": [
              "\u001b[1m Non-trainable params: \u001b[0m\u001b[38;5;34m2,257,984\u001b[0m (8.61 MB)\n"
            ],
            "text/html": [
              "<pre style=\"white-space:pre;overflow-x:auto;line-height:normal;font-family:Menlo,'DejaVu Sans Mono',consolas,'Courier New',monospace\"><span style=\"font-weight: bold\"> Non-trainable params: </span><span style=\"color: #00af00; text-decoration-color: #00af00\">2,257,984</span> (8.61 MB)\n",
              "</pre>\n"
            ]
          },
          "metadata": {}
        },
        {
          "output_type": "stream",
          "name": "stdout",
          "text": [
            "TP embeddings: (82, 768) (10, 768) (10, 768)\n"
          ]
        }
      ]
    },
    {
      "cell_type": "markdown",
      "source": [
        "# Cell T2 — Re-evaluate (Prototypes, k-NN, Logistic Regression) on TP + TTA embeddings"
      ],
      "metadata": {
        "id": "XQCKXVFQZ7Z2"
      }
    },
    {
      "cell_type": "code",
      "source": [
        "# === Cell T2 — Evaluate on TP embeddings ===\n",
        "import numpy as np\n",
        "from sklearn.metrics import accuracy_score, classification_report\n",
        "from sklearn.neighbors import KNeighborsClassifier\n",
        "from sklearn.linear_model import LogisticRegression\n",
        "import json, os\n",
        "\n",
        "WORDS = json.load(open(os.path.join(NPY_OUT, \"labels.json\")))\n",
        "\n",
        "# Prototypes over train classes\n",
        "classes = sorted(np.unique(ytr).tolist())\n",
        "P = np.stack([Etr_tp[ytr==k].mean(axis=0) for k in classes])\n",
        "P /= (np.linalg.norm(P, axis=1, keepdims=True) + 1e-9)\n",
        "\n",
        "def pred_proto(E, P): return (E @ P.T).argmax(axis=1)\n",
        "\n",
        "yp_va = np.array([classes[i] for i in pred_proto(Eva_tp, P)])\n",
        "yp_te = np.array([classes[i] for i in pred_proto(Ete_tp, P)])\n",
        "print(\"PROTO  VAL:\", accuracy_score(yva, yp_va), \" TEST:\", accuracy_score(yte, yp_te))\n",
        "\n",
        "# kNN (cosine) — choose k on val\n",
        "best = None\n",
        "for k in [1,3,5]:\n",
        "    knn = KNeighborsClassifier(n_neighbors=k, metric='cosine')\n",
        "    knn.fit(Etr_tp, ytr)\n",
        "    va = knn.score(Eva_tp, yva)\n",
        "    if best is None or va > best[0]: best = (va, k, knn)\n",
        "print(f\"kNN  BEST: k={best[1]}  VAL={best[0]:.3f}  TEST={best[2].score(Ete_tp, yte):.3f}\")\n",
        "\n",
        "# Logistic Regression\n",
        "lr = LogisticRegression(max_iter=2000, class_weight='balanced', C=2.0, n_jobs=-1)\n",
        "lr.fit(Etr_tp, ytr)\n",
        "print(\"LOGREG VAL:\", lr.score(Eva_tp, yva), \" TEST:\", lr.score(Ete_tp, yte))\n"
      ],
      "metadata": {
        "colab": {
          "base_uri": "https://localhost:8080/"
        },
        "id": "BQhTwZOCZ-8X",
        "outputId": "af3dd533-a2d9-483a-ddb6-8d272cd493cc"
      },
      "execution_count": null,
      "outputs": [
        {
          "output_type": "stream",
          "name": "stdout",
          "text": [
            "PROTO  VAL: 0.1  TEST: 0.1\n",
            "kNN  BEST: k=1  VAL=0.100  TEST=0.100\n",
            "LOGREG VAL: 0.1  TEST: 0.1\n"
          ]
        }
      ]
    },
    {
      "cell_type": "markdown",
      "source": [
        "# Cell S1 — Auto-select a stable 6–8 word subset (for demo reliability)"
      ],
      "metadata": {
        "id": "30ZazAPgaBGd"
      }
    },
    {
      "cell_type": "code",
      "source": [
        "# === Cell S1 — Pick the most stable K classes and re-evaluate ===\n",
        "import numpy as np\n",
        "from sklearn.metrics import accuracy_score\n",
        "from collections import defaultdict\n",
        "\n",
        "K = 8  # choose demo size (6–8 is good)\n",
        "\n",
        "# LOO proto accuracy per class\n",
        "scores = {}\n",
        "for c in sorted(np.unique(ytr)):\n",
        "    idx = np.where(ytr == c)[0]\n",
        "    if len(idx) < 2:\n",
        "        scores[c] = 0.0\n",
        "        continue\n",
        "    ok = 0\n",
        "    for i in idx:\n",
        "        # prototypes from all train except i\n",
        "        mask = np.ones(len(ytr), dtype=bool); mask[i] = False\n",
        "        classes = sorted(np.unique(ytr[mask]).tolist())\n",
        "        P = np.stack([Etr_tp[mask][ytr[mask]==k].mean(axis=0) for k in classes])\n",
        "        P /= (np.linalg.norm(P, axis=1, keepdims=True)+1e-9)\n",
        "        pred = classes[(Etr_tp[i:i+1] @ P.T).argmax(axis=1)[0]]\n",
        "        ok += int(pred == ytr[i])\n",
        "    scores[c] = ok / len(idx)\n",
        "\n",
        "best_ids = sorted(scores.keys(), key=lambda c: scores[c], reverse=True)[:K]\n",
        "print(\"Selected IDs:\", best_ids)\n",
        "\n",
        "# Filter TP embeddings to these classes\n",
        "def fsel(E, y, keep):\n",
        "    m = np.isin(y, keep)\n",
        "    return E[m], y[m]\n",
        "\n",
        "Etr_f, ytr_f = fsel(Etr_tp, ytr, best_ids)\n",
        "Eva_f, yva_f = fsel(Eva_tp, yva, best_ids)\n",
        "Ete_f, yte_f = fsel(Ete_tp, yte, best_ids)\n",
        "\n",
        "# Reindex to 0..K-1\n",
        "idmap = {k:i for i,k in enumerate(best_ids)}\n",
        "ytr_f = np.array([idmap[int(t)] for t in ytr_f])\n",
        "yva_f = np.array([idmap[int(t)] for t in yva_f])\n",
        "yte_f = np.array([idmap[int(t)] for t in yte_f])\n",
        "\n",
        "# Evaluate with prototypes and kNN on the filtered set\n",
        "P = np.stack([Etr_f[ytr_f==k].mean(axis=0) for k in range(len(best_ids))])\n",
        "P /= (np.linalg.norm(P, axis=1, keepdims=True)+1e-9)\n",
        "def predp(E,P): return (E @ P.T).argmax(axis=1)\n",
        "\n",
        "print(\"PROTO  VAL:\", accuracy_score(yva_f, predp(Eva_f, P)),\n",
        "      \" TEST:\", accuracy_score(yte_f, predp(Ete_f, P)))\n",
        "\n",
        "from sklearn.neighbors import KNeighborsClassifier\n",
        "knn = KNeighborsClassifier(n_neighbors=3, metric='cosine')\n",
        "knn.fit(Etr_f, ytr_f)\n",
        "print(\"kNN    VAL:\", knn.score(Eva_f, yva_f), \" TEST:\", knn.score(Ete_f, yte_f))\n",
        "\n",
        "# Show chosen words\n",
        "import json, os\n",
        "WORDS = json.load(open(os.path.join(NPY_OUT,\"labels.json\")))\n",
        "print(\"Chosen words:\", [WORDS[i] for i in best_ids])\n"
      ],
      "metadata": {
        "colab": {
          "base_uri": "https://localhost:8080/"
        },
        "id": "6sSAemcyaEM0",
        "outputId": "3f8361d7-4144-47c3-b490-2a5ee2955703"
      },
      "execution_count": null,
      "outputs": [
        {
          "output_type": "stream",
          "name": "stdout",
          "text": [
            "Selected IDs: [np.int32(3), np.int32(4), np.int32(0), np.int32(1), np.int32(2), np.int32(5), np.int32(6), np.int32(7)]\n",
            "PROTO  VAL: 0.25  TEST: 0.125\n",
            "kNN    VAL: 0.125  TEST: 0.125\n",
            "Chosen words: ['help', 'no', 'bad', 'good', 'hello', 'please', 'sorry', 'stop']\n"
          ]
        }
      ]
    },
    {
      "cell_type": "markdown",
      "source": [
        "# Cell L0 — Install & imports"
      ],
      "metadata": {
        "id": "gqH3WV4dccMu"
      }
    },
    {
      "cell_type": "code",
      "source": [
        "!pip -q install mediapipe==0.10.14 opencv-python==4.10.0.84\n",
        "\n",
        "import os, json, math, numpy as np, cv2, itertools\n",
        "from tqdm import tqdm\n",
        "import mediapipe as mp\n",
        "from collections import Counter\n"
      ],
      "metadata": {
        "id": "vynd_uXzcf8f"
      },
      "execution_count": null,
      "outputs": []
    },
    {
      "cell_type": "markdown",
      "source": [
        "# Cell L1 — Load arrays, helpers (normalize, featurize)"
      ],
      "metadata": {
        "id": "hYKvlcJkcigM"
      }
    },
    {
      "cell_type": "code",
      "source": [
        "# Load your split arrays\n",
        "NPY_OUT = \"/content/data/word_splits\"\n",
        "X_train = np.load(f\"{NPY_OUT}/X_train.npy\", mmap_mode='r')\n",
        "y_train = np.load(f\"{NPY_OUT}/y_train.npy\", mmap_mode='r')\n",
        "X_val   = np.load(f\"{NPY_OUT}/X_val.npy\",   mmap_mode='r')\n",
        "y_val   = np.load(f\"{NPY_OUT}/y_val.npy\",   mmap_mode='r')\n",
        "X_test  = np.load(f\"{NPY_OUT}/X_test.npy\",  mmap_mode='r')\n",
        "y_test  = np.load(f\"{NPY_OUT}/y_test.npy\",  mmap_mode='r')\n",
        "WORDS   = json.load(open(f\"{NPY_OUT}/labels.json\"))\n",
        "\n",
        "T, H, W = X_train.shape[1:4]\n",
        "print(\"Shapes:\", X_train.shape, X_val.shape, X_test.shape, \"classes:\", len(WORDS))\n",
        "\n",
        "# --- Landmark normalization utilities ---\n",
        "def normalize_hand_landmarks(lm_xyz):\n",
        "    \"\"\"\n",
        "    lm_xyz: (21,3) with absolute normalized coords in [0,1] for x,y and relative z.\n",
        "    Returns centered & scale-normalized coords:\n",
        "      - center at wrist (id=0)\n",
        "      - scale by max distance from wrist to any landmark (robust palm size)\n",
        "    If all-zero or invalid, returns zeros.\n",
        "    \"\"\"\n",
        "    if lm_xyz is None or lm_xyz.shape != (21,3):\n",
        "        return np.zeros((21,3), np.float32)\n",
        "    ref = lm_xyz[0:1, :]  # wrist\n",
        "    rel = lm_xyz - ref\n",
        "    # scale by palm size (max L2 from wrist)\n",
        "    d = np.linalg.norm(rel[:, :2], axis=1).max()\n",
        "    s = d if d > 1e-6 else 1.0\n",
        "    rel /= s\n",
        "    return rel.astype(np.float32)\n",
        "\n",
        "def clip_features_from_sequence(seq_hands_xyz):\n",
        "    \"\"\"\n",
        "    seq_hands_xyz: list of length T; each item is a tuple (H0, H1)\n",
        "      where Hk is (21,3) normalized hand or None if not detected.\n",
        "    Build a compact, robust clip feature:\n",
        "      For each hand separately (2 hands):\n",
        "        - per-landmark (x,y) mean and std over time  => 21*2*2 = 84 dims\n",
        "        - velocity mean (frame-to-frame delta magnitude) over time => 1 dim\n",
        "      -> 85 per hand * 2 = 170 dims. (We drop z for robustness.)\n",
        "    If a hand is missing at some frames, we ignore those frames for stats;\n",
        "    if missing entirely, that hand contributes zeros.\n",
        "    \"\"\"\n",
        "    feats = []\n",
        "    for hand_idx in [0,1]:\n",
        "        xs, ys = [], []\n",
        "        prev = None; vel_mag = []\n",
        "        for t in range(len(seq_hands_xyz)):\n",
        "            Hk = seq_hands_xyz[t][hand_idx]  # (21,3) or None\n",
        "            if Hk is not None:\n",
        "                xs.append(Hk[:,0]); ys.append(Hk[:,1])\n",
        "                if prev is not None:\n",
        "                    vel_mag.append(float(np.linalg.norm((Hk[:, :2] - prev[:, :2]).reshape(-1), ord=2)))\n",
        "                prev = Hk\n",
        "        if len(xs) == 0:\n",
        "            feats.append(np.zeros(84+1, np.float32))\n",
        "        else:\n",
        "            X = np.stack(xs, axis=0)   # (T_eff, 21)\n",
        "            Y = np.stack(ys, axis=0)\n",
        "            mu_x = X.mean(axis=0); sd_x = X.std(axis=0)\n",
        "            mu_y = Y.mean(axis=0); sd_y = Y.std(axis=0)\n",
        "            vmean = np.mean(vel_mag) if len(vel_mag)>0 else 0.0\n",
        "            feats.append(np.concatenate([mu_x, sd_x, mu_y, sd_y, [vmean]]).astype(np.float32))\n",
        "    return np.concatenate(feats).astype(np.float32)  # (170,)\n"
      ],
      "metadata": {
        "colab": {
          "base_uri": "https://localhost:8080/"
        },
        "id": "xfI3jqd4cl51",
        "outputId": "96c11d50-8e32-453e-8572-23aa8004fdde"
      },
      "execution_count": null,
      "outputs": [
        {
          "output_type": "stream",
          "name": "stdout",
          "text": [
            "Shapes: (82, 24, 128, 128, 3) (10, 24, 128, 128, 3) (10, 24, 128, 128, 3) classes: 10\n"
          ]
        }
      ]
    },
    {
      "cell_type": "markdown",
      "source": [
        "# Cell L2 — Run MediaPipe on frames → build skeleton embeddings (fast)"
      ],
      "metadata": {
        "id": "TrY3OPTqcowh"
      }
    },
    {
      "cell_type": "code",
      "source": [
        "mp_hands = mp.solutions.hands\n",
        "\n",
        "def extract_seq_hands(frames_rgb):\n",
        "    \"\"\"\n",
        "    frames_rgb: (T,H,W,3) float32 in [0,1], RGB.\n",
        "    Returns: list of length T, each item (Hand0, Hand1) where Handk is (21,3) normalized or None.\n",
        "    We keep up to 2 hands; if only one, second is None.\n",
        "    \"\"\"\n",
        "    seq = []\n",
        "    # Use video-mode tracking for better temporal stability\n",
        "    with mp_hands.Hands(\n",
        "        static_image_mode=False,\n",
        "        max_num_hands=2,\n",
        "        model_complexity=1,\n",
        "        min_detection_confidence=0.4,\n",
        "        min_tracking_confidence=0.3\n",
        "    ) as hands:\n",
        "        for t in range(frames_rgb.shape[0]):\n",
        "            img = (frames_rgb[t] * 255.0).clip(0,255).astype(np.uint8)\n",
        "            # MediaPipe expects RGB; our frames are already RGB\n",
        "            res = hands.process(img)\n",
        "            # collect up to 2 hands, sort by x (left-to-right) for consistency\n",
        "            hands_norm = []\n",
        "            if res.multi_hand_landmarks:\n",
        "                # get tuples (x,y,z) in image-normalized coords\n",
        "                # Note: x,y in [0,1]; z is relative depth (negative toward camera)\n",
        "                for lm in res.multi_hand_landmarks:\n",
        "                    arr = np.array([[p.x, p.y, p.z] for p in lm.landmark], dtype=np.float32)\n",
        "                    hands_norm.append(arr)\n",
        "                # sort by x of wrist (lm 0)\n",
        "                hands_norm.sort(key=lambda a: a[0,0])\n",
        "            # pad/truncate to 2 hands\n",
        "            while len(hands_norm) < 2:\n",
        "                hands_norm.append(None)\n",
        "            hands_norm = hands_norm[:2]\n",
        "            # normalize each hand\n",
        "            H0 = normalize_hand_landmarks(hands_norm[0]) if hands_norm[0] is not None else None\n",
        "            H1 = normalize_hand_landmarks(hands_norm[1]) if hands_norm[1] is not None else None\n",
        "            seq.append((H0, H1))\n",
        "    return seq\n",
        "\n",
        "def build_skeleton_embeddings(X):\n",
        "    E = np.zeros((len(X), 170), np.float32)\n",
        "    for i in tqdm(range(len(X)), desc=\"Skeletonizing\"):\n",
        "        seq = extract_seq_hands(X[i])         # list length T of (H0,H1)\n",
        "        E[i] = clip_features_from_sequence(seq)\n",
        "    # L2 normalize features for cosine-friendly distances\n",
        "    E = E / (np.linalg.norm(E, axis=1, keepdims=True) + 1e-9)\n",
        "    return E\n",
        "\n",
        "E_tr_skel = build_skeleton_embeddings(X_train)\n",
        "E_va_skel = build_skeleton_embeddings(X_val)\n",
        "E_te_skel = build_skeleton_embeddings(X_test)\n",
        "\n",
        "print(\"Skeleton embeddings:\", E_tr_skel.shape, E_va_skel.shape, E_te_skel.shape)\n"
      ],
      "metadata": {
        "colab": {
          "base_uri": "https://localhost:8080/"
        },
        "id": "MGIup6qXcuk8",
        "outputId": "6e59e27c-b735-49d8-c042-320c4097e55e"
      },
      "execution_count": null,
      "outputs": [
        {
          "output_type": "stream",
          "name": "stderr",
          "text": [
            "\rSkeletonizing:   0%|          | 0/82 [00:00<?, ?it/s]/usr/local/lib/python3.12/dist-packages/google/protobuf/symbol_database.py:55: UserWarning: SymbolDatabase.GetPrototype() is deprecated. Please use message_factory.GetMessageClass() instead. SymbolDatabase.GetPrototype() will be removed soon.\n",
            "  warnings.warn('SymbolDatabase.GetPrototype() is deprecated. Please '\n",
            "Skeletonizing: 100%|██████████| 82/82 [02:17<00:00,  1.67s/it]\n",
            "Skeletonizing: 100%|██████████| 10/10 [00:15<00:00,  1.52s/it]\n",
            "Skeletonizing: 100%|██████████| 10/10 [00:15<00:00,  1.55s/it]"
          ]
        },
        {
          "output_type": "stream",
          "name": "stdout",
          "text": [
            "Skeleton embeddings: (82, 170) (10, 170) (10, 170)\n"
          ]
        },
        {
          "output_type": "stream",
          "name": "stderr",
          "text": [
            "\n"
          ]
        }
      ]
    },
    {
      "cell_type": "markdown",
      "source": [
        "# Cell L3 — Few-shot baselines on skeleton features"
      ],
      "metadata": {
        "id": "42MbzYg-cw6Y"
      }
    },
    {
      "cell_type": "code",
      "source": [
        "from sklearn.metrics import accuracy_score, classification_report\n",
        "from sklearn.neighbors import KNeighborsClassifier\n",
        "from sklearn.linear_model import LogisticRegression\n",
        "\n",
        "# Prototypes (over train classes present)\n",
        "classes = sorted(np.unique(y_train).tolist())\n",
        "P = np.stack([E_tr_skel[y_train==k].mean(axis=0) for k in classes])\n",
        "P /= (np.linalg.norm(P, axis=1, keepdims=True)+1e-9)\n",
        "\n",
        "def pred_proto(E,P): return (E @ P.T).argmax(axis=1)\n",
        "\n",
        "yp_va = np.array([classes[i] for i in pred_proto(E_va_skel, P)])\n",
        "yp_te = np.array([classes[i] for i in pred_proto(E_te_skel, P)])\n",
        "\n",
        "print(\"PROTO  VAL:\", accuracy_score(y_val, yp_va), \" TEST:\", accuracy_score(y_test, yp_te))\n",
        "print(\"\\nVAL report (PROTO):\\n\", classification_report(y_val, yp_va, digits=4, zero_division=0))\n",
        "print(\"\\nTEST report (PROTO):\\n\", classification_report(y_test, yp_te, digits=4, zero_division=0))\n",
        "\n",
        "# k-NN (cosine) — choose k on val\n",
        "best = None\n",
        "for k in [1,3,5]:\n",
        "    knn = KNeighborsClassifier(n_neighbors=k, metric='cosine')\n",
        "    knn.fit(E_tr_skel, y_train)\n",
        "    va = knn.score(E_va_skel, y_val)\n",
        "    if best is None or va > best[0]: best = (va, k, knn)\n",
        "print(f\"\\nkNN  BEST: k={best[1]}  VAL={best[0]:.3f}  TEST={best[2].score(E_te_skel, y_test):.3f}\")\n",
        "\n",
        "# Logistic Regression\n",
        "lr = LogisticRegression(max_iter=2000, class_weight='balanced', C=2.0, n_jobs=-1)\n",
        "lr.fit(E_tr_skel, y_train)\n",
        "print(\"\\nLOGREG VAL:\", lr.score(E_va_skel, y_val), \" TEST:\", lr.score(E_te_skel, y_test))\n"
      ],
      "metadata": {
        "colab": {
          "base_uri": "https://localhost:8080/"
        },
        "id": "t5_DQXFFc0SH",
        "outputId": "8d20a4ab-2c86-4042-f565-d578731498ec"
      },
      "execution_count": null,
      "outputs": [
        {
          "output_type": "stream",
          "name": "stdout",
          "text": [
            "PROTO  VAL: 0.4  TEST: 0.6\n",
            "\n",
            "VAL report (PROTO):\n",
            "               precision    recall  f1-score   support\n",
            "\n",
            "           0     0.0000    0.0000    0.0000         1\n",
            "           1     0.0000    0.0000    0.0000         1\n",
            "           2     0.0000    0.0000    0.0000         1\n",
            "           3     0.0000    0.0000    0.0000         1\n",
            "           4     1.0000    1.0000    1.0000         1\n",
            "           5     1.0000    1.0000    1.0000         1\n",
            "           6     1.0000    1.0000    1.0000         1\n",
            "           7     0.3333    1.0000    0.5000         1\n",
            "           8     0.0000    0.0000    0.0000         1\n",
            "           9     0.0000    0.0000    0.0000         1\n",
            "\n",
            "    accuracy                         0.4000        10\n",
            "   macro avg     0.3333    0.4000    0.3500        10\n",
            "weighted avg     0.3333    0.4000    0.3500        10\n",
            "\n",
            "\n",
            "TEST report (PROTO):\n",
            "               precision    recall  f1-score   support\n",
            "\n",
            "           0     1.0000    1.0000    1.0000         1\n",
            "           1     0.5000    1.0000    0.6667         1\n",
            "           2     0.0000    0.0000    0.0000         1\n",
            "           3     1.0000    1.0000    1.0000         1\n",
            "           4     0.5000    1.0000    0.6667         1\n",
            "           5     0.0000    0.0000    0.0000         1\n",
            "           6     0.3333    1.0000    0.5000         1\n",
            "           7     1.0000    1.0000    1.0000         1\n",
            "           8     0.0000    0.0000    0.0000         1\n",
            "           9     0.0000    0.0000    0.0000         1\n",
            "\n",
            "    accuracy                         0.6000        10\n",
            "   macro avg     0.4333    0.6000    0.4833        10\n",
            "weighted avg     0.4333    0.6000    0.4833        10\n",
            "\n",
            "\n",
            "kNN  BEST: k=3  VAL=0.400  TEST=0.600\n",
            "\n",
            "LOGREG VAL: 0.7  TEST: 0.7\n"
          ]
        }
      ]
    },
    {
      "cell_type": "markdown",
      "source": [
        "# Cell L4 — (Optional) Lock a stable 6–8-word subset for the demo"
      ],
      "metadata": {
        "id": "IgkC6cIDc2VR"
      }
    },
    {
      "cell_type": "code",
      "source": [
        "# Select K most stable classes using leave-one-out on train (skeleton features)\n",
        "from collections import defaultdict\n",
        "K = 8\n",
        "\n",
        "loo_scores = {}\n",
        "for c in classes:\n",
        "    idx = np.where(y_train == c)[0]\n",
        "    if len(idx) < 2:\n",
        "        loo_scores[c] = 0.0; continue\n",
        "    ok = 0\n",
        "    for i in idx:\n",
        "        mask = np.ones(len(y_train), bool); mask[i] = False\n",
        "        cls = sorted(np.unique(y_train[mask]).tolist())\n",
        "        P = np.stack([E_tr_skel[mask][y_train[mask]==k].mean(axis=0) for k in cls])\n",
        "        P /= (np.linalg.norm(P, axis=1, keepdims=True)+1e-9)\n",
        "        pred_local = (E_tr_skel[i:i+1] @ P.T).argmax(axis=1)[0]\n",
        "        pred = cls[pred_local]\n",
        "        ok += int(pred == y_train[i])\n",
        "    loo_scores[c] = ok / len(idx)\n",
        "\n",
        "best_ids = sorted(loo_scores.keys(), key=lambda c: loo_scores[c], reverse=True)[:K]\n",
        "print(\"Chosen class IDs:\", best_ids, \"Words:\", [WORDS[i] for i in best_ids])\n",
        "\n",
        "def fsel(E, y, keep):\n",
        "    m = np.isin(y, keep)\n",
        "    return E[m], y[m]\n",
        "\n",
        "Etr_f, ytr_f = fsel(E_tr_skel, y_train, best_ids)\n",
        "Eva_f, yva_f = fsel(E_va_skel, y_val,   best_ids)\n",
        "Ete_f, yte_f = fsel(E_te_skel, y_test,  best_ids)\n",
        "\n",
        "# reindex to 0..K-1\n",
        "idmap = {k:i for i,k in enumerate(best_ids)}\n",
        "ytr_f = np.array([idmap[int(t)] for t in ytr_f])\n",
        "yva_f = np.array([idmap[int(t)] for t in yva_f])\n",
        "yte_f = np.array([idmap[int(t)] for t in yte_f])\n",
        "\n",
        "# Evaluate prototypes + kNN on the filtered set\n",
        "P = np.stack([Etr_f[ytr_f==k].mean(axis=0) for k in range(len(best_ids))])\n",
        "P /= (np.linalg.norm(P, axis=1, keepdims=True)+1e-9)\n",
        "from sklearn.metrics import accuracy_score\n",
        "def predp(E,P): return (E @ P.T).argmax(axis=1)\n",
        "\n",
        "print(\"PROTO  VAL:\", accuracy_score(yva_f, predp(Eva_f, P)),\n",
        "      \" TEST:\", accuracy_score(yte_f, predp(Ete_f, P)))\n",
        "\n",
        "from sklearn.neighbors import KNeighborsClassifier\n",
        "knn = KNeighborsClassifier(n_neighbors=3, metric='cosine')\n",
        "knn.fit(Etr_f, ytr_f)\n",
        "print(\"kNN    VAL:\", knn.score(Eva_f, yva_f), \" TEST:\", knn.score(Ete_f, yte_f))\n"
      ],
      "metadata": {
        "colab": {
          "base_uri": "https://localhost:8080/"
        },
        "id": "-nLUYdZjc6bh",
        "outputId": "54010eef-c761-4fe3-d31b-4bbefb4a0412"
      },
      "execution_count": null,
      "outputs": [
        {
          "output_type": "stream",
          "name": "stdout",
          "text": [
            "Chosen class IDs: [9, 4, 5, 7, 0, 6, 3, 2] Words: ['yes', 'no', 'please', 'stop', 'bad', 'sorry', 'help', 'hello']\n",
            "PROTO  VAL: 0.625  TEST: 0.625\n",
            "kNN    VAL: 0.5  TEST: 0.5\n"
          ]
        }
      ]
    },
    {
      "cell_type": "markdown",
      "source": [
        "# Cell F-Subset-LR — Evaluate Logistic Regression on your 8-word subset"
      ],
      "metadata": {
        "id": "X8misWLXc89U"
      }
    },
    {
      "cell_type": "code",
      "source": [
        "# Uses outputs from L3/L4: E_tr_skel, E_va_skel, E_te_skel, y_train, y_val, y_test, WORDS, best_ids\n",
        "\n",
        "from sklearn.linear_model import LogisticRegression\n",
        "from sklearn.metrics import accuracy_score, classification_report\n",
        "import numpy as np\n",
        "\n",
        "# Filter to the 8 selected classes (best_ids from L4) and reindex\n",
        "def fsel(E, y, keep):\n",
        "    m = np.isin(y, keep)\n",
        "    return E[m], y[m]\n",
        "\n",
        "Etr_f, ytr_f = fsel(E_tr_skel, y_train, best_ids)\n",
        "Eva_f, yva_f = fsel(E_va_skel, y_val,   best_ids)\n",
        "Ete_f, yte_f = fsel(E_te_skel, y_test,  best_ids)\n",
        "\n",
        "idmap = {k:i for i,k in enumerate(best_ids)}\n",
        "ytr_f = np.array([idmap[int(t)] for t in ytr_f])\n",
        "yva_f = np.array([idmap[int(t)] for t in yva_f])\n",
        "yte_f = np.array([idmap[int(t)] for t in yte_f])\n",
        "WORDS_F = [WORDS[i] for i in best_ids]\n",
        "\n",
        "# Train balanced LogReg on filtered skeleton embeddings\n",
        "lr_sub = LogisticRegression(max_iter=2000, class_weight='balanced', C=2.0, n_jobs=-1)\n",
        "lr_sub.fit(Etr_f, ytr_f)\n",
        "\n",
        "print(\"LogReg (8-word)  VAL:\", lr_sub.score(Eva_f, yva_f), \" TEST:\", lr_sub.score(Ete_f, yte_f))\n",
        "print(\"\\nVAL report:\\n\", classification_report(yva_f, lr_sub.predict(Eva_f), target_names=WORDS_F, digits=4, zero_division=0))\n",
        "print(\"\\nTEST report:\\n\", classification_report(yte_f, lr_sub.predict(Ete_f), target_names=WORDS_F, digits=4, zero_division=0))\n"
      ],
      "metadata": {
        "colab": {
          "base_uri": "https://localhost:8080/"
        },
        "id": "2KdYWyZ9fTtk",
        "outputId": "d455271e-6401-478f-9691-63e2cdbaf4db"
      },
      "execution_count": null,
      "outputs": [
        {
          "output_type": "stream",
          "name": "stdout",
          "text": [
            "LogReg (8-word)  VAL: 0.875  TEST: 0.75\n",
            "\n",
            "VAL report:\n",
            "               precision    recall  f1-score   support\n",
            "\n",
            "         yes     1.0000    1.0000    1.0000         1\n",
            "          no     1.0000    1.0000    1.0000         1\n",
            "      please     0.5000    1.0000    0.6667         1\n",
            "        stop     1.0000    1.0000    1.0000         1\n",
            "         bad     0.0000    0.0000    0.0000         1\n",
            "       sorry     1.0000    1.0000    1.0000         1\n",
            "        help     1.0000    1.0000    1.0000         1\n",
            "       hello     1.0000    1.0000    1.0000         1\n",
            "\n",
            "    accuracy                         0.8750         8\n",
            "   macro avg     0.8125    0.8750    0.8333         8\n",
            "weighted avg     0.8125    0.8750    0.8333         8\n",
            "\n",
            "\n",
            "TEST report:\n",
            "               precision    recall  f1-score   support\n",
            "\n",
            "         yes     0.0000    0.0000    0.0000         1\n",
            "          no     0.5000    1.0000    0.6667         1\n",
            "      please     1.0000    1.0000    1.0000         1\n",
            "        stop     1.0000    1.0000    1.0000         1\n",
            "         bad     1.0000    1.0000    1.0000         1\n",
            "       sorry     1.0000    1.0000    1.0000         1\n",
            "        help     1.0000    1.0000    1.0000         1\n",
            "       hello     0.0000    0.0000    0.0000         1\n",
            "\n",
            "    accuracy                         0.7500         8\n",
            "   macro avg     0.6875    0.7500    0.7083         8\n",
            "weighted avg     0.6875    0.7500    0.7083         8\n",
            "\n"
          ]
        }
      ]
    },
    {
      "cell_type": "markdown",
      "source": [
        "# Cell SAVE — Persist artifacts for inference"
      ],
      "metadata": {
        "id": "WW7wQpkJfWDR"
      }
    },
    {
      "cell_type": "code",
      "source": [
        "import os, json, joblib, numpy as np\n",
        "ART = \"/content/speakez_word_artifacts\"; os.makedirs(ART, exist_ok=True)\n",
        "\n",
        "# Save the selected word list and id map\n",
        "with open(os.path.join(ART, \"words_subset.json\"), \"w\") as f:\n",
        "    json.dump({\"ids\": list(map(int, best_ids)), \"words\": [WORDS[i] for i in best_ids]}, f, indent=2)\n",
        "\n",
        "# Save the 8-class LogReg\n",
        "joblib.dump(lr_sub, os.path.join(ART, \"word_skel_logreg_8.joblib\"))\n",
        "\n",
        "# (Optional) Save prototypes/kNN as fallbacks\n",
        "np.savez(os.path.join(ART, \"word_skel_prototypes_8.npz\"),\n",
        "         protos=np.stack([Etr_f[ytr_f==k].mean(axis=0) for k in range(len(WORDS_F))]),\n",
        "         words=np.array(WORDS_F))\n",
        "# You can also save the full 10-class LogReg if you want:\n",
        "# joblib.dump(lr, os.path.join(ART, \"word_skel_logreg_10.joblib\"))\n",
        "\n",
        "print(\"Saved:\", os.listdir(ART))\n"
      ],
      "metadata": {
        "colab": {
          "base_uri": "https://localhost:8080/"
        },
        "id": "tjhFYY7nfZF4",
        "outputId": "1e93de04-1102-4978-a449-07ed0232ee61"
      },
      "execution_count": null,
      "outputs": [
        {
          "output_type": "stream",
          "name": "stdout",
          "text": [
            "Saved: ['best_word_mnet_tavg.h5', 'word_skel_logreg_8.joblib', 'word_skel_prototypes_8.npz', 'best_word_cnn_bilstm.h5', 'words_subset.json', 'history_word.json']\n"
          ]
        }
      ]
    },
    {
      "cell_type": "markdown",
      "source": [
        "# Cell INFER — One-function inference (frames -> word + confidence)"
      ],
      "metadata": {
        "id": "VQ7Q6krefbVs"
      }
    },
    {
      "cell_type": "code",
      "source": [
        "import mediapipe as mp, numpy as np, cv2, joblib, json, os\n",
        "from typing import Tuple, Dict\n",
        "\n",
        "# --- Load artifacts\n",
        "ART = \"/content/speakez_word_artifacts\"\n",
        "lr_sub = joblib.load(os.path.join(ART, \"word_skel_logreg_8.joblib\"))\n",
        "meta = json.load(open(os.path.join(ART, \"words_subset.json\")))\n",
        "WORDS_SUB = meta[\"words\"]  # order matches lr_sub classes\n",
        "\n",
        "# --- Reuse L1 helpers (normalize_hand_landmarks, clip_features_from_sequence) ---\n",
        "# If not in scope, paste the two functions from Cell L1 here unchanged.\n",
        "\n",
        "mp_hands = mp.solutions.hands\n",
        "\n",
        "def extract_seq_hands(frames_rgb: np.ndarray):\n",
        "    seq = []\n",
        "    with mp_hands.Hands(static_image_mode=False, max_num_hands=2, model_complexity=1,\n",
        "                        min_detection_confidence=0.4, min_tracking_confidence=0.3) as hands:\n",
        "        for t in range(frames_rgb.shape[0]):\n",
        "            img = (frames_rgb[t] * 255.0).clip(0,255).astype(np.uint8)\n",
        "            res = hands.process(img)\n",
        "            hands_norm = []\n",
        "            if res.multi_hand_landmarks:\n",
        "                for lm in res.multi_hand_landmarks:\n",
        "                    arr = np.array([[p.x, p.y, p.z] for p in lm.landmark], dtype=np.float32)\n",
        "                    hands_norm.append(arr)\n",
        "                hands_norm.sort(key=lambda a: a[0,0])\n",
        "            while len(hands_norm) < 2:\n",
        "                hands_norm.append(None)\n",
        "            hands_norm = hands_norm[:2]\n",
        "            H0 = normalize_hand_landmarks(hands_norm[0]) if hands_norm[0] is not None else None\n",
        "            H1 = normalize_hand_landmarks(hands_norm[1]) if hands_norm[1] is not None else None\n",
        "            seq.append((H0, H1))\n",
        "    return seq\n",
        "\n",
        "def classify_clip_skeleton(frames_rgb_01: np.ndarray, threshold: float = 0.55) -> Tuple[str, float, Dict[str,float]]:\n",
        "    \"\"\"\n",
        "    frames_rgb_01: (T,H,W,3) float32 in [0,1] RGB\n",
        "    Returns (label, confidence, probs_dict). label may be \"unknown\" if max prob<threshold.\n",
        "    \"\"\"\n",
        "    seq = extract_seq_hands(frames_rgb_01)\n",
        "    feat = clip_features_from_sequence(seq)  # (170,)\n",
        "    feat = feat / (np.linalg.norm(feat) + 1e-9)\n",
        "    proba = lr_sub.predict_proba(feat[None, :])[0]\n",
        "    pred_idx = int(np.argmax(proba))\n",
        "    conf = float(proba[pred_idx])\n",
        "    label = WORDS_SUB[pred_idx] if conf >= threshold else \"unknown\"\n",
        "    probs = {WORDS_SUB[i]: float(p) for i, p in enumerate(proba)}\n",
        "    return label, conf, probs\n",
        "\n",
        "# --- Convenience: classify a video file path (uniformly sample T frames) ---\n",
        "def read_video_uniform_rgb(path: str, T: int = 24, size=(128,128)) -> np.ndarray:\n",
        "    cap = cv2.VideoCapture(path); frames = int(cap.get(cv2.CAP_PROP_FRAME_COUNT))\n",
        "    idxs = np.linspace(0, max(frames-1,0), T).astype(int) if frames>0 else np.zeros(T, int)\n",
        "    out = np.empty((T, size[0], size[1], 3), np.float32); filled = np.zeros((T,), bool)\n",
        "    f=0; ok,frame=cap.read()\n",
        "    while ok:\n",
        "        if f in idxs:\n",
        "            h,w = frame.shape[:2]; m=min(h,w); y0=(h-m)//2; x0=(w-m)//2\n",
        "            crop = frame[y0:y0+m, x0:x0+m]; crop = cv2.resize(crop, size, interpolation=cv2.INTER_AREA)\n",
        "            rgb = cv2.cvtColor(crop, cv2.COLOR_BGR2RGB).astype(np.float32)/255.0\n",
        "            pos = np.where(idxs==f)[0][0]; out[pos]=rgb; filled[pos]=True\n",
        "        ok,frame=cap.read(); f+=1\n",
        "    cap.release()\n",
        "    # fill gaps\n",
        "    for i in range(T):\n",
        "        if not filled[i]:\n",
        "            left = max([j for j in range(i,-1,-1) if filled[j]], default=None)\n",
        "            right= min([j for j in range(i,T) if filled[j]], default=None)\n",
        "            pick = left if right is None else (right if left is None else (left if (i-left)<=(right-i) else right))\n",
        "            out[i] = out[pick] if pick is not None else np.zeros_like(out[i])\n",
        "    return out\n",
        "\n",
        "# Example:\n",
        "clip = read_video_uniform_rgb(\"/content/data/word_videos/yes/sample1.mp4\")\n",
        "label, conf, _ = classify_clip_skeleton(clip, threshold=0.55)\n",
        "print(label, conf)\n"
      ],
      "metadata": {
        "colab": {
          "base_uri": "https://localhost:8080/"
        },
        "id": "_RxDpZlpfew9",
        "outputId": "3aed0e28-aec4-48b6-f10d-ddd8edbe4949"
      },
      "execution_count": null,
      "outputs": [
        {
          "output_type": "stream",
          "name": "stdout",
          "text": [
            "unknown 0.16595806193331536\n"
          ]
        }
      ]
    },
    {
      "cell_type": "markdown",
      "source": [
        "# Cell TH1 — Sweep global threshold + top-2 margin on VAL"
      ],
      "metadata": {
        "id": "FgQfWyqyfhKd"
      }
    },
    {
      "cell_type": "code",
      "source": [
        "import numpy as np\n",
        "from sklearn.metrics import accuracy_score\n",
        "\n",
        "# Reuse: lr_sub, Eva_f, yva_f, WORDS_F from Cell F-Subset-LR\n",
        "def preds_and_confs(E):\n",
        "    proba = lr_sub.predict_proba(E)                 # (N, K)\n",
        "    top2  = np.sort(proba, axis=1)[:, -2:]          # (N, 2)\n",
        "    p1, p2 = top2[:, 1], top2[:, 0]\n",
        "    yhat = proba.argmax(axis=1)\n",
        "    return yhat, p1, p2, proba\n",
        "\n",
        "def eval_with_rules(E, y_true, pthr, margin):\n",
        "    yhat, p1, p2, _ = preds_and_confs(E)\n",
        "    # abstain if not confident or ambiguous\n",
        "    unknown = (p1 < pthr) | ((p1 - p2) < margin)\n",
        "    ypred = yhat.copy()\n",
        "    ypred[unknown] = -1  # -1 denotes \"unknown\"\n",
        "    # overall accuracy (unknown counts as wrong for this calc)\n",
        "    acc = accuracy_score(y_true, ypred, normalize=True)\n",
        "    abstain = float(np.mean(unknown))\n",
        "    return acc, abstain\n",
        "\n",
        "grid_thr    = np.linspace(0.40, 0.75, 8)\n",
        "grid_margin = np.linspace(0.00, 0.25, 6)\n",
        "\n",
        "best = None\n",
        "for th in grid_thr:\n",
        "    for mg in grid_margin:\n",
        "        acc, abst = eval_with_rules(Eva_f, yva_f, th, mg)\n",
        "        # prefer higher acc; tie-breaker = lower abstain rate\n",
        "        score = (acc, -abst)\n",
        "        if best is None or score > best[0]:\n",
        "            best = ((acc, -abst), th, mg)\n",
        "\n",
        "(best_acc, _), BEST_THR, BEST_MARGIN = best\n",
        "print(f\"Best on VAL: acc={best_acc:.3f}  thr={BEST_THR:.2f}  margin={BEST_MARGIN:.2f}\")\n"
      ],
      "metadata": {
        "colab": {
          "base_uri": "https://localhost:8080/"
        },
        "id": "boVlXriihDrc",
        "outputId": "2d036fdf-2655-41f8-da75-7aeeb66329c8"
      },
      "execution_count": null,
      "outputs": [
        {
          "output_type": "stream",
          "name": "stdout",
          "text": [
            "Best on VAL: acc=0.125  thr=0.40  margin=0.00\n"
          ]
        }
      ]
    },
    {
      "cell_type": "markdown",
      "source": [
        "# Cell TH2 — Lock thresholds, validate on TEST"
      ],
      "metadata": {
        "id": "GpL0eAwEhHwz"
      }
    },
    {
      "cell_type": "code",
      "source": [
        "from sklearn.metrics import classification_report, confusion_matrix\n",
        "import numpy as np\n",
        "\n",
        "def apply_rules(E, pthr, margin):\n",
        "    yhat, p1, p2, proba = preds_and_confs(E)\n",
        "    unknown = (p1 < pthr) | ((p1 - p2) < margin)\n",
        "    ypred = yhat.copy()\n",
        "    ypred[unknown] = -1\n",
        "    return ypred, proba, unknown\n",
        "\n",
        "# Evaluate on both splits with the tuned rules\n",
        "yva_pred, _, va_unk = apply_rules(Eva_f, BEST_THR, BEST_MARGIN)\n",
        "yte_pred, _, te_unk = apply_rules(Ete_f, BEST_THR, BEST_MARGIN)\n",
        "\n",
        "def report_with_unknown(y_true, y_pred):\n",
        "    acc = accuracy_score(y_true, y_pred)\n",
        "    abst = np.mean(y_pred == -1)\n",
        "    print(f\"acc={acc:.3f}  abstain={abst:.3f}  (unknown counted as wrong)\")\n",
        "    # Only compute per-class report for non-unknown predictions:\n",
        "    mask = (y_pred != -1)\n",
        "    if mask.any():\n",
        "        # Explicitly provide the list of all possible labels (0 to K-1)\n",
        "        all_possible_labels = list(range(len(WORDS_F)))\n",
        "        print(classification_report(y_true[mask], y_pred[mask], target_names=WORDS_F, digits=4, zero_division=0, labels=all_possible_labels))\n",
        "    else:\n",
        "        print(\"All abstained; no per-class report.\")\n",
        "\n",
        "print(\"\\nVAL with rules:\")\n",
        "report_with_unknown(yva_f, yva_pred)\n",
        "\n",
        "print(\"\\nTEST with rules:\")\n",
        "report_with_unknown(yte_f, yte_pred)\n",
        "\n",
        "print(\"\\nConfusion (TEST, unknown=-1). Labels order:\", list(range(len(WORDS_F))) + [-1])\n",
        "cm = confusion_matrix(yte_f, yte_pred, labels=list(range(len(WORDS_F))) + [-1])\n",
        "print(cm)"
      ],
      "metadata": {
        "colab": {
          "base_uri": "https://localhost:8080/"
        },
        "id": "TyKQkIYdhIy_",
        "outputId": "771efbf2-59fd-4f25-ebf8-4bc91bfff91e"
      },
      "execution_count": null,
      "outputs": [
        {
          "output_type": "stream",
          "name": "stdout",
          "text": [
            "\n",
            "VAL with rules:\n",
            "acc=0.125  abstain=0.875  (unknown counted as wrong)\n",
            "              precision    recall  f1-score   support\n",
            "\n",
            "         yes     0.0000    0.0000    0.0000         0\n",
            "          no     0.0000    0.0000    0.0000         0\n",
            "      please     0.0000    0.0000    0.0000         0\n",
            "        stop     1.0000    1.0000    1.0000         1\n",
            "         bad     0.0000    0.0000    0.0000         0\n",
            "       sorry     0.0000    0.0000    0.0000         0\n",
            "        help     0.0000    0.0000    0.0000         0\n",
            "       hello     0.0000    0.0000    0.0000         0\n",
            "\n",
            "    accuracy                         1.0000         1\n",
            "   macro avg     0.1250    0.1250    0.1250         1\n",
            "weighted avg     1.0000    1.0000    1.0000         1\n",
            "\n",
            "\n",
            "TEST with rules:\n",
            "acc=0.250  abstain=0.625  (unknown counted as wrong)\n",
            "              precision    recall  f1-score   support\n",
            "\n",
            "         yes     0.0000    0.0000    0.0000         1\n",
            "          no     0.0000    0.0000    0.0000         0\n",
            "      please     0.0000    0.0000    0.0000         0\n",
            "        stop     0.0000    0.0000    0.0000         0\n",
            "         bad     1.0000    1.0000    1.0000         1\n",
            "       sorry     1.0000    1.0000    1.0000         1\n",
            "        help     0.0000    0.0000    0.0000         0\n",
            "       hello     0.0000    0.0000    0.0000         0\n",
            "\n",
            "    accuracy                         0.6667         3\n",
            "   macro avg     0.2500    0.2500    0.2500         3\n",
            "weighted avg     0.6667    0.6667    0.6667         3\n",
            "\n",
            "\n",
            "Confusion (TEST, unknown=-1). Labels order: [0, 1, 2, 3, 4, 5, 6, 7, -1]\n",
            "[[0 1 0 0 0 0 0 0 0]\n",
            " [0 0 0 0 0 0 0 0 1]\n",
            " [0 0 0 0 0 0 0 0 1]\n",
            " [0 0 0 0 0 0 0 0 1]\n",
            " [0 0 0 0 1 0 0 0 0]\n",
            " [0 0 0 0 0 1 0 0 0]\n",
            " [0 0 0 0 0 0 0 0 1]\n",
            " [0 0 0 0 0 0 0 0 1]\n",
            " [0 0 0 0 0 0 0 0 0]]\n"
          ]
        }
      ]
    },
    {
      "cell_type": "markdown",
      "source": [
        "# Cell TH3 — Update the INFER function to use tuned rules"
      ],
      "metadata": {
        "id": "nlI2B2XshMrO"
      }
    },
    {
      "cell_type": "code",
      "source": [
        "# Reuse: classify_clip_skeleton helpers from your Cell INFER\n",
        "# Assumes BEST_THR, BEST_MARGIN are defined from TH1.\n",
        "\n",
        "def classify_clip_skeleton_with_rules(frames_rgb_01, pthr: float = None, margin: float = None):\n",
        "    \"\"\"\n",
        "    Returns (label_or_unknown, confidence, probs_dict)\n",
        "    Uses tuned global threshold + top-2 margin; falls back to 'unknown' when not confident.\n",
        "    \"\"\"\n",
        "    if pthr is None:   pthr = float(BEST_THR)\n",
        "    if margin is None: margin = float(BEST_MARGIN)\n",
        "\n",
        "    seq = extract_seq_hands(frames_rgb_01)\n",
        "    feat = clip_features_from_sequence(seq)\n",
        "    feat = feat / (np.linalg.norm(feat) + 1e-9)\n",
        "\n",
        "    proba = lr_sub.predict_proba(feat[None, :])[0]\n",
        "    order = np.argsort(proba)\n",
        "    p2_idx, p1_idx = order[-2], order[-1]\n",
        "    p1, p2 = float(proba[p1_idx]), float(proba[p2_idx])\n",
        "\n",
        "    if (p1 < pthr) or ((p1 - p2) < margin):\n",
        "        return \"unknown\", p1, {WORDS_SUB[i]: float(proba[i]) for i in range(len(proba))}\n",
        "    else:\n",
        "        return WORDS_SUB[p1_idx], p1, {WORDS_SUB[i]: float(proba[i]) for i in range(len(proba))}\n"
      ],
      "metadata": {
        "id": "pgvcThTyhNqX"
      },
      "execution_count": null,
      "outputs": []
    },
    {
      "cell_type": "markdown",
      "source": [
        "# Cell PKG — Save thresholds alongside the model"
      ],
      "metadata": {
        "id": "2Mi02rJdhPyN"
      }
    },
    {
      "cell_type": "code",
      "source": [
        "import json, os\n",
        "ART = \"/content/speakez_word_artifacts\"\n",
        "with open(os.path.join(ART, \"thresholds.json\"), \"w\") as f:\n",
        "    json.dump({\"prob_threshold\": float(BEST_THR), \"top2_margin\": float(BEST_MARGIN)}, f, indent=2)\n",
        "print(\"Saved thresholds.json\")\n"
      ],
      "metadata": {
        "colab": {
          "base_uri": "https://localhost:8080/"
        },
        "id": "qWxxKhBGhS27",
        "outputId": "959d6526-db2a-488b-bb8a-5e098af34d64"
      },
      "execution_count": null,
      "outputs": [
        {
          "output_type": "stream",
          "name": "stdout",
          "text": [
            "Saved thresholds.json\n"
          ]
        }
      ]
    },
    {
      "cell_type": "markdown",
      "source": [
        "# Cell TH1b — Pick thresholds: 0 false positives on VAL, max coverage"
      ],
      "metadata": {
        "id": "Jnu0eQ5uimSw"
      }
    },
    {
      "cell_type": "code",
      "source": [
        "import numpy as np\n",
        "from sklearn.metrics import accuracy_score\n",
        "\n",
        "# Reuse from your session: lr_sub, Eva_f, yva_f, WORDS_F\n",
        "def preds_and_confs(E):\n",
        "    proba = lr_sub.predict_proba(E)\n",
        "    order = np.argsort(proba, axis=1)\n",
        "    p2 = proba[np.arange(len(E)), order[:, -2]]\n",
        "    p1 = proba[np.arange(len(E)), order[:, -1]]\n",
        "    yhat = np.argmax(proba, axis=1)\n",
        "    return yhat, p1, p2, proba\n",
        "\n",
        "def coverage_precision(E, y_true, pthr, margin):\n",
        "    yhat, p1, p2, _ = preds_and_confs(E)\n",
        "    accept = (p1 >= pthr) & ((p1 - p2) >= margin)\n",
        "    n_acc = int(accept.sum())\n",
        "    if n_acc == 0:\n",
        "        return 0.0, 1.0, 0, 0  # coverage, precision, n_acc, n_err\n",
        "    err = int((yhat[accept] != y_true[accept]).sum())\n",
        "    prec = 1.0 - (err / n_acc)\n",
        "    cov  = n_acc / len(y_true)\n",
        "    return cov, prec, n_acc, err\n",
        "\n",
        "grid_thr    = np.linspace(0.40, 0.75, 8)\n",
        "grid_margin = np.linspace(0.00, 0.25, 6)\n",
        "\n",
        "candidates = []\n",
        "for th in grid_thr:\n",
        "    for mg in grid_margin:\n",
        "        cov, prec, n_acc, err = coverage_precision(Eva_f, yva_f, th, mg)\n",
        "        candidates.append((prec, cov, -err, th, mg, n_acc))\n",
        "\n",
        "# 1) prefer **no errors** (prec==1.0), then maximize coverage\n",
        "cand_0fp = [c for c in candidates if c[0] == 1.0]\n",
        "if len(cand_0fp) == 0:\n",
        "    # 2) allow <=1 error, still maximize coverage then precision\n",
        "    errs = sorted(set(-c[2] for c in candidates))\n",
        "    allow_err = min([e for e in errs if e <= 1], default=1)\n",
        "    cand = [c for c in candidates if -c[2] <= allow_err]\n",
        "    best = max(cand, key=lambda x: (x[1], x[0]))\n",
        "else:\n",
        "    best = max(cand_0fp, key=lambda x: x[1])\n",
        "\n",
        "BEST_PREC, BEST_COV, _, BEST_THR, BEST_MARGIN, BEST_NACC = best\n",
        "print(f\"Chosen (VAL): thr={BEST_THR:.2f}, margin={BEST_MARGIN:.2f} | precision={BEST_PREC:.3f}, coverage={BEST_COV:.3f} ({BEST_NACC}/{len(yva_f)})\")\n"
      ],
      "metadata": {
        "colab": {
          "base_uri": "https://localhost:8080/"
        },
        "id": "BItlUkaSinX9",
        "outputId": "382977a9-2fe8-4e94-8f5a-9444ebcf77d6"
      },
      "execution_count": null,
      "outputs": [
        {
          "output_type": "stream",
          "name": "stdout",
          "text": [
            "Chosen (VAL): thr=0.40, margin=0.00 | precision=1.000, coverage=0.125 (1/8)\n"
          ]
        }
      ]
    },
    {
      "cell_type": "markdown",
      "source": [
        "# Cell TH2b — Evaluate the chosen rule on TEST (report accuracy & abstain)"
      ],
      "metadata": {
        "id": "xob9e1l7ipdn"
      }
    },
    {
      "cell_type": "code",
      "source": [
        "from sklearn.metrics import accuracy_score, classification_report, confusion_matrix\n",
        "import numpy as np\n",
        "\n",
        "def apply_rules(E, pthr, margin):\n",
        "    yhat, p1, p2, proba = preds_and_confs(E)\n",
        "    accept = (p1 >= pthr) & ((p1 - p2) >= margin)\n",
        "    ypred = np.full_like(yhat, fill_value=-1)  # -1 = unknown\n",
        "    ypred[accept] = yhat[accept]\n",
        "    return ypred, proba, accept\n",
        "\n",
        "yva_pred, _, va_accmask = apply_rules(Eva_f, BEST_THR, BEST_MARGIN)\n",
        "yte_pred, _, te_accmask = apply_rules(Ete_f, BEST_THR, BEST_MARGIN)\n",
        "\n",
        "def summarize_split(name, y_true, y_pred):\n",
        "    acc_overall = accuracy_score(y_true, y_pred)\n",
        "    abstain = float(np.mean(y_pred == -1))\n",
        "    print(f\"{name}: overall_acc={acc_overall:.3f}  abstain={abstain:.3f}  accepted={int((y_pred!=-1).sum())}/{len(y_pred)}\")\n",
        "    # Accuracy among accepted predictions:\n",
        "    m = (y_pred != -1)\n",
        "    if m.any():\n",
        "        acc_accepted = accuracy_score(y_true[m], y_pred[m])\n",
        "        print(f\"{name}: acc_among_accepted={acc_accepted:.3f}\")\n",
        "        # Explicitly provide the list of all possible labels (0 to K-1)\n",
        "        all_possible_labels = list(range(len(WORDS_F)))\n",
        "        print(classification_report(y_true[m], y_pred[m], target_names=WORDS_F, digits=4, zero_division=0, labels=all_possible_labels))\n",
        "    else:\n",
        "        print(f\"{name}: no accepted predictions at these thresholds.\")\n",
        "\n",
        "summarize_split(\"VAL\", yva_f, yva_pred)\n",
        "summarize_split(\"TEST\", yte_f, yte_pred)\n",
        "print(\"\\nTEST confusion (unknown=-1). Labels order:\", list(range(len(WORDS_F))) + [-1])\n",
        "print(confusion_matrix(yte_f, yte_pred, labels=list(range(len(WORDS_F))) + [-1]))"
      ],
      "metadata": {
        "colab": {
          "base_uri": "https://localhost:8080/"
        },
        "id": "aR0bbCa-iswb",
        "outputId": "e186b9d8-7d58-49b4-e6e2-3ac0958b2444"
      },
      "execution_count": null,
      "outputs": [
        {
          "output_type": "stream",
          "name": "stdout",
          "text": [
            "VAL: overall_acc=0.125  abstain=0.875  accepted=1/8\n",
            "VAL: acc_among_accepted=1.000\n",
            "              precision    recall  f1-score   support\n",
            "\n",
            "         yes     0.0000    0.0000    0.0000         0\n",
            "          no     0.0000    0.0000    0.0000         0\n",
            "      please     0.0000    0.0000    0.0000         0\n",
            "        stop     1.0000    1.0000    1.0000         1\n",
            "         bad     0.0000    0.0000    0.0000         0\n",
            "       sorry     0.0000    0.0000    0.0000         0\n",
            "        help     0.0000    0.0000    0.0000         0\n",
            "       hello     0.0000    0.0000    0.0000         0\n",
            "\n",
            "    accuracy                         1.0000         1\n",
            "   macro avg     0.1250    0.1250    0.1250         1\n",
            "weighted avg     1.0000    1.0000    1.0000         1\n",
            "\n",
            "TEST: overall_acc=0.250  abstain=0.625  accepted=3/8\n",
            "TEST: acc_among_accepted=0.667\n",
            "              precision    recall  f1-score   support\n",
            "\n",
            "         yes     0.0000    0.0000    0.0000         1\n",
            "          no     0.0000    0.0000    0.0000         0\n",
            "      please     0.0000    0.0000    0.0000         0\n",
            "        stop     0.0000    0.0000    0.0000         0\n",
            "         bad     1.0000    1.0000    1.0000         1\n",
            "       sorry     1.0000    1.0000    1.0000         1\n",
            "        help     0.0000    0.0000    0.0000         0\n",
            "       hello     0.0000    0.0000    0.0000         0\n",
            "\n",
            "    accuracy                         0.6667         3\n",
            "   macro avg     0.2500    0.2500    0.2500         3\n",
            "weighted avg     0.6667    0.6667    0.6667         3\n",
            "\n",
            "\n",
            "TEST confusion (unknown=-1). Labels order: [0, 1, 2, 3, 4, 5, 6, 7, -1]\n",
            "[[0 1 0 0 0 0 0 0 0]\n",
            " [0 0 0 0 0 0 0 0 1]\n",
            " [0 0 0 0 0 0 0 0 1]\n",
            " [0 0 0 0 0 0 0 0 1]\n",
            " [0 0 0 0 1 0 0 0 0]\n",
            " [0 0 0 0 0 1 0 0 0]\n",
            " [0 0 0 0 0 0 0 0 1]\n",
            " [0 0 0 0 0 0 0 0 1]\n",
            " [0 0 0 0 0 0 0 0 0]]\n"
          ]
        }
      ]
    },
    {
      "cell_type": "markdown",
      "source": [
        "# Cell TH3b — Update INFER to use the tuned thresholds + quick example"
      ],
      "metadata": {
        "id": "ik4d__wviwm_"
      }
    },
    {
      "cell_type": "code",
      "source": [
        "# Reuse classify_clip_skeleton_with_rules(...) from your INFER cell,\n",
        "# but default to the tuned thresholds we just found.\n",
        "\n",
        "def classify_clip_skeleton_with_rules(frames_rgb_01, pthr: float = None, margin: float = None):\n",
        "    if pthr is None:   pthr = float(BEST_THR)\n",
        "    if margin is None: margin = float(BEST_MARGIN)\n",
        "    seq = extract_seq_hands(frames_rgb_01)\n",
        "    feat = clip_features_from_sequence(seq)\n",
        "    feat = feat / (np.linalg.norm(feat) + 1e-9)\n",
        "    proba = lr_sub.predict_proba(feat[None, :])[0]\n",
        "    order = np.argsort(proba)\n",
        "    p2_idx, p1_idx = order[-2], order[-1]\n",
        "    p1, p2 = float(proba[p1_idx]), float(proba[p2_idx])\n",
        "    if (p1 < pthr) or ((p1 - p2) < margin):\n",
        "        return \"unknown\", p1, {WORDS_SUB[i]: float(proba[i]) for i in range(len(proba))}\n",
        "    else:\n",
        "        return WORDS_SUB[p1_idx], p1, {WORDS_SUB[i]: float(proba[i]) for i in range(len(proba))}\n",
        "\n",
        "# Quick smoke test on one of your test clips (index 0)\n",
        "sample_idx = 0\n",
        "clip = X_test[np.where(np.isin(y_test, [best_ids]))[0][0]]  # first test clip among selected classes\n",
        "lab, conf, probs = classify_clip_skeleton_with_rules(clip)\n",
        "print(\"Pred:\", lab, \"conf:\", conf)\n"
      ],
      "metadata": {
        "colab": {
          "base_uri": "https://localhost:8080/"
        },
        "id": "5U34s9uPiy1l",
        "outputId": "fcd665e8-903b-45a2-9dc4-eaebac5b673c"
      },
      "execution_count": null,
      "outputs": [
        {
          "output_type": "stream",
          "name": "stderr",
          "text": [
            "/usr/local/lib/python3.12/dist-packages/google/protobuf/symbol_database.py:55: UserWarning: SymbolDatabase.GetPrototype() is deprecated. Please use message_factory.GetMessageClass() instead. SymbolDatabase.GetPrototype() will be removed soon.\n",
            "  warnings.warn('SymbolDatabase.GetPrototype() is deprecated. Please '\n"
          ]
        },
        {
          "output_type": "stream",
          "name": "stdout",
          "text": [
            "Pred: bad conf: 0.40389168235048123\n"
          ]
        }
      ]
    },
    {
      "cell_type": "markdown",
      "source": [
        "# Cell TH1c — Choose thresholds for max coverage with precision ≥ 0.90 on VAL"
      ],
      "metadata": {
        "id": "zBd7dbOgi1Tg"
      }
    },
    {
      "cell_type": "code",
      "source": [
        "import numpy as np\n",
        "from sklearn.metrics import accuracy_score\n",
        "\n",
        "# Reuse: lr_sub, Eva_f, yva_f\n",
        "def preds_and_confs(E):\n",
        "    proba = lr_sub.predict_proba(E)\n",
        "    order = np.argsort(proba, axis=1)\n",
        "    p2 = proba[np.arange(len(E)), order[:, -2]]\n",
        "    p1 = proba[np.arange(len(E)), order[:, -1]]\n",
        "    yhat = np.argmax(proba, axis=1)\n",
        "    return yhat, p1, p2, proba\n",
        "\n",
        "def coverage_precision(E, y_true, pthr, margin):\n",
        "    yhat, p1, p2, _ = preds_and_confs(E)\n",
        "    accept = (p1 >= pthr) & ((p1 - p2) >= margin)\n",
        "    n_acc = int(accept.sum())\n",
        "    if n_acc == 0:\n",
        "        return 0.0, 1.0, 0, 0\n",
        "    err = int((yhat[accept] != y_true[accept]).sum())\n",
        "    prec = 1.0 - (err / n_acc)\n",
        "    cov  = n_acc / len(y_true)\n",
        "    return cov, prec, n_acc, err\n",
        "\n",
        "thr_grid    = np.linspace(0.30, 0.70, 9)   # widen vs before\n",
        "margin_grid = np.linspace(0.00, 0.20, 6)\n",
        "\n",
        "target_prec = 0.90\n",
        "best = None\n",
        "\n",
        "while best is None and target_prec >= 0.75:  # relax if needed\n",
        "    cands = []\n",
        "    for th in thr_grid:\n",
        "        for mg in margin_grid:\n",
        "            cov, prec, n_acc, err = coverage_precision(Eva_f, yva_f, th, mg)\n",
        "            if prec >= target_prec:\n",
        "                cands.append((cov, prec, th, mg, n_acc, err))\n",
        "    if cands:\n",
        "        # maximize coverage, then precision\n",
        "        best = max(cands, key=lambda x: (x[0], x[1]))\n",
        "        break\n",
        "    target_prec -= 0.05\n",
        "\n",
        "if best is None:\n",
        "    # fallback: just maximize coverage (accept almost everything)\n",
        "    allc = [(*coverage_precision(Eva_f, yva_f, th, mg), th, mg) for th in thr_grid for mg in margin_grid]\n",
        "    cov, prec, n_acc, err, th, mg = max(allc, key=lambda x: x[0])\n",
        "    BEST_THR, BEST_MARGIN = th, mg\n",
        "    print(f\"[Fallback] VAL: cov={cov:.3f} prec={prec:.3f} thr={th:.2f} margin={mg:.2f} (acc={n_acc}/{len(yva_f)})\")\n",
        "else:\n",
        "    cov, prec, th, mg, n_acc, err = best\n",
        "    BEST_THR, BEST_MARGIN = th, mg\n",
        "    print(f\"Chosen on VAL: cov={cov:.3f}  prec={prec:.3f}  thr={th:.2f}  margin={mg:.2f}  (acc={n_acc}/{len(yva_f)})\")\n"
      ],
      "metadata": {
        "colab": {
          "base_uri": "https://localhost:8080/"
        },
        "id": "gQmPquokj1-L",
        "outputId": "1f333591-e53c-47bd-a84b-831cf377a4bb"
      },
      "execution_count": null,
      "outputs": [
        {
          "output_type": "stream",
          "name": "stdout",
          "text": [
            "Chosen on VAL: cov=0.625  prec=1.000  thr=0.30  margin=0.00  (acc=5/8)\n"
          ]
        }
      ]
    },
    {
      "cell_type": "markdown",
      "source": [
        "# Cell TH2c — Evaluate those thresholds on VAL/TEST"
      ],
      "metadata": {
        "id": "B4Ko7ucCj4EY"
      }
    },
    {
      "cell_type": "code",
      "source": [
        "from sklearn.metrics import accuracy_score, classification_report, confusion_matrix\n",
        "import numpy as np\n",
        "\n",
        "def apply_rules(E, pthr, margin):\n",
        "    yhat, p1, p2, proba = preds_and_confs(E)\n",
        "    accept = (p1 >= pthr) & ((p1 - p2) >= margin)\n",
        "    ypred = np.full_like(yhat, fill_value=-1)  # -1 = unknown\n",
        "    ypred[accept] = yhat[accept]\n",
        "    return ypred, proba, accept\n",
        "\n",
        "def summarize_split(name, y_true, y_pred, words):\n",
        "    acc_overall = accuracy_score(y_true, y_pred)\n",
        "    abstain = float(np.mean(y_pred == -1))\n",
        "    print(f\"{name}: overall_acc={acc_overall:.3f}  abstain={abstain:.3f}  accepted={(y_pred!=-1).sum()}/{len(y_pred)}\")\n",
        "    m = (y_pred != -1)\n",
        "    if m.any():\n",
        "        acc_accepted = accuracy_score(y_true[m], y_pred[m])\n",
        "        print(f\"{name}: acc_among_accepted={acc_accepted:.3f}\")\n",
        "        # Explicitly provide the list of all possible labels (0 to K-1)\n",
        "        all_possible_labels = list(range(len(words))) # Use len(words) here\n",
        "        print(classification_report(y_true[m], y_pred[m], target_names=words, digits=4, zero_division=0, labels=all_possible_labels)) # Pass labels=all_possible_labels\n",
        "    else:\n",
        "        print(f\"{name}: no accepted predictions.\")\n",
        "\n",
        "yva_pred, _, _ = apply_rules(Eva_f, BEST_THR, BEST_MARGIN)\n",
        "yte_pred, _, _ = apply_rules(Ete_f, BEST_THR, BEST_MARGIN)\n",
        "\n",
        "summarize_split(\"VAL\",  yva_f, yva_pred, WORDS_F)\n",
        "summarize_split(\"TEST\", yte_f, yte_pred, WORDS_F)\n",
        "\n",
        "print(\"\\nTEST confusion (unknown=-1). Labels:\", list(range(len(WORDS_F)))+[-1])\n",
        "print(confusion_matrix(yte_f, yte_pred, labels=list(range(len(WORDS_F)))+[-1]))"
      ],
      "metadata": {
        "colab": {
          "base_uri": "https://localhost:8080/"
        },
        "id": "YhY20y5Nj7O_",
        "outputId": "62d672cb-7266-473f-a68e-9d37556936d5"
      },
      "execution_count": null,
      "outputs": [
        {
          "output_type": "stream",
          "name": "stdout",
          "text": [
            "VAL: overall_acc=0.625  abstain=0.375  accepted=5/8\n",
            "VAL: acc_among_accepted=1.000\n",
            "              precision    recall  f1-score   support\n",
            "\n",
            "         yes     0.0000    0.0000    0.0000         0\n",
            "          no     1.0000    1.0000    1.0000         1\n",
            "      please     1.0000    1.0000    1.0000         1\n",
            "        stop     1.0000    1.0000    1.0000         1\n",
            "         bad     0.0000    0.0000    0.0000         0\n",
            "       sorry     1.0000    1.0000    1.0000         1\n",
            "        help     1.0000    1.0000    1.0000         1\n",
            "       hello     0.0000    0.0000    0.0000         0\n",
            "\n",
            "    accuracy                         1.0000         5\n",
            "   macro avg     0.6250    0.6250    0.6250         5\n",
            "weighted avg     1.0000    1.0000    1.0000         5\n",
            "\n",
            "TEST: overall_acc=0.625  abstain=0.125  accepted=7/8\n",
            "TEST: acc_among_accepted=0.714\n",
            "              precision    recall  f1-score   support\n",
            "\n",
            "         yes     0.0000    0.0000    0.0000         1\n",
            "          no     0.5000    1.0000    0.6667         1\n",
            "      please     1.0000    1.0000    1.0000         1\n",
            "        stop     1.0000    1.0000    1.0000         1\n",
            "         bad     1.0000    1.0000    1.0000         1\n",
            "       sorry     1.0000    1.0000    1.0000         1\n",
            "        help     0.0000    0.0000    0.0000         0\n",
            "       hello     0.0000    0.0000    0.0000         1\n",
            "\n",
            "    accuracy                         0.7143         7\n",
            "   macro avg     0.5625    0.6250    0.5833         7\n",
            "weighted avg     0.6429    0.7143    0.6667         7\n",
            "\n",
            "\n",
            "TEST confusion (unknown=-1). Labels: [0, 1, 2, 3, 4, 5, 6, 7, -1]\n",
            "[[0 1 0 0 0 0 0 0 0]\n",
            " [0 1 0 0 0 0 0 0 0]\n",
            " [0 0 1 0 0 0 0 0 0]\n",
            " [0 0 0 1 0 0 0 0 0]\n",
            " [0 0 0 0 1 0 0 0 0]\n",
            " [0 0 0 0 0 1 0 0 0]\n",
            " [0 0 0 0 0 0 0 0 1]\n",
            " [1 0 0 0 0 0 0 0 0]\n",
            " [0 0 0 0 0 0 0 0 0]]\n"
          ]
        }
      ]
    },
    {
      "cell_type": "markdown",
      "source": [
        "# (Optional) Cell AG1 — “Agreement filter”: accept only if LogReg agrees with prototypes"
      ],
      "metadata": {
        "id": "hS0ozOdUj9HP"
      }
    },
    {
      "cell_type": "code",
      "source": [
        "# Build prototypes on the filtered 8-class skeleton embeddings (train)\n",
        "import numpy as np\n",
        "P = np.stack([Etr_f[ytr_f==k].mean(axis=0) for k in range(len(WORDS_F))])\n",
        "P /= (np.linalg.norm(P, axis=1, keepdims=True)+1e-9)\n",
        "\n",
        "def proto_pred(E):\n",
        "    return (E @ P.T).argmax(axis=1)\n",
        "\n",
        "def apply_rules_with_agreement(E, pthr, margin):\n",
        "    yhat_lr, p1, p2, proba = preds_and_confs(E)\n",
        "    yhat_pr = proto_pred(E)\n",
        "    agree = (yhat_lr == yhat_pr)\n",
        "    accept = (p1 >= pthr) & ((p1 - p2) >= margin) & agree\n",
        "    ypred = np.full_like(yhat_lr, fill_value=-1)\n",
        "    ypred[accept] = yhat_lr[accept]\n",
        "    return ypred, accept\n",
        "\n",
        "yte_pred_ag, mask_ag = apply_rules_with_agreement(Ete_f, BEST_THR, BEST_MARGIN)\n",
        "print(\"Agreement TEST: accepted =\", int(mask_ag.sum()), \"/\", len(mask_ag))\n",
        "print(\"Agreement TEST acc among accepted:\", accuracy_score(yte_f[mask_ag], yte_pred_ag[mask_ag]) if mask_ag.any() else \"n/a\")\n"
      ],
      "metadata": {
        "colab": {
          "base_uri": "https://localhost:8080/"
        },
        "id": "NmBmu7G1kCYu",
        "outputId": "57abf482-ea33-4de9-e81d-991c3d6b9294"
      },
      "execution_count": null,
      "outputs": [
        {
          "output_type": "stream",
          "name": "stdout",
          "text": [
            "Agreement TEST: accepted = 5 / 8\n",
            "Agreement TEST acc among accepted: 0.8\n"
          ]
        }
      ]
    },
    {
      "cell_type": "markdown",
      "source": [
        "# Update your INFER function (uses the tuned thresholds)"
      ],
      "metadata": {
        "id": "_ZMMgZqVkEvO"
      }
    },
    {
      "cell_type": "code",
      "source": [
        "label, conf, probs = classify_clip_skeleton_with_rules(clip, pthr=float(BEST_THR)-0.05, margin=max(0.0, float(BEST_MARGIN)-0.02))\n"
      ],
      "metadata": {
        "colab": {
          "base_uri": "https://localhost:8080/"
        },
        "id": "076YJyzSkIHc",
        "outputId": "39395460-eda9-4a9a-fa1c-701f6782fc54"
      },
      "execution_count": null,
      "outputs": [
        {
          "output_type": "stream",
          "name": "stderr",
          "text": [
            "/usr/local/lib/python3.12/dist-packages/google/protobuf/symbol_database.py:55: UserWarning: SymbolDatabase.GetPrototype() is deprecated. Please use message_factory.GetMessageClass() instead. SymbolDatabase.GetPrototype() will be removed soon.\n",
            "  warnings.warn('SymbolDatabase.GetPrototype() is deprecated. Please '\n"
          ]
        }
      ]
    },
    {
      "cell_type": "markdown",
      "source": [
        "# Cell A — Lock thresholds + agreement filter and save config"
      ],
      "metadata": {
        "id": "4dyfkUPom9--"
      }
    },
    {
      "cell_type": "code",
      "source": [
        "import os, json, joblib, numpy as np\n",
        "\n",
        "ART = \"/content/speakez_word_artifacts\"\n",
        "os.makedirs(ART, exist_ok=True)\n",
        "\n",
        "# Use the thresholds you just found (TH1c/TH2c)\n",
        "BEST_THR    = float(0.30)\n",
        "BEST_MARGIN = float(0.00)\n",
        "\n",
        "# Save thresholds\n",
        "with open(os.path.join(ART, \"thresholds.json\"), \"w\") as f:\n",
        "    json.dump({\"prob_threshold\": BEST_THR, \"top2_margin\": BEST_MARGIN, \"agreement\": True}, f, indent=2)\n",
        "\n",
        "# Make sure artifacts exist (created earlier)\n",
        "assert os.path.exists(os.path.join(ART, \"word_skel_logreg_8.joblib\"))\n",
        "assert os.path.exists(os.path.join(ART, \"words_subset.json\"))\n",
        "assert os.path.exists(os.path.join(ART, \"word_skel_prototypes_8.npz\"))\n",
        "\n",
        "print(\"Final config saved:\", os.listdir(ART))\n"
      ],
      "metadata": {
        "colab": {
          "base_uri": "https://localhost:8080/"
        },
        "id": "YRcsd3U-m_vd",
        "outputId": "dd8814c3-cdec-4976-857f-4b0c6d12c231"
      },
      "execution_count": null,
      "outputs": [
        {
          "output_type": "stream",
          "name": "stdout",
          "text": [
            "Final config saved: ['best_word_mnet_tavg.h5', 'word_skel_logreg_8.joblib', 'word_skel_prototypes_8.npz', 'best_word_cnn_bilstm.h5', 'words_subset.json', 'history_word.json', 'thresholds.json']\n"
          ]
        }
      ]
    },
    {
      "cell_type": "markdown",
      "source": [
        "# Cell B — Final inference wrapper (frames → word or “unknown”)"
      ],
      "metadata": {
        "id": "tvnOgrf8nBx7"
      }
    },
    {
      "cell_type": "code",
      "source": [
        "import os, json, joblib, numpy as np\n",
        "import mediapipe as mp, cv2\n",
        "\n",
        "ART = \"/content/speakez_word_artifacts\"\n",
        "\n",
        "# Load artifacts\n",
        "lr_sub = joblib.load(os.path.join(ART, \"word_skel_logreg_8.joblib\"))\n",
        "meta    = json.load(open(os.path.join(ART, \"words_subset.json\")))\n",
        "thr_cfg = json.load(open(os.path.join(ART, \"thresholds.json\")))\n",
        "WORDS_SUB   = meta[\"words\"]\n",
        "BEST_THR    = float(thr_cfg[\"prob_threshold\"])\n",
        "BEST_MARGIN = float(thr_cfg[\"top2_margin\"])\n",
        "USE_AGREE   = bool(thr_cfg.get(\"agreement\", True))\n",
        "\n",
        "# Prototypes for agreement\n",
        "Pfile = np.load(os.path.join(ART, \"word_skel_prototypes_8.npz\"))\n",
        "P = Pfile[\"protos\"]                  # (K, D) L2-normalized\n",
        "WORDS_PROTOS = [w for w in Pfile[\"words\"].tolist()]\n",
        "assert WORDS_SUB == WORDS_PROTOS, \"Words mismatch between LogReg and prototypes.\"\n",
        "\n",
        "# === Reuse helpers (paste from your L1 cell if not in scope) ===\n",
        "# normalize_hand_landmarks(lm_xyz) and clip_features_from_sequence(seq_hands_xyz) must be defined.\n",
        "mp_hands = mp.solutions.hands\n",
        "\n",
        "def extract_seq_hands(frames_rgb):\n",
        "    seq = []\n",
        "    with mp_hands.Hands(static_image_mode=False, max_num_hands=2, model_complexity=1,\n",
        "                        min_detection_confidence=0.5, min_tracking_confidence=0.4) as hands:\n",
        "        for t in range(frames_rgb.shape[0]):\n",
        "            img = (frames_rgb[t] * 255.0).clip(0,255).astype(np.uint8)\n",
        "            res = hands.process(img)\n",
        "            hands_norm = []\n",
        "            if res.multi_hand_landmarks:\n",
        "                for lm in res.multi_hand_landmarks:\n",
        "                    arr = np.array([[p.x, p.y, p.z] for p in lm.landmark], dtype=np.float32)\n",
        "                    hands_norm.append(arr)\n",
        "                hands_norm.sort(key=lambda a: a[0,0])\n",
        "            while len(hands_norm) < 2:\n",
        "                hands_norm.append(None)\n",
        "            hands_norm = hands_norm[:2]\n",
        "            H0 = normalize_hand_landmarks(hands_norm[0]) if hands_norm[0] is not None else None\n",
        "            H1 = normalize_hand_landmarks(hands_norm[1]) if hands_norm[1] is not None else None\n",
        "            seq.append((H0, H1))\n",
        "    return seq\n",
        "\n",
        "def read_video_uniform_rgb(path: str, T: int = 24, size=(128,128)) -> np.ndarray:\n",
        "    cap = cv2.VideoCapture(path); frames = int(cap.get(cv2.CAP_PROP_FRAME_COUNT))\n",
        "    idxs = np.linspace(0, max(frames-1,0), T).astype(int) if frames>0 else np.zeros(T, int)\n",
        "    out = np.empty((T, size[0], size[1], 3), np.float32); filled = np.zeros((T,), bool)\n",
        "    f=0; ok,frame=cap.read()\n",
        "    while ok:\n",
        "        if f in idxs:\n",
        "            h,w = frame.shape[:2]; m=min(h,w); y0=(h-m)//2; x0=(w-m)//2\n",
        "            crop = frame[y0:y0+m, x0:x0+m]; crop = cv2.resize(crop, size, interpolation=cv2.INTER_AREA)\n",
        "            rgb = cv2.cvtColor(crop, cv2.COLOR_BGR2RGB).astype(np.float32)/255.0\n",
        "            pos = np.where(idxs==f)[0][0]; out[pos]=rgb; filled[pos]=True\n",
        "        ok,frame=cap.read(); f+=1\n",
        "    cap.release()\n",
        "    for i in range(T):\n",
        "        if not filled[i]:\n",
        "            left = max([j for j in range(i,-1,-1) if filled[j]], default=None)\n",
        "            right= min([j for j in range(i,T) if filled[j]], default=None)\n",
        "            pick = left if right is None else (right if left is None else (left if (i-left)<=(right-i) else right))\n",
        "            out[i] = out[pick] if pick is not None else np.zeros_like(out[i])\n",
        "    return out\n",
        "\n",
        "def classify_clip_skeleton_final(frames_rgb_01, pthr=None, margin=None, use_agreement=None):\n",
        "    if pthr is None:   pthr = BEST_THR\n",
        "    if margin is None: margin = BEST_MARGIN\n",
        "    if use_agreement is None: use_agreement = USE_AGREE\n",
        "\n",
        "    # features\n",
        "    seq  = extract_seq_hands(frames_rgb_01)\n",
        "    feat = clip_features_from_sequence(seq)\n",
        "    feat = feat / (np.linalg.norm(feat) + 1e-9)\n",
        "\n",
        "    # LogReg probs\n",
        "    proba = lr_sub.predict_proba(feat[None, :])[0]\n",
        "    order = np.argsort(proba)\n",
        "    p2_idx, p1_idx = order[-2], order[-1]\n",
        "    p1, p2 = float(proba[p1_idx]), float(proba[p2_idx])\n",
        "\n",
        "    # Prototype agreement (cosine on L2 space)\n",
        "    agree = True\n",
        "    if use_agreement:\n",
        "        proto_idx = int(np.argmax(feat[None,:] @ P.T))\n",
        "        agree = (proto_idx == p1_idx)\n",
        "\n",
        "    accept = (p1 >= pthr) and ((p1 - p2) >= margin) and agree\n",
        "    label = WORDS_SUB[p1_idx] if accept else \"unknown\"\n",
        "    return label, p1, {WORDS_SUB[i]: float(proba[i]) for i in range(len(proba))}\n",
        "\n",
        "# Quick smoke test on one of your test clips (first ‘kept’ class)\n",
        "from numpy import where, isin\n",
        "sample_idx = where(isin(y_test, meta[\"ids\"]))[0][0]\n",
        "clip = X_test[sample_idx]\n",
        "lab, conf, probs = classify_clip_skeleton_final(clip)\n",
        "print(\"Pred:\", lab, \"conf:\", conf)\n"
      ],
      "metadata": {
        "colab": {
          "base_uri": "https://localhost:8080/"
        },
        "id": "0Nito54ZnEyF",
        "outputId": "c76c4faf-88b7-44e3-f6ca-c547ecb3ca85"
      },
      "execution_count": null,
      "outputs": [
        {
          "output_type": "stream",
          "name": "stderr",
          "text": [
            "/usr/local/lib/python3.12/dist-packages/google/protobuf/symbol_database.py:55: UserWarning: SymbolDatabase.GetPrototype() is deprecated. Please use message_factory.GetMessageClass() instead. SymbolDatabase.GetPrototype() will be removed soon.\n",
            "  warnings.warn('SymbolDatabase.GetPrototype() is deprecated. Please '\n"
          ]
        },
        {
          "output_type": "stream",
          "name": "stdout",
          "text": [
            "Pred: unknown conf: 0.40410734575258017\n"
          ]
        }
      ]
    },
    {
      "cell_type": "markdown",
      "source": [
        "# Cell C — Batch eval helper (accepted rate, acc among accepted)"
      ],
      "metadata": {
        "id": "Y-kCQ6OnnGkI"
      }
    },
    {
      "cell_type": "code",
      "source": [
        "from sklearn.metrics import accuracy_score\n",
        "import numpy as np\n",
        "\n",
        "def eval_batch(frames, labels, pthr=None, margin=None, use_agreement=None, words=WORDS_SUB):\n",
        "    accepted = 0; correct = 0; total = len(labels)\n",
        "    preds = []; acc_mask = []\n",
        "    for i in range(total):\n",
        "        lab, conf, _ = classify_clip_skeleton_final(frames[i], pthr=pthr, margin=margin, use_agreement=use_agreement)\n",
        "        if lab == \"unknown\":\n",
        "            preds.append(-1); acc_mask.append(False)\n",
        "        else:\n",
        "            idx = words.index(lab)\n",
        "            preds.append(idx); acc_mask.append(True)\n",
        "    preds = np.array(preds, int); acc_mask = np.array(acc_mask, bool)\n",
        "    overall = accuracy_score(labels, preds)\n",
        "    if acc_mask.any():\n",
        "        acc_acc = accuracy_score(labels[acc_mask], preds[acc_mask])\n",
        "    else:\n",
        "        acc_acc = float(\"nan\")\n",
        "    return {\"overall_acc\": overall,\n",
        "            \"accepted\": int(acc_mask.sum()),\n",
        "            \"total\": total,\n",
        "            \"acc_among_accepted\": acc_acc,\n",
        "            \"abstain_rate\": float(1.0 - acc_mask.mean())}\n",
        "\n",
        "# Evaluate on your filtered VAL/TEST arrays (Eva_f, yva_f, Ete_f, yte_f from Cell F-Subset-LR)\n",
        "# We need frame arrays; if you want to run on original VAL/TEST videos, pass X_val/ X_test with indices matching subset.\n",
        "# Example using your 8-class subset indices:\n",
        "keep = np.isin(y_test, meta[\"ids\"]); Xte_keep = X_test[keep]\n",
        "yte_keep = np.array([meta[\"ids\"].index(int(t)) for t in y_test[keep]], int)\n",
        "\n",
        "r_test = eval_batch(Xte_keep, yte_keep, pthr=BEST_THR, margin=BEST_MARGIN, use_agreement=USE_AGREE)\n",
        "print(\"TEST metrics:\", r_test)\n"
      ],
      "metadata": {
        "colab": {
          "base_uri": "https://localhost:8080/"
        },
        "id": "UC8HJrUEnKt7",
        "outputId": "853399d6-6abd-4cf2-c2da-01e59c8c4362"
      },
      "execution_count": null,
      "outputs": [
        {
          "output_type": "stream",
          "name": "stderr",
          "text": [
            "/usr/local/lib/python3.12/dist-packages/google/protobuf/symbol_database.py:55: UserWarning: SymbolDatabase.GetPrototype() is deprecated. Please use message_factory.GetMessageClass() instead. SymbolDatabase.GetPrototype() will be removed soon.\n",
            "  warnings.warn('SymbolDatabase.GetPrototype() is deprecated. Please '\n",
            "/usr/local/lib/python3.12/dist-packages/google/protobuf/symbol_database.py:55: UserWarning: SymbolDatabase.GetPrototype() is deprecated. Please use message_factory.GetMessageClass() instead. SymbolDatabase.GetPrototype() will be removed soon.\n",
            "  warnings.warn('SymbolDatabase.GetPrototype() is deprecated. Please '\n",
            "/usr/local/lib/python3.12/dist-packages/google/protobuf/symbol_database.py:55: UserWarning: SymbolDatabase.GetPrototype() is deprecated. Please use message_factory.GetMessageClass() instead. SymbolDatabase.GetPrototype() will be removed soon.\n",
            "  warnings.warn('SymbolDatabase.GetPrototype() is deprecated. Please '\n",
            "/usr/local/lib/python3.12/dist-packages/google/protobuf/symbol_database.py:55: UserWarning: SymbolDatabase.GetPrototype() is deprecated. Please use message_factory.GetMessageClass() instead. SymbolDatabase.GetPrototype() will be removed soon.\n",
            "  warnings.warn('SymbolDatabase.GetPrototype() is deprecated. Please '\n",
            "/usr/local/lib/python3.12/dist-packages/google/protobuf/symbol_database.py:55: UserWarning: SymbolDatabase.GetPrototype() is deprecated. Please use message_factory.GetMessageClass() instead. SymbolDatabase.GetPrototype() will be removed soon.\n",
            "  warnings.warn('SymbolDatabase.GetPrototype() is deprecated. Please '\n",
            "/usr/local/lib/python3.12/dist-packages/google/protobuf/symbol_database.py:55: UserWarning: SymbolDatabase.GetPrototype() is deprecated. Please use message_factory.GetMessageClass() instead. SymbolDatabase.GetPrototype() will be removed soon.\n",
            "  warnings.warn('SymbolDatabase.GetPrototype() is deprecated. Please '\n",
            "/usr/local/lib/python3.12/dist-packages/google/protobuf/symbol_database.py:55: UserWarning: SymbolDatabase.GetPrototype() is deprecated. Please use message_factory.GetMessageClass() instead. SymbolDatabase.GetPrototype() will be removed soon.\n",
            "  warnings.warn('SymbolDatabase.GetPrototype() is deprecated. Please '\n",
            "/usr/local/lib/python3.12/dist-packages/google/protobuf/symbol_database.py:55: UserWarning: SymbolDatabase.GetPrototype() is deprecated. Please use message_factory.GetMessageClass() instead. SymbolDatabase.GetPrototype() will be removed soon.\n",
            "  warnings.warn('SymbolDatabase.GetPrototype() is deprecated. Please '\n"
          ]
        },
        {
          "output_type": "stream",
          "name": "stdout",
          "text": [
            "TEST metrics: {'overall_acc': 0.625, 'accepted': 7, 'total': 8, 'acc_among_accepted': 0.7142857142857143, 'abstain_rate': 0.125}\n"
          ]
        }
      ]
    },
    {
      "cell_type": "markdown",
      "source": [
        "# (Optional) Cell D — Landmark overlay + probs bar chart (good for slides)"
      ],
      "metadata": {
        "id": "dbpOnT9GnMeE"
      }
    },
    {
      "cell_type": "code",
      "source": [
        "import matplotlib.pyplot as plt\n",
        "\n",
        "def visualize_clip_with_probs(frames_rgb_01, probs_dict, title=\"\"):\n",
        "    # Show middle frame with landmarks\n",
        "    t = frames_rgb_01.shape[0]//2\n",
        "    img = (frames_rgb_01[t]*255).astype(np.uint8)\n",
        "    plt.figure(figsize=(10,4))\n",
        "    plt.subplot(1,2,1); plt.imshow(img); plt.axis('off'); plt.title(\"Middle frame\")\n",
        "    # Prob bars\n",
        "    names = list(probs_dict.keys()); vals = [probs_dict[k] for k in names]\n",
        "    order = np.argsort(vals)[::-1][:8]\n",
        "    plt.subplot(1,2,2); plt.bar([names[i] for i in order], [vals[i] for i in order])\n",
        "    plt.xticks(rotation=30, ha='right'); plt.ylim(0,1); plt.title(title)\n",
        "    plt.tight_layout(); plt.show()\n",
        "\n",
        "lab, conf, probs = classify_clip_skeleton_final(clip)\n",
        "visualize_clip_with_probs(clip, probs, title=f\"Pred: {lab} ({conf:.2f})\")\n"
      ],
      "metadata": {
        "colab": {
          "base_uri": "https://localhost:8080/",
          "height": 462
        },
        "id": "_tSUcbfanPoV",
        "outputId": "1e9ec9ad-21b2-41f1-94be-26b8cec6f482"
      },
      "execution_count": null,
      "outputs": [
        {
          "output_type": "stream",
          "name": "stderr",
          "text": [
            "/usr/local/lib/python3.12/dist-packages/google/protobuf/symbol_database.py:55: UserWarning: SymbolDatabase.GetPrototype() is deprecated. Please use message_factory.GetMessageClass() instead. SymbolDatabase.GetPrototype() will be removed soon.\n",
            "  warnings.warn('SymbolDatabase.GetPrototype() is deprecated. Please '\n"
          ]
        },
        {
          "output_type": "display_data",
          "data": {
            "text/plain": [
              "<Figure size 1000x400 with 2 Axes>"
            ],
            "image/png": "[encoded data removed]"
          },
          "metadata": {}
        }
      ]
    },
    {
      "cell_type": "markdown",
      "source": [
        "# Cell G1 — Compare with/without agreement on TEST"
      ],
      "metadata": {
        "id": "dN2zbXFqooWi"
      }
    },
    {
      "cell_type": "code",
      "source": [
        "# Compare acceptance/accuracy with and without the agreement filter\n",
        "r_agree    = eval_batch(Xte_keep, yte_keep, pthr=BEST_THR, margin=BEST_MARGIN, use_agreement=True)\n",
        "r_no_agree = eval_batch(Xte_keep, yte_keep, pthr=BEST_THR, margin=BEST_MARGIN, use_agreement=False)\n",
        "print(\"With agreement   :\", r_agree)\n",
        "print(\"Without agreement:\", r_no_agree)\n"
      ],
      "metadata": {
        "colab": {
          "base_uri": "https://localhost:8080/"
        },
        "id": "J7PTuCm6opiA",
        "outputId": "34bb9d66-1380-4117-bc9a-cc635fea5dad"
      },
      "execution_count": null,
      "outputs": [
        {
          "output_type": "stream",
          "name": "stderr",
          "text": [
            "/usr/local/lib/python3.12/dist-packages/google/protobuf/symbol_database.py:55: UserWarning: SymbolDatabase.GetPrototype() is deprecated. Please use message_factory.GetMessageClass() instead. SymbolDatabase.GetPrototype() will be removed soon.\n",
            "  warnings.warn('SymbolDatabase.GetPrototype() is deprecated. Please '\n",
            "/usr/local/lib/python3.12/dist-packages/google/protobuf/symbol_database.py:55: UserWarning: SymbolDatabase.GetPrototype() is deprecated. Please use message_factory.GetMessageClass() instead. SymbolDatabase.GetPrototype() will be removed soon.\n",
            "  warnings.warn('SymbolDatabase.GetPrototype() is deprecated. Please '\n",
            "/usr/local/lib/python3.12/dist-packages/google/protobuf/symbol_database.py:55: UserWarning: SymbolDatabase.GetPrototype() is deprecated. Please use message_factory.GetMessageClass() instead. SymbolDatabase.GetPrototype() will be removed soon.\n",
            "  warnings.warn('SymbolDatabase.GetPrototype() is deprecated. Please '\n",
            "/usr/local/lib/python3.12/dist-packages/google/protobuf/symbol_database.py:55: UserWarning: SymbolDatabase.GetPrototype() is deprecated. Please use message_factory.GetMessageClass() instead. SymbolDatabase.GetPrototype() will be removed soon.\n",
            "  warnings.warn('SymbolDatabase.GetPrototype() is deprecated. Please '\n",
            "/usr/local/lib/python3.12/dist-packages/google/protobuf/symbol_database.py:55: UserWarning: SymbolDatabase.GetPrototype() is deprecated. Please use message_factory.GetMessageClass() instead. SymbolDatabase.GetPrototype() will be removed soon.\n",
            "  warnings.warn('SymbolDatabase.GetPrototype() is deprecated. Please '\n",
            "/usr/local/lib/python3.12/dist-packages/google/protobuf/symbol_database.py:55: UserWarning: SymbolDatabase.GetPrototype() is deprecated. Please use message_factory.GetMessageClass() instead. SymbolDatabase.GetPrototype() will be removed soon.\n",
            "  warnings.warn('SymbolDatabase.GetPrototype() is deprecated. Please '\n",
            "/usr/local/lib/python3.12/dist-packages/google/protobuf/symbol_database.py:55: UserWarning: SymbolDatabase.GetPrototype() is deprecated. Please use message_factory.GetMessageClass() instead. SymbolDatabase.GetPrototype() will be removed soon.\n",
            "  warnings.warn('SymbolDatabase.GetPrototype() is deprecated. Please '\n",
            "/usr/local/lib/python3.12/dist-packages/google/protobuf/symbol_database.py:55: UserWarning: SymbolDatabase.GetPrototype() is deprecated. Please use message_factory.GetMessageClass() instead. SymbolDatabase.GetPrototype() will be removed soon.\n",
            "  warnings.warn('SymbolDatabase.GetPrototype() is deprecated. Please '\n",
            "/usr/local/lib/python3.12/dist-packages/google/protobuf/symbol_database.py:55: UserWarning: SymbolDatabase.GetPrototype() is deprecated. Please use message_factory.GetMessageClass() instead. SymbolDatabase.GetPrototype() will be removed soon.\n",
            "  warnings.warn('SymbolDatabase.GetPrototype() is deprecated. Please '\n",
            "/usr/local/lib/python3.12/dist-packages/google/protobuf/symbol_database.py:55: UserWarning: SymbolDatabase.GetPrototype() is deprecated. Please use message_factory.GetMessageClass() instead. SymbolDatabase.GetPrototype() will be removed soon.\n",
            "  warnings.warn('SymbolDatabase.GetPrototype() is deprecated. Please '\n",
            "/usr/local/lib/python3.12/dist-packages/google/protobuf/symbol_database.py:55: UserWarning: SymbolDatabase.GetPrototype() is deprecated. Please use message_factory.GetMessageClass() instead. SymbolDatabase.GetPrototype() will be removed soon.\n",
            "  warnings.warn('SymbolDatabase.GetPrototype() is deprecated. Please '\n",
            "/usr/local/lib/python3.12/dist-packages/google/protobuf/symbol_database.py:55: UserWarning: SymbolDatabase.GetPrototype() is deprecated. Please use message_factory.GetMessageClass() instead. SymbolDatabase.GetPrototype() will be removed soon.\n",
            "  warnings.warn('SymbolDatabase.GetPrototype() is deprecated. Please '\n",
            "/usr/local/lib/python3.12/dist-packages/google/protobuf/symbol_database.py:55: UserWarning: SymbolDatabase.GetPrototype() is deprecated. Please use message_factory.GetMessageClass() instead. SymbolDatabase.GetPrototype() will be removed soon.\n",
            "  warnings.warn('SymbolDatabase.GetPrototype() is deprecated. Please '\n",
            "/usr/local/lib/python3.12/dist-packages/google/protobuf/symbol_database.py:55: UserWarning: SymbolDatabase.GetPrototype() is deprecated. Please use message_factory.GetMessageClass() instead. SymbolDatabase.GetPrototype() will be removed soon.\n",
            "  warnings.warn('SymbolDatabase.GetPrototype() is deprecated. Please '\n",
            "/usr/local/lib/python3.12/dist-packages/google/protobuf/symbol_database.py:55: UserWarning: SymbolDatabase.GetPrototype() is deprecated. Please use message_factory.GetMessageClass() instead. SymbolDatabase.GetPrototype() will be removed soon.\n",
            "  warnings.warn('SymbolDatabase.GetPrototype() is deprecated. Please '\n",
            "/usr/local/lib/python3.12/dist-packages/google/protobuf/symbol_database.py:55: UserWarning: SymbolDatabase.GetPrototype() is deprecated. Please use message_factory.GetMessageClass() instead. SymbolDatabase.GetPrototype() will be removed soon.\n",
            "  warnings.warn('SymbolDatabase.GetPrototype() is deprecated. Please '\n"
          ]
        },
        {
          "output_type": "stream",
          "name": "stdout",
          "text": [
            "With agreement   : {'overall_acc': 0.625, 'accepted': 7, 'total': 8, 'acc_among_accepted': 0.7142857142857143, 'abstain_rate': 0.125}\n",
            "Without agreement: {'overall_acc': 0.75, 'accepted': 8, 'total': 8, 'acc_among_accepted': 0.75, 'abstain_rate': 0.0}\n"
          ]
        }
      ]
    },
    {
      "cell_type": "markdown",
      "source": [
        "# Cell G2 — Why a clip became “unknown” (show LR vs prototype)"
      ],
      "metadata": {
        "id": "cC6Wl-AsoyCJ"
      }
    },
    {
      "cell_type": "code",
      "source": [
        "# Inspect a test clip: see LR top-2, prototype top-1, and the final decision path\n",
        "def inspect_test(idx):\n",
        "    clip = Xte_keep[idx]\n",
        "    true_id = yte_keep[idx]\n",
        "    true_word = WORDS_SUB[true_id]\n",
        "\n",
        "    # features\n",
        "    seq  = extract_seq_hands(clip)\n",
        "    feat = clip_features_from_sequence(seq)\n",
        "    feat = feat / (np.linalg.norm(feat) + 1e-9)\n",
        "\n",
        "    # LogReg probabilities\n",
        "    proba = lr_sub.predict_proba(feat[None, :])[0]\n",
        "    order = np.argsort(proba)[::-1]\n",
        "    lr1, lr2 = order[0], order[1]\n",
        "    print(f\"TRUE: {true_word}\")\n",
        "    print(f\"LR top1: {WORDS_SUB[lr1]}  p={proba[lr1]:.3f}\")\n",
        "    print(f\"LR top2: {WORDS_SUB[lr2]}  p={proba[lr2]:.3f}\")\n",
        "\n",
        "    # Prototype prediction (cosine)\n",
        "    proto_idx = int(np.argmax(feat[None,:] @ P.T))\n",
        "    cos_sim   = float(feat @ P[proto_idx])\n",
        "    print(f\"PROTO : {WORDS_SUB[proto_idx]}  cos={cos_sim:.3f}\")\n",
        "\n",
        "    # Final decision (using current config)\n",
        "    lab, conf, _ = classify_clip_skeleton_final(clip)\n",
        "    print(f\"FINAL : {lab}  conf={conf:.3f}  (thr={BEST_THR:.2f}, margin={BEST_MARGIN:.2f}, agreement={USE_AGREE})\")\n",
        "\n",
        "# Example: look at the first mis/unknown sample\n",
        "for i in range(len(Xte_keep)):\n",
        "    lab, conf, _ = classify_clip_skeleton_final(Xte_keep[i])\n",
        "    if lab == \"unknown\":\n",
        "        inspect_test(i)\n",
        "        break\n"
      ],
      "metadata": {
        "colab": {
          "base_uri": "https://localhost:8080/"
        },
        "id": "VmVdmI_6o1Zw",
        "outputId": "2b4f0040-e94f-4a9b-a839-14fdd9c3fd09"
      },
      "execution_count": null,
      "outputs": [
        {
          "output_type": "stream",
          "name": "stderr",
          "text": [
            "/usr/local/lib/python3.12/dist-packages/google/protobuf/symbol_database.py:55: UserWarning: SymbolDatabase.GetPrototype() is deprecated. Please use message_factory.GetMessageClass() instead. SymbolDatabase.GetPrototype() will be removed soon.\n",
            "  warnings.warn('SymbolDatabase.GetPrototype() is deprecated. Please '\n",
            "/usr/local/lib/python3.12/dist-packages/google/protobuf/symbol_database.py:55: UserWarning: SymbolDatabase.GetPrototype() is deprecated. Please use message_factory.GetMessageClass() instead. SymbolDatabase.GetPrototype() will be removed soon.\n",
            "  warnings.warn('SymbolDatabase.GetPrototype() is deprecated. Please '\n"
          ]
        },
        {
          "output_type": "stream",
          "name": "stdout",
          "text": [
            "TRUE: bad\n",
            "LR top1: bad  p=0.404\n",
            "LR top2: please  p=0.176\n",
            "PROTO : please  cos=0.619\n"
          ]
        },
        {
          "output_type": "stream",
          "name": "stderr",
          "text": [
            "/usr/local/lib/python3.12/dist-packages/google/protobuf/symbol_database.py:55: UserWarning: SymbolDatabase.GetPrototype() is deprecated. Please use message_factory.GetMessageClass() instead. SymbolDatabase.GetPrototype() will be removed soon.\n",
            "  warnings.warn('SymbolDatabase.GetPrototype() is deprecated. Please '\n"
          ]
        },
        {
          "output_type": "stream",
          "name": "stdout",
          "text": [
            "FINAL : unknown  conf=0.404  (thr=0.30, margin=0.00, agreement=True)\n"
          ]
        }
      ]
    },
    {
      "cell_type": "markdown",
      "source": [
        "# Cell G3 — Optional: slightly relax for more coverage (demo knob)"
      ],
      "metadata": {
        "id": "sk6ObqHZo7Fx"
      }
    },
    {
      "cell_type": "code",
      "source": [
        "# Lightly relax acceptance to reduce 'unknown' in live demo\n",
        "NEW_THR    = max(0.0, BEST_THR - 0.05)   # e.g., 0.25\n",
        "NEW_MARGIN = max(0.0, BEST_MARGIN - 0.00)  # keep 0.00\n",
        "NEW_AGREE  = False  # try disabling agreement if precision stays OK\n",
        "\n",
        "r_relaxed = eval_batch(Xte_keep, yte_keep, pthr=NEW_THR, margin=NEW_MARGIN, use_agreement=NEW_AGREE)\n",
        "print(\"Relaxed config:\", {\"thr\": NEW_THR, \"margin\": NEW_MARGIN, \"agree\": NEW_AGREE})\n",
        "print(\"TEST metrics  :\", r_relaxed)\n"
      ],
      "metadata": {
        "colab": {
          "base_uri": "https://localhost:8080/"
        },
        "id": "UzhDvXbNo-qG",
        "outputId": "d73f5d6e-bd4a-4a3f-da7f-4c7aa53f554b"
      },
      "execution_count": null,
      "outputs": [
        {
          "output_type": "stream",
          "name": "stderr",
          "text": [
            "/usr/local/lib/python3.12/dist-packages/google/protobuf/symbol_database.py:55: UserWarning: SymbolDatabase.GetPrototype() is deprecated. Please use message_factory.GetMessageClass() instead. SymbolDatabase.GetPrototype() will be removed soon.\n",
            "  warnings.warn('SymbolDatabase.GetPrototype() is deprecated. Please '\n",
            "/usr/local/lib/python3.12/dist-packages/google/protobuf/symbol_database.py:55: UserWarning: SymbolDatabase.GetPrototype() is deprecated. Please use message_factory.GetMessageClass() instead. SymbolDatabase.GetPrototype() will be removed soon.\n",
            "  warnings.warn('SymbolDatabase.GetPrototype() is deprecated. Please '\n",
            "/usr/local/lib/python3.12/dist-packages/google/protobuf/symbol_database.py:55: UserWarning: SymbolDatabase.GetPrototype() is deprecated. Please use message_factory.GetMessageClass() instead. SymbolDatabase.GetPrototype() will be removed soon.\n",
            "  warnings.warn('SymbolDatabase.GetPrototype() is deprecated. Please '\n",
            "/usr/local/lib/python3.12/dist-packages/google/protobuf/symbol_database.py:55: UserWarning: SymbolDatabase.GetPrototype() is deprecated. Please use message_factory.GetMessageClass() instead. SymbolDatabase.GetPrototype() will be removed soon.\n",
            "  warnings.warn('SymbolDatabase.GetPrototype() is deprecated. Please '\n",
            "/usr/local/lib/python3.12/dist-packages/google/protobuf/symbol_database.py:55: UserWarning: SymbolDatabase.GetPrototype() is deprecated. Please use message_factory.GetMessageClass() instead. SymbolDatabase.GetPrototype() will be removed soon.\n",
            "  warnings.warn('SymbolDatabase.GetPrototype() is deprecated. Please '\n",
            "/usr/local/lib/python3.12/dist-packages/google/protobuf/symbol_database.py:55: UserWarning: SymbolDatabase.GetPrototype() is deprecated. Please use message_factory.GetMessageClass() instead. SymbolDatabase.GetPrototype() will be removed soon.\n",
            "  warnings.warn('SymbolDatabase.GetPrototype() is deprecated. Please '\n",
            "/usr/local/lib/python3.12/dist-packages/google/protobuf/symbol_database.py:55: UserWarning: SymbolDatabase.GetPrototype() is deprecated. Please use message_factory.GetMessageClass() instead. SymbolDatabase.GetPrototype() will be removed soon.\n",
            "  warnings.warn('SymbolDatabase.GetPrototype() is deprecated. Please '\n",
            "/usr/local/lib/python3.12/dist-packages/google/protobuf/symbol_database.py:55: UserWarning: SymbolDatabase.GetPrototype() is deprecated. Please use message_factory.GetMessageClass() instead. SymbolDatabase.GetPrototype() will be removed soon.\n",
            "  warnings.warn('SymbolDatabase.GetPrototype() is deprecated. Please '\n"
          ]
        },
        {
          "output_type": "stream",
          "name": "stdout",
          "text": [
            "Relaxed config: {'thr': 0.25, 'margin': 0.0, 'agree': False}\n",
            "TEST metrics  : {'overall_acc': 0.75, 'accepted': 8, 'total': 8, 'acc_among_accepted': 0.75, 'abstain_rate': 0.0}\n"
          ]
        }
      ]
    },
    {
      "cell_type": "markdown",
      "source": [
        "# BUP-0 — Mount Drive + make safe symlinks (so writes go straight to Drive)"
      ],
      "metadata": {
        "id": "yTD8I_Ps2-0l"
      }
    },
    {
      "cell_type": "code",
      "source": [
        "from google.colab import drive\n",
        "drive.mount('/content/drive', force_remount=True)\n",
        "\n",
        "import os, shutil, time\n",
        "BASE = \"/content/drive/MyDrive/speakez\"         # single home on Drive\n",
        "os.makedirs(BASE, exist_ok=True)\n",
        "\n",
        "# Canonical Drive folders\n",
        "DRV_SPLITS_LET  = f\"{BASE}/data/splits\"\n",
        "DRV_SPLITS_WORD = f\"{BASE}/data/word_splits\"\n",
        "DRV_ART_LET     = f\"{BASE}/artifacts_letters\"\n",
        "DRV_ART_WORD    = f\"{BASE}/artifacts_words\"\n",
        "DRV_SUBMISSIONS = f\"{BASE}/submissions\"\n",
        "for p in [DRV_SPLITS_LET, DRV_SPLITS_WORD, DRV_ART_LET, DRV_ART_WORD, DRV_SUBMISSIONS]:\n",
        "    os.makedirs(p, exist_ok=True)\n",
        "\n",
        "# Point your usual /content paths *into* Drive via symlinks\n",
        "!rm -rf /content/data; mkdir -p /content/data\n",
        "!ln -sfn \"$DRV_SPLITS_LET\"  /content/data/splits\n",
        "!ln -sfn \"$DRV_SPLITS_WORD\" /content/data/word_splits\n",
        "\n",
        "!ln -sfn \"$DRV_ART_LET\"     /content/speakez_artifacts\n",
        "!ln -sfn \"$DRV_ART_WORD\"    /content/speakez_word_artifacts\n",
        "\n",
        "print(\"Letters splits  ->\", os.path.realpath(\"/content/data/splits\"))\n",
        "print(\"Words splits    ->\", os.path.realpath(\"/content/data/word_splits\"))\n",
        "print(\"Letters models  ->\", os.path.realpath(\"/content/speakez_artifacts\"))\n",
        "print(\"Words models    ->\", os.path.realpath(\"/content/speakez_word_artifacts\"))\n"
      ],
      "metadata": {
        "colab": {
          "base_uri": "https://localhost:8080/"
        },
        "id": "4PX1kgAo3BVW",
        "outputId": "71fd97c6-e30f-4aa0-a893-e6452a879457"
      },
      "execution_count": null,
      "outputs": [
        {
          "output_type": "stream",
          "name": "stdout",
          "text": [
            "Mounted at /content/drive\n",
            "Letters splits  -> /content/drive/MyDrive/speakez/data/splits\n",
            "Words splits    -> /content/drive/MyDrive/speakez/data/word_splits\n",
            "Letters models  -> /content/drive/MyDrive/speakez/artifacts_letters\n",
            "Words models    -> /content/speakez_word_artifacts\n"
          ]
        }
      ]
    },
    {
      "cell_type": "markdown",
      "source": [
        "BUP-1 — Keras “always to Drive” callbacks (history + best checkpoint + resume)\n",
        "\n",
        "Use these for letters training (or any Keras model). They save directly to Drive and also create a resumable backup."
      ],
      "metadata": {
        "id": "_XnGFMOn3clh"
      }
    },
    {
      "cell_type": "code",
      "source": [
        "import tensorflow as tf, os, json\n",
        "\n",
        "def make_callbacks(out_dir, model_stub, monitor=\"val_accuracy\"):\n",
        "    os.makedirs(out_dir, exist_ok=True)\n",
        "    ckpt = tf.keras.callbacks.ModelCheckpoint(\n",
        "        filepath=os.path.join(out_dir, f\"{model_stub}.keras\"),  # native Keras format\n",
        "        monitor=monitor, save_best_only=True, verbose=1\n",
        "    )\n",
        "    csv = tf.keras.callbacks.CSVLogger(os.path.join(out_dir, f\"{model_stub}_history.csv\"), append=False)\n",
        "    bk  = tf.keras.callbacks.BackupAndRestore(backup_dir=os.path.join(out_dir, f\"_resume/{model_stub}\"))\n",
        "    lr  = tf.keras.callbacks.ReduceLROnPlateau(monitor='val_loss', factor=0.5, patience=3, min_lr=1e-5, verbose=1)\n",
        "    es  = tf.keras.callbacks.EarlyStopping(monitor=monitor, patience=7, restore_best_weights=True, verbose=1)\n",
        "    return [ckpt, csv, bk, lr, es]\n",
        "\n",
        "# Example (letters):\n",
        "LETTERS_OUT = \"/content/speakez_artifacts\"  # points to Drive via symlink\n",
        "letters_callbacks = make_callbacks(LETTERS_OUT, \"best_asl_baseline_128\")\n",
        "print(\"Callbacks ready:\", [type(c).__name__ for c in letters_callbacks])\n"
      ],
      "metadata": {
        "colab": {
          "base_uri": "https://localhost:8080/"
        },
        "id": "21aE_ixi3dLv",
        "outputId": "748a07b4-e1b7-4bd9-a1fb-f99eed70c052"
      },
      "execution_count": null,
      "outputs": [
        {
          "output_type": "stream",
          "name": "stdout",
          "text": [
            "Callbacks ready: ['ModelCheckpoint', 'CSVLogger', 'BackupAndRestore', 'ReduceLROnPlateau', 'EarlyStopping']\n"
          ]
        }
      ]
    },
    {
      "cell_type": "markdown",
      "source": [
        "BUP-1 — Keras “always to Drive” callbacks (history + best checkpoint + resume)"
      ],
      "metadata": {
        "id": "BB19YvGN3uTr"
      }
    },
    {
      "cell_type": "code",
      "source": [
        "import tensorflow as tf, os, json\n",
        "\n",
        "def make_callbacks(out_dir, model_stub, monitor=\"val_accuracy\"):\n",
        "    os.makedirs(out_dir, exist_ok=True)\n",
        "    ckpt = tf.keras.callbacks.ModelCheckpoint(\n",
        "        filepath=os.path.join(out_dir, f\"{model_stub}.keras\"),  # native Keras format\n",
        "        monitor=monitor, save_best_only=True, verbose=1\n",
        "    )\n",
        "    csv = tf.keras.callbacks.CSVLogger(os.path.join(out_dir, f\"{model_stub}_history.csv\"), append=False)\n",
        "    bk  = tf.keras.callbacks.BackupAndRestore(backup_dir=os.path.join(out_dir, f\"_resume/{model_stub}\"))\n",
        "    lr  = tf.keras.callbacks.ReduceLROnPlateau(monitor='val_loss', factor=0.5, patience=3, min_lr=1e-5, verbose=1)\n",
        "    es  = tf.keras.callbacks.EarlyStopping(monitor=monitor, patience=7, restore_best_weights=True, verbose=1)\n",
        "    return [ckpt, csv, bk, lr, es]\n",
        "\n",
        "# Example (letters):\n",
        "LETTERS_OUT = \"/content/speakez_artifacts\"  # points to Drive via symlink\n",
        "letters_callbacks = make_callbacks(LETTERS_OUT, \"best_asl_baseline_128\")\n",
        "print(\"Callbacks ready:\", [type(c).__name__ for c in letters_callbacks])\n"
      ],
      "metadata": {
        "colab": {
          "base_uri": "https://localhost:8080/"
        },
        "id": "5orNPqSu3viU",
        "outputId": "b3930990-5acc-4856-a8de-bc2cf81f9154"
      },
      "execution_count": null,
      "outputs": [
        {
          "output_type": "stream",
          "name": "stdout",
          "text": [
            "Callbacks ready: ['ModelCheckpoint', 'CSVLogger', 'BackupAndRestore', 'ReduceLROnPlateau', 'EarlyStopping']\n"
          ]
        }
      ]
    },
    {
      "cell_type": "markdown",
      "source": [
        "BUP-2 — “One-click snapshot” (datasets + artifacts → timestamped ZIP on Drive)"
      ],
      "metadata": {
        "id": "EBdzk1lD4AY9"
      }
    },
    {
      "cell_type": "code",
      "source": [
        "import os, time, zipfile, glob, json\n",
        "STAMP = time.strftime(\"%Y%m%d-%H%M\")\n",
        "SUBDIR = f\"/content/drive/MyDrive/speakez/submissions/snapshot_{STAMP}\"\n",
        "os.makedirs(SUBDIR, exist_ok=True)\n",
        "\n",
        "INCLUDE_DIRS = [\n",
        "    \"/content/data/splits\",\n",
        "    \"/content/data/word_splits\",\n",
        "    \"/content/speakez_artifacts\",\n",
        "    \"/content/speakez_word_artifacts\",\n",
        "]\n",
        "ZIP_PATH = os.path.join(SUBDIR, f\"speakez_snapshot_{STAMP}.zip\")\n",
        "\n",
        "def add_dir(zf, root, arc_root):\n",
        "    for path in glob.glob(os.path.join(root, \"**\"), recursive=True):\n",
        "        if os.path.isdir(path): continue\n",
        "        arcname = os.path.join(arc_root, os.path.relpath(path, root))\n",
        "        zf.write(path, arcname)\n",
        "\n",
        "with zipfile.ZipFile(ZIP_PATH, \"w\", compression=zipfile.ZIP_DEFLATED) as zf:\n",
        "    for d in INCLUDE_DIRS:\n",
        "        if os.path.exists(d):\n",
        "            add_dir(zf, d, os.path.basename(d))\n",
        "print(\"Snapshot at:\", ZIP_PATH)\n"
      ],
      "metadata": {
        "colab": {
          "base_uri": "https://localhost:8080/",
          "height": 339
        },
        "id": "uzIUc3Fd4BJk",
        "outputId": "ffe6ccd1-32bd-4b2b-f63c-045b975c6dbc"
      },
      "execution_count": null,
      "outputs": [
        {
          "output_type": "error",
          "ename": "KeyboardInterrupt",
          "evalue": "",
          "traceback": [
            "\u001b[0;31m---------------------------------------------------------------------------\u001b[0m",
            "\u001b[0;31mKeyboardInterrupt\u001b[0m                         Traceback (most recent call last)",
            "\u001b[0;32m/tmp/ipython-input-218518122.py\u001b[0m in \u001b[0;36m<cell line: 0>\u001b[0;34m()\u001b[0m\n\u001b[1;32m     21\u001b[0m     \u001b[0;32mfor\u001b[0m \u001b[0md\u001b[0m \u001b[0;32min\u001b[0m \u001b[0mINCLUDE_DIRS\u001b[0m\u001b[0;34m:\u001b[0m\u001b[0;34m\u001b[0m\u001b[0;34m\u001b[0m\u001b[0m\n\u001b[1;32m     22\u001b[0m         \u001b[0;32mif\u001b[0m \u001b[0mos\u001b[0m\u001b[0;34m.\u001b[0m\u001b[0mpath\u001b[0m\u001b[0;34m.\u001b[0m\u001b[0mexists\u001b[0m\u001b[0;34m(\u001b[0m\u001b[0md\u001b[0m\u001b[0;34m)\u001b[0m\u001b[0;34m:\u001b[0m\u001b[0;34m\u001b[0m\u001b[0;34m\u001b[0m\u001b[0m\n\u001b[0;32m---> 23\u001b[0;31m             \u001b[0madd_dir\u001b[0m\u001b[0;34m(\u001b[0m\u001b[0mzf\u001b[0m\u001b[0;34m,\u001b[0m \u001b[0md\u001b[0m\u001b[0;34m,\u001b[0m \u001b[0mos\u001b[0m\u001b[0;34m.\u001b[0m\u001b[0mpath\u001b[0m\u001b[0;34m.\u001b[0m\u001b[0mbasename\u001b[0m\u001b[0;34m(\u001b[0m\u001b[0md\u001b[0m\u001b[0;34m)\u001b[0m\u001b[0;34m)\u001b[0m\u001b[0;34m\u001b[0m\u001b[0;34m\u001b[0m\u001b[0m\n\u001b[0m\u001b[1;32m     24\u001b[0m \u001b[0mprint\u001b[0m\u001b[0;34m(\u001b[0m\u001b[0;34m\"Snapshot at:\"\u001b[0m\u001b[0;34m,\u001b[0m \u001b[0mZIP_PATH\u001b[0m\u001b[0;34m)\u001b[0m\u001b[0;34m\u001b[0m\u001b[0;34m\u001b[0m\u001b[0m\n",
            "\u001b[0;32m/tmp/ipython-input-218518122.py\u001b[0m in \u001b[0;36madd_dir\u001b[0;34m(zf, root, arc_root)\u001b[0m\n\u001b[1;32m     16\u001b[0m         \u001b[0;32mif\u001b[0m \u001b[0mos\u001b[0m\u001b[0;34m.\u001b[0m\u001b[0mpath\u001b[0m\u001b[0;34m.\u001b[0m\u001b[0misdir\u001b[0m\u001b[0;34m(\u001b[0m\u001b[0mpath\u001b[0m\u001b[0;34m)\u001b[0m\u001b[0;34m:\u001b[0m \u001b[0;32mcontinue\u001b[0m\u001b[0;34m\u001b[0m\u001b[0;34m\u001b[0m\u001b[0m\n\u001b[1;32m     17\u001b[0m         \u001b[0marcname\u001b[0m \u001b[0;34m=\u001b[0m \u001b[0mos\u001b[0m\u001b[0;34m.\u001b[0m\u001b[0mpath\u001b[0m\u001b[0;34m.\u001b[0m\u001b[0mjoin\u001b[0m\u001b[0;34m(\u001b[0m\u001b[0marc_root\u001b[0m\u001b[0;34m,\u001b[0m \u001b[0mos\u001b[0m\u001b[0;34m.\u001b[0m\u001b[0mpath\u001b[0m\u001b[0;34m.\u001b[0m\u001b[0mrelpath\u001b[0m\u001b[0;34m(\u001b[0m\u001b[0mpath\u001b[0m\u001b[0;34m,\u001b[0m \u001b[0mroot\u001b[0m\u001b[0;34m)\u001b[0m\u001b[0;34m)\u001b[0m\u001b[0;34m\u001b[0m\u001b[0;34m\u001b[0m\u001b[0m\n\u001b[0;32m---> 18\u001b[0;31m         \u001b[0mzf\u001b[0m\u001b[0;34m.\u001b[0m\u001b[0mwrite\u001b[0m\u001b[0;34m(\u001b[0m\u001b[0mpath\u001b[0m\u001b[0;34m,\u001b[0m \u001b[0marcname\u001b[0m\u001b[0;34m)\u001b[0m\u001b[0;34m\u001b[0m\u001b[0;34m\u001b[0m\u001b[0m\n\u001b[0m\u001b[1;32m     19\u001b[0m \u001b[0;34m\u001b[0m\u001b[0m\n\u001b[1;32m     20\u001b[0m \u001b[0;32mwith\u001b[0m \u001b[0mzipfile\u001b[0m\u001b[0;34m.\u001b[0m\u001b[0mZipFile\u001b[0m\u001b[0;34m(\u001b[0m\u001b[0mZIP_PATH\u001b[0m\u001b[0;34m,\u001b[0m \u001b[0;34m\"w\"\u001b[0m\u001b[0;34m,\u001b[0m \u001b[0mcompression\u001b[0m\u001b[0;34m=\u001b[0m\u001b[0mzipfile\u001b[0m\u001b[0;34m.\u001b[0m\u001b[0mZIP_DEFLATED\u001b[0m\u001b[0;34m)\u001b[0m \u001b[0;32mas\u001b[0m \u001b[0mzf\u001b[0m\u001b[0;34m:\u001b[0m\u001b[0;34m\u001b[0m\u001b[0;34m\u001b[0m\u001b[0m\n",
            "\u001b[0;32m/usr/lib/python3.12/zipfile/__init__.py\u001b[0m in \u001b[0;36mwrite\u001b[0;34m(self, filename, arcname, compress_type, compresslevel)\u001b[0m\n\u001b[1;32m   1871\u001b[0m \u001b[0;34m\u001b[0m\u001b[0m\n\u001b[1;32m   1872\u001b[0m             \u001b[0;32mwith\u001b[0m \u001b[0mopen\u001b[0m\u001b[0;34m(\u001b[0m\u001b[0mfilename\u001b[0m\u001b[0;34m,\u001b[0m \u001b[0;34m\"rb\"\u001b[0m\u001b[0;34m)\u001b[0m \u001b[0;32mas\u001b[0m \u001b[0msrc\u001b[0m\u001b[0;34m,\u001b[0m \u001b[0mself\u001b[0m\u001b[0;34m.\u001b[0m\u001b[0mopen\u001b[0m\u001b[0;34m(\u001b[0m\u001b[0mzinfo\u001b[0m\u001b[0;34m,\u001b[0m \u001b[0;34m'w'\u001b[0m\u001b[0;34m)\u001b[0m \u001b[0;32mas\u001b[0m \u001b[0mdest\u001b[0m\u001b[0;34m:\u001b[0m\u001b[0;34m\u001b[0m\u001b[0;34m\u001b[0m\u001b[0m\n\u001b[0;32m-> 1873\u001b[0;31m                 \u001b[0mshutil\u001b[0m\u001b[0;34m.\u001b[0m\u001b[0mcopyfileobj\u001b[0m\u001b[0;34m(\u001b[0m\u001b[0msrc\u001b[0m\u001b[0;34m,\u001b[0m \u001b[0mdest\u001b[0m\u001b[0;34m,\u001b[0m \u001b[0;36m1024\u001b[0m\u001b[0;34m*\u001b[0m\u001b[0;36m8\u001b[0m\u001b[0;34m)\u001b[0m\u001b[0;34m\u001b[0m\u001b[0;34m\u001b[0m\u001b[0m\n\u001b[0m\u001b[1;32m   1874\u001b[0m \u001b[0;34m\u001b[0m\u001b[0m\n\u001b[1;32m   1875\u001b[0m     def writestr(self, zinfo_or_arcname, data,\n",
            "\u001b[0;32m/usr/lib/python3.12/shutil.py\u001b[0m in \u001b[0;36mcopyfileobj\u001b[0;34m(fsrc, fdst, length)\u001b[0m\n\u001b[1;32m    202\u001b[0m     \u001b[0mfdst_write\u001b[0m \u001b[0;34m=\u001b[0m \u001b[0mfdst\u001b[0m\u001b[0;34m.\u001b[0m\u001b[0mwrite\u001b[0m\u001b[0;34m\u001b[0m\u001b[0;34m\u001b[0m\u001b[0m\n\u001b[1;32m    203\u001b[0m     \u001b[0;32mwhile\u001b[0m \u001b[0mbuf\u001b[0m \u001b[0;34m:=\u001b[0m \u001b[0mfsrc_read\u001b[0m\u001b[0;34m(\u001b[0m\u001b[0mlength\u001b[0m\u001b[0;34m)\u001b[0m\u001b[0;34m:\u001b[0m\u001b[0;34m\u001b[0m\u001b[0;34m\u001b[0m\u001b[0m\n\u001b[0;32m--> 204\u001b[0;31m         \u001b[0mfdst_write\u001b[0m\u001b[0;34m(\u001b[0m\u001b[0mbuf\u001b[0m\u001b[0;34m)\u001b[0m\u001b[0;34m\u001b[0m\u001b[0;34m\u001b[0m\u001b[0m\n\u001b[0m\u001b[1;32m    205\u001b[0m \u001b[0;34m\u001b[0m\u001b[0m\n\u001b[1;32m    206\u001b[0m \u001b[0;32mdef\u001b[0m \u001b[0m_samefile\u001b[0m\u001b[0;34m(\u001b[0m\u001b[0msrc\u001b[0m\u001b[0;34m,\u001b[0m \u001b[0mdst\u001b[0m\u001b[0;34m)\u001b[0m\u001b[0;34m:\u001b[0m\u001b[0;34m\u001b[0m\u001b[0;34m\u001b[0m\u001b[0m\n",
            "\u001b[0;32m/usr/lib/python3.12/zipfile/__init__.py\u001b[0m in \u001b[0;36mwrite\u001b[0;34m(self, data)\u001b[0m\n\u001b[1;32m   1217\u001b[0m         \u001b[0mself\u001b[0m\u001b[0;34m.\u001b[0m\u001b[0m_crc\u001b[0m \u001b[0;34m=\u001b[0m \u001b[0mcrc32\u001b[0m\u001b[0;34m(\u001b[0m\u001b[0mdata\u001b[0m\u001b[0;34m,\u001b[0m \u001b[0mself\u001b[0m\u001b[0;34m.\u001b[0m\u001b[0m_crc\u001b[0m\u001b[0;34m)\u001b[0m\u001b[0;34m\u001b[0m\u001b[0;34m\u001b[0m\u001b[0m\n\u001b[1;32m   1218\u001b[0m         \u001b[0;32mif\u001b[0m \u001b[0mself\u001b[0m\u001b[0;34m.\u001b[0m\u001b[0m_compressor\u001b[0m\u001b[0;34m:\u001b[0m\u001b[0;34m\u001b[0m\u001b[0;34m\u001b[0m\u001b[0m\n\u001b[0;32m-> 1219\u001b[0;31m             \u001b[0mdata\u001b[0m \u001b[0;34m=\u001b[0m \u001b[0mself\u001b[0m\u001b[0;34m.\u001b[0m\u001b[0m_compressor\u001b[0m\u001b[0;34m.\u001b[0m\u001b[0mcompress\u001b[0m\u001b[0;34m(\u001b[0m\u001b[0mdata\u001b[0m\u001b[0;34m)\u001b[0m\u001b[0;34m\u001b[0m\u001b[0;34m\u001b[0m\u001b[0m\n\u001b[0m\u001b[1;32m   1220\u001b[0m             \u001b[0mself\u001b[0m\u001b[0;34m.\u001b[0m\u001b[0m_compress_size\u001b[0m \u001b[0;34m+=\u001b[0m \u001b[0mlen\u001b[0m\u001b[0;34m(\u001b[0m\u001b[0mdata\u001b[0m\u001b[0;34m)\u001b[0m\u001b[0;34m\u001b[0m\u001b[0;34m\u001b[0m\u001b[0m\n\u001b[1;32m   1221\u001b[0m         \u001b[0mself\u001b[0m\u001b[0;34m.\u001b[0m\u001b[0m_fileobj\u001b[0m\u001b[0;34m.\u001b[0m\u001b[0mwrite\u001b[0m\u001b[0;34m(\u001b[0m\u001b[0mdata\u001b[0m\u001b[0;34m)\u001b[0m\u001b[0;34m\u001b[0m\u001b[0;34m\u001b[0m\u001b[0m\n",
            "\u001b[0;31mKeyboardInterrupt\u001b[0m: "
          ]
        }
      ]
    },
    {
      "cell_type": "markdown",
      "source": [
        "BUP-3 — Words artifacts: always save to Drive (no Keras)"
      ],
      "metadata": {
        "id": "qXMHQfA05hjX"
      }
    },
    {
      "cell_type": "code",
      "source": [
        "# Example after you fit the LogisticRegression 'lr_sub' and choose thresholds/subset:\n",
        "import joblib, json, numpy as np, os\n",
        "\n",
        "ART = \"/content/speakez_word_artifacts\"  # Drive\n",
        "os.makedirs(ART, exist_ok=True)\n",
        "\n",
        "# Required artifacts to persist:\n",
        "# - lr_sub (joblib), thresholds.json, words_subset.json, (optional) prototypes npz\n",
        "joblib.dump(lr_sub, os.path.join(ART, \"word_skel_logreg_8.joblib\"))\n",
        "json.dump({\"prob_threshold\": 0.25, \"top2_margin\": 0.00, \"agreement\": False},\n",
        "          open(os.path.join(ART, \"thresholds.json\"), \"w\"), indent=2)\n",
        "json.dump({\"ids\": list(range(len(WORDS))), \"words\": WORDS},\n",
        "          open(os.path.join(ART, \"words_subset.json\"), \"w\"), indent=2)\n",
        "\n",
        "# (Optional) save prototypes if you computed them\n",
        "# np.savez(os.path.join(ART, \"word_skel_prototypes_8.npz\"), protos=P, words=np.array(WORDS, dtype=object))\n",
        "\n",
        "print(\"Saved to Drive:\", os.listdir(ART))\n"
      ],
      "metadata": {
        "id": "T_7I_M225iQN"
      },
      "execution_count": null,
      "outputs": []
    },
    {
      "cell_type": "markdown",
      "source": [
        "BUP-4 — Quick integrity check (shapes + files exist)"
      ],
      "metadata": {
        "id": "iuloGQq45kJZ"
      }
    },
    {
      "cell_type": "code",
      "source": [
        "import numpy as np, os, json, glob\n",
        "\n",
        "def exists(p): return \"OK\" if os.path.exists(p) else \"MISSING\"\n",
        "\n",
        "print(\"Letters splits:\",\n",
        "      exists(\"/content/data/splits/X_train.npy\"),\n",
        "      exists(\"/content/data/splits/X_val.npy\"),\n",
        "      exists(\"/content/data/splits/X_test.npy\"))\n",
        "\n",
        "print(\"Letters model:\",\n",
        "      exists(\"/content/speakez_artifacts/best_asl_baseline_128.keras\"))\n",
        "\n",
        "print(\"Words splits:\",\n",
        "      exists(\"/content/data/word_splits/X_train.npy\"),\n",
        "      exists(\"/content/data/word_splits/labels.json\"))\n",
        "\n",
        "print(\"Words artifacts:\",\n",
        "      exists(\"/content/speakez_word_artifacts/word_skel_logreg_8.joblib\"),\n",
        "      exists(\"/content/speakez_word_artifacts/thresholds.json\"),\n",
        "      exists(\"/content/speakez_word_artifacts/words_subset.json\"))\n"
      ],
      "metadata": {
        "id": "IYlcXGew5miF"
      },
      "execution_count": null,
      "outputs": []
    },
    {
      "cell_type": "markdown",
      "source": [
        "SNAP-0 — Snapshot utilities (zip + checksums)"
      ],
      "metadata": {
        "id": "A5bfJm4dAmz5"
      }
    },
    {
      "cell_type": "code",
      "source": [
        "import os, time, glob, json, hashlib, zipfile\n",
        "from pathlib import Path\n",
        "\n",
        "BASE = \"/content/drive/MyDrive/speakez\"\n",
        "SUBM = f\"{BASE}/submissions\"\n",
        "os.makedirs(SUBM, exist_ok=True)\n",
        "\n",
        "# What to include by default (all are on Drive via BUP-0 symlinks)\n",
        "INCLUDE_MODELS = [\n",
        "    \"/content/speakez_artifacts\",        # letters artifacts\n",
        "    \"/content/speakez_word_artifacts\",   # words artifacts\n",
        "]\n",
        "INCLUDE_SPLITS = [\n",
        "    \"/content/data/splits\",              # letters npy splits\n",
        "    \"/content/data/word_splits\",         # words npy splits\n",
        "]\n",
        "\n",
        "def _sha256(path):\n",
        "    h = hashlib.sha256()\n",
        "    with open(path, \"rb\") as f:\n",
        "        for chunk in iter(lambda: f.read(1<<20), b\"\"):\n",
        "            h.update(chunk)\n",
        "    return h.hexdigest()\n",
        "\n",
        "def make_snapshot_zip(tag=\"run\", include_splits=False, extra_paths=None, epoch=None):\n",
        "    \"\"\"\n",
        "    Create a timestamped zip under Drive with (models [+ splits]).\n",
        "    Returns (zip_path, checksums_path).\n",
        "    \"\"\"\n",
        "    stamp = time.strftime(\"%Y%m%d-%H%M%S\")\n",
        "    suffix = f\"{tag}_e{epoch:03d}\" if epoch is not None else tag\n",
        "    out_dir = Path(SUBM) / f\"snapshot_{stamp}_{suffix}\"\n",
        "    out_dir.mkdir(parents=True, exist_ok=True)\n",
        "    zip_path = out_dir / f\"speakez_{suffix}.zip\"\n",
        "\n",
        "    include_dirs = list(INCLUDE_MODELS)\n",
        "    if include_splits:\n",
        "        include_dirs += INCLUDE_SPLITS\n",
        "    if extra_paths:\n",
        "        include_dirs += list(extra_paths)\n",
        "\n",
        "    with zipfile.ZipFile(zip_path, \"w\", compression=zipfile.ZIP_DEFLATED) as zf:\n",
        "        for root in include_dirs:\n",
        "            if not os.path.exists(root):\n",
        "                print(\"skip (missing):\", root);\n",
        "                continue\n",
        "            for f in glob.glob(os.path.join(root, \"**\"), recursive=True):\n",
        "                if os.path.isdir(f):\n",
        "                    continue\n",
        "                arcname = os.path.relpath(f, start=\"/content\")\n",
        "                zf.write(f, arcname)\n",
        "\n",
        "    # checksums for integrity\n",
        "    checks = {}\n",
        "    for f in glob.glob(str(zip_path)):\n",
        "        checks[os.path.basename(f)] = {\"sha256\": _sha256(f), \"bytes\": os.path.getsize(f)}\n",
        "    checks_path = out_dir / \"CHECKSUMS.json\"\n",
        "    with open(checks_path, \"w\") as fp:\n",
        "        json.dump(checks, fp, indent=2)\n",
        "\n",
        "    print(\"Snapshot created:\", zip_path)\n",
        "    print(\"Checksums:\", checks_path)\n",
        "    return str(zip_path), str(checks_path)\n"
      ],
      "metadata": {
        "id": "cOPTqKj_AnlX"
      },
      "execution_count": null,
      "outputs": []
    },
    {
      "cell_type": "markdown",
      "source": [
        "SNAP-1 — Keras callback to snapshot every N epochs (and at the end)"
      ],
      "metadata": {
        "id": "Be5unik4ApY5"
      }
    },
    {
      "cell_type": "code",
      "source": [
        "import tensorflow as tf\n",
        "\n",
        "class SnapshotZipCallback(tf.keras.callbacks.Callback):\n",
        "    def __init__(self, every=5, include_splits=\"first\", tag=\"letters\"):\n",
        "        \"\"\"\n",
        "        every: snapshot cadence in epochs (e.g., 5)\n",
        "        include_splits: False | True | \"first\"\n",
        "        tag: label in filenames (e.g., 'letters' or 'words')\n",
        "        \"\"\"\n",
        "        super().__init__()\n",
        "        self.every = max(1, int(every))\n",
        "        self.include_splits = include_splits\n",
        "        self.tag = tag\n",
        "        self._did_full = False\n",
        "\n",
        "    def _do_snapshot(self, epoch=None, force_full=False):\n",
        "        include = False\n",
        "        if self.include_splits is True or force_full:\n",
        "            include = True\n",
        "        elif self.include_splits == \"first\" and not self._did_full:\n",
        "            include = True\n",
        "            self._did_full = True\n",
        "        make_snapshot_zip(tag=self.tag, include_splits=include, epoch=(epoch if epoch is not None else None))\n",
        "\n",
        "    def on_epoch_end(self, epoch, logs=None):\n",
        "        # 1-based display\n",
        "        if ((epoch + 1) % self.every) == 0:\n",
        "            self._do_snapshot(epoch=(epoch+1))\n",
        "\n",
        "    def on_train_end(self, logs=None):\n",
        "        # Always snapshot at the end; don't repeat huge splits unless asked\n",
        "        self._do_snapshot(epoch=None, force_full=False)\n",
        "        print(\"[SnapshotZipCallback] Final snapshot complete.\")\n"
      ],
      "metadata": {
        "id": "g2-dQXWsAsLh"
      },
      "execution_count": null,
      "outputs": []
    },
    {
      "cell_type": "markdown",
      "source": [
        "SNAP-2 — One-shot snapshot after words artifacts are saved"
      ],
      "metadata": {
        "id": "upM30fkHAv9g"
      }
    },
    {
      "cell_type": "code",
      "source": [
        "# After you run your words pipeline and save artifacts to /content/speakez_word_artifacts:\n",
        "make_snapshot_zip(tag=\"words\", include_splits=True)\n"
      ],
      "metadata": {
        "id": "KTIhtYyAAwkU"
      },
      "execution_count": null,
      "outputs": []
    },
    {
      "cell_type": "markdown",
      "source": [
        "SNAP-3 — Manual “NOW” snapshot button (handy anywhere)"
      ],
      "metadata": {
        "id": "0LZ5WqxOAyrr"
      }
    },
    {
      "cell_type": "code",
      "source": [
        "# Call this anytime you want an immediate full snapshot during a session:\n",
        "_ = make_snapshot_zip(tag=\"manual\", include_splits=True)\n"
      ],
      "metadata": {
        "id": "YMxIZUCsA04a"
      },
      "execution_count": null,
      "outputs": []
    },
    {
      "cell_type": "markdown",
      "source": [
        "Plan for the UI we only need these artefacts:\n",
        "\n",
        "Must-have (load at runtime)\n",
        "\n",
        "Letters (A–Z + SPACE/DEL/NOTHING)\n",
        "\n",
        "/content/speakez_artifacts/best_asl_baseline_128.h5\n",
        "(or the same model saved as best_asl_baseline_128.keras; either is fine in the UI code)\n",
        "\n",
        "Words (8-class skeleton LogReg)\n",
        "\n",
        "/content/speakez_word_artifacts/word_skel_logreg_8.joblib\n",
        "\n",
        "/content/speakez_word_artifacts/thresholds.json (use: prob_threshold=0.25, top2_margin=0.00, agreement=false)\n",
        "\n",
        "/content/speakez_word_artifacts/words_subset.json (contains the 8 words: [\"yes\",\"no\",\"please\",\"stop\",\"bad\",\"sorry\",\"help\",\"hello\"])\n",
        "\n",
        "Nice-to-have (only if you want the “agreement” rule)\n",
        "\n",
        "/content/speakez_word_artifacts/word_skel_prototypes_8.npz\n",
        "\n",
        "You do not need the experimental clip encoders (best_word_mnet_tavg*.h5) for the UI we built. 👍"
      ],
      "metadata": {
        "id": "SLa32phcCuYv"
      }
    },
    {
      "cell_type": "code",
      "source": [
        "#Quick verify cell (run in Colab)\n",
        "import os, json\n",
        "\n",
        "must = [\n",
        "  \"/content/speakez_artifacts/best_asl_baseline_128.h5\",\n",
        "  \"/content/speakez_word_artifacts/word_skel_logreg_8.joblib\",\n",
        "  \"/content/speakez_word_artifacts/thresholds.json\",\n",
        "  \"/content/speakez_word_artifacts/words_subset.json\",\n",
        "]\n",
        "nice = [\"/content/speakez_word_artifacts/word_skel_prototypes_8.npz\"]\n",
        "\n",
        "def stat(p):\n",
        "    return (\"OK\", os.path.getsize(p)) if os.path.exists(p) else (\"MISSING\", 0)\n",
        "\n",
        "print(\"== MUST-HAVE ==\")\n",
        "for p in must:\n",
        "    s, sz = stat(p); print(f\"{s:8} {sz:10,d}  {p}\")\n",
        "\n",
        "print(\"\\n== NICE-TO-HAVE ==\")\n",
        "for p in nice:\n",
        "    s, sz = stat(p); print(f\"{s:8} {sz:10,d}  {p}\")\n",
        "\n",
        "# Optional: show thresholds + words loaded\n",
        "try:\n",
        "    thr = json.load(open(\"/content/speakez_word_artifacts/thresholds.json\"))\n",
        "    words = json.load(open(\"/content/speakez_word_artifacts/words_subset.json\"))[\"words\"]\n",
        "    print(\"\\nConfig:\", thr, \"\\nWords subset:\", words)\n",
        "except Exception as e:\n",
        "    print(\"\\nConfig check skipped:\", e)\n"
      ],
      "metadata": {
        "colab": {
          "base_uri": "https://localhost:8080/"
        },
        "id": "nZ_QDTfiCx-C",
        "outputId": "cf84f067-152e-4717-8a4f-4db4ae641d0f"
      },
      "execution_count": null,
      "outputs": [
        {
          "output_type": "stream",
          "name": "stdout",
          "text": [
            "== MUST-HAVE ==\n",
            "MISSING           0  /content/speakez_artifacts/best_asl_baseline_128.h5\n",
            "OK           11,863  /content/speakez_word_artifacts/word_skel_logreg_8.joblib\n",
            "OK               70  /content/speakez_word_artifacts/thresholds.json\n",
            "OK              186  /content/speakez_word_artifacts/words_subset.json\n",
            "\n",
            "== NICE-TO-HAVE ==\n",
            "OK            6,140  /content/speakez_word_artifacts/word_skel_prototypes_8.npz\n",
            "\n",
            "Config: {'prob_threshold': 0.3, 'top2_margin': 0.0, 'agreement': True} \n",
            "Words subset: ['yes', 'no', 'please', 'stop', 'bad', 'sorry', 'help', 'hello']\n"
          ]
        }
      ]
    },
    {
      "cell_type": "markdown",
      "source": [
        "One-click “rescue” (zip the exact files to Drive)"
      ],
      "metadata": {
        "id": "yvg38uNCC4Wc"
      }
    },
    {
      "cell_type": "code",
      "source": [
        "import os, time, zipfile, pathlib\n",
        "from google.colab import drive\n",
        "drive.mount('/content/drive', force_remount=True)\n",
        "\n",
        "OUT_DIR = \"/content/drive/MyDrive/speakez/submissions\"\n",
        "os.makedirs(OUT_DIR, exist_ok=True)\n",
        "stamp = time.strftime(\"%Y%m%d-%H%M%S\")\n",
        "zip_path = f\"{OUT_DIR}/speakez_UI_models_{stamp}.zip\"\n",
        "\n",
        "files = [\n",
        "  \"/content/speakez_artifacts/best_asl_baseline_128.h5\",\n",
        "  \"/content/speakez_word_artifacts/word_skel_logreg_8.joblib\",\n",
        "  \"/content/speakez_word_artifacts/thresholds.json\",\n",
        "  \"/content/speakez_word_artifacts/words_subset.json\",\n",
        "  \"/content/speakez_word_artifacts/word_skel_prototypes_8.npz\", # ok if missing\n",
        "]\n",
        "\n",
        "with zipfile.ZipFile(zip_path, \"w\", compression=zipfile.ZIP_DEFLATED) as zf:\n",
        "    for f in files:\n",
        "        if os.path.exists(f):\n",
        "            zf.write(f, arcname=os.path.relpath(f, \"/content\"))\n",
        "        else:\n",
        "            print(\"SKIP (missing):\", f)\n",
        "\n",
        "print(\"Rescued zip:\", zip_path)\n"
      ],
      "metadata": {
        "colab": {
          "base_uri": "https://localhost:8080/"
        },
        "id": "2mZCK39dC68X",
        "outputId": "e73af151-9e9d-4f7d-e7d2-921eeb6183a5"
      },
      "execution_count": null,
      "outputs": [
        {
          "output_type": "stream",
          "name": "stdout",
          "text": [
            "Mounted at /content/drive\n",
            "SKIP (missing): /content/speakez_artifacts/best_asl_baseline_128.h5\n",
            "Rescued zip: /content/drive/MyDrive/speakez/submissions/speakez_UI_models_20251006-055007.zip\n"
          ]
        }
      ]
    }
  ]
}